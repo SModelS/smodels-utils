{
 "cells": [
  {
   "cell_type": "code",
   "execution_count": 1,
   "id": "3b66d67c",
   "metadata": {},
   "outputs": [
    {
     "name": "stdout",
     "output_type": "stream",
     "text": [
      "[SModelS:pyhfInterface] WARNING could not set pytorch as the pyhf backend, falling back to the default.\n",
      "[SModelS:pyhfInterface] We however recommend that pytorch be installed.\n"
     ]
    }
   ],
   "source": [
    "#import smodels modules\n",
    "\n",
    "import numpy as np\n",
    "\n",
    "from smodels.tools import runtime\n",
    "# Define your model (list of BSM particles)\n",
    "runtime.modelFile = 'smodels.share.models.mssm'\n",
    "\n",
    "from smodels.theory import decomposer\n",
    "from smodels.tools.physicsUnits import fb, GeV, TeV\n",
    "from smodels.theory.theoryPrediction import theoryPredictionsFor, TheoryPredictionsCombiner\n",
    "from smodels.experiment.databaseObj import Database\n",
    "from smodels.tools import coverage\n",
    "from smodels.tools.smodelsLogging import setLogLevel\n",
    "from smodels.particlesLoader import BSMList\n",
    "from smodels.share.models.SMparticles import SMList\n",
    "from smodels.theory.model import Model\n",
    "import time\n",
    "\n",
    "setLogLevel(\"info\")"
   ]
  },
  {
   "cell_type": "code",
   "execution_count": 2,
   "id": "47d45ec2",
   "metadata": {},
   "outputs": [],
   "source": [
    "#import taco modules\n",
    "import sys, os\n",
    "sys.path.insert(0, os.path.expanduser(\"~/taco_code\"))\n",
    "\n",
    "import numpy as np\n",
    "from codes.Full_SR_Ranking.pathfinder.path_finder import PathFinder"
   ]
  },
  {
   "cell_type": "markdown",
   "id": "e8a4a018",
   "metadata": {},
   "source": [
    "## Input array of True/False manually"
   ]
  },
  {
   "cell_type": "code",
   "execution_count": 100,
   "id": "a9aaf5f6",
   "metadata": {},
   "outputs": [],
   "source": [
    "listOfAna = ['ATLAS-SUSY-2018-05-ewk', 'ATLAS-SUSY-2018-06', 'ATLAS-SUSY-2018-32',\n",
    "             'ATLAS-SUSY-2018-41','ATLAS-SUSY-2019-02','ATLAS-SUSY-2019-08', 'ATLAS-SUSY-2019-09',\n",
    "             'CMS-SUS-20-004', 'CMS-SUS-21-002']\n",
    "#comb_matrix = np.array([[False,True,True,True,True,True,True,True,True],\n",
    "#                        [True,False,True,True,True,True,False,True,True],\n",
    "#                        [True,True,False,True,False,True,True,True,True], \n",
    "#                        [True,True,True,False,True,True,True,True,True],\n",
    "#                        [True,True,False,True,False,True,True,True,True],\n",
    "#                        [True,True,True,True,True,False,True,True,True],\n",
    "#                        [True,False,True,True,True,True,False,True,True],\n",
    "#                        [True,True,True,True,True,True,True,False,False],\n",
    "#                        [True,True,True,True,True,True,True,False,False]])\n",
    "\n",
    "#np.array(~comb_matrix, dtype=int)"
   ]
  },
  {
   "cell_type": "markdown",
   "id": "650aa39a",
   "metadata": {},
   "source": [
    "# Dictionary of Combinations"
   ]
  },
  {
   "cell_type": "code",
   "execution_count": 101,
   "id": "51799319",
   "metadata": {},
   "outputs": [],
   "source": [
    "allo = {\"ATLAS-SUSY-2018-05-ewk\":['ATLAS-SUSY-2018-06', 'ATLAS-SUSY-2018-32','ATLAS-SUSY-2018-41',\n",
    "                                  'ATLAS-SUSY-2019-02','ATLAS-SUSY-2019-08', 'ATLAS-SUSY-2019-09',\n",
    "                                  'CMS-SUS-20-004', 'CMS-SUS-21-002']}\n",
    "allo[\"ATLAS-SUSY-2018-06\"] = ['ATLAS-SUSY-2018-05-ewk', 'ATLAS-SUSY-2018-32','ATLAS-SUSY-2018-41',\n",
    "                              'ATLAS-SUSY-2019-02','ATLAS-SUSY-2019-08','CMS-SUS-20-004', 'CMS-SUS-21-002']\n",
    "allo[\"ATLAS-SUSY-2018-32\"] = ['ATLAS-SUSY-2018-05-ewk', 'ATLAS-SUSY-2018-06','ATLAS-SUSY-2018-41',\n",
    "                              'ATLAS-SUSY-2019-08','ATLAS-SUSY-2019-09','CMS-SUS-20-004', 'CMS-SUS-21-002']\n",
    "allo[\"ATLAS-SUSY-2018-41\"] = ['ATLAS-SUSY-2018-05-ewk', 'ATLAS-SUSY-2018-06','ATLAS-SUSY-2018-32',\n",
    "                              'ATLAS-SUSY-2019-02','ATLAS-SUSY-2019-08','ATLAS-SUSY-2019-09','CMS-SUS-20-004', \n",
    "                              'CMS-SUS-21-002']\n",
    "allo[\"ATLAS-SUSY-2019-02\"] = ['ATLAS-SUSY-2018-05-ewk', 'ATLAS-SUSY-2018-06','ATLAS-SUSY-2018-41',\n",
    "                              'ATLAS-SUSY-2019-08','ATLAS-SUSY-2019-09','CMS-SUS-20-004', 'CMS-SUS-21-002']\n",
    "allo[\"ATLAS-SUSY-2019-08\"] = ['ATLAS-SUSY-2018-05-ewk', 'ATLAS-SUSY-2018-06','ATLAS-SUSY-2018-32',\n",
    "                              'ATLAS-SUSY-2018-41','ATLAS-SUSY-2019-02','ATLAS-SUSY-2019-09','CMS-SUS-20-004', \n",
    "                              'CMS-SUS-21-002']\n",
    "allo[\"ATLAS-SUSY-2019-09\"] = ['ATLAS-SUSY-2018-05-ewk', 'ATLAS-SUSY-2018-32','ATLAS-SUSY-2018-41',\n",
    "                              'ATLAS-SUSY-2019-02','ATLAS-SUSY-2019-08','CMS-SUS-20-004', 'CMS-SUS-21-002']\n",
    "allo[\"CMS-SUS-20-004\"] = ['ATLAS-SUSY-2018-05-ewk', 'ATLAS-SUSY-2018-06','ATLAS-SUSY-2018-32',\n",
    "                          'ATLAS-SUSY-2018-41','ATLAS-SUSY-2019-02','ATLAS-SUSY-2019-08','ATLAS-SUSY-2019-09']\n",
    "allo[\"CMS-SUS-21-002\"] = ['ATLAS-SUSY-2018-05-ewk', 'ATLAS-SUSY-2018-06','ATLAS-SUSY-2018-32',\n",
    "                          'ATLAS-SUSY-2018-41','ATLAS-SUSY-2019-02','ATLAS-SUSY-2019-08','ATLAS-SUSY-2019-09'] "
   ]
  },
  {
   "cell_type": "markdown",
   "id": "cfc86576",
   "metadata": {},
   "source": [
    "## Model and Theory Predictions"
   ]
  },
  {
   "cell_type": "code",
   "execution_count": 104,
   "id": "8aeea9e4",
   "metadata": {},
   "outputs": [
    {
     "name": "stderr",
     "output_type": "stream",
     "text": [
      "INFO in model.updateParticles() in 393: Loaded 62 BSM particles\n",
      "INFO in databaseObj.loadBinaryFile() in 505: loading binary db file /Users/sahananarasimha/smodels-database/13TeV/db31.pcl format version 214\n",
      "INFO in databaseObj.loadBinaryFile() in 512: Loaded database from /Users/sahananarasimha/smodels-database/13TeV/db31.pcl in 1.0 secs.\n"
     ]
    },
    {
     "name": "stdout",
     "output_type": "stream",
     "text": [
      "1 predictions: ATLAS-SUSY-2018-05-ewk:2.44E-06 [pb]\n",
      "1 predictions: ATLAS-SUSY-2018-06:1.30E-06 [pb]\n",
      "None\n",
      "None\n",
      "None\n",
      "1 predictions: ATLAS-SUSY-2019-08:3.33E-05 [pb]\n",
      "1 predictions: ATLAS-SUSY-2019-09:9.18E-06 [pb]\n",
      "None\n",
      "1 predictions: CMS-SUS-21-002:1.06E-04 [pb]\n"
     ]
    }
   ],
   "source": [
    "slhafile = '/Users/sahananarasimha/smodels/ew_7q306a4m.slha'\n",
    "model = Model(BSMparticles = BSMList, SMparticles = SMList)\n",
    "model.updateParticles(inputFile = slhafile)\n",
    "\n",
    "sigmacut = 0.005*fb\n",
    "mingap = 5.*GeV\n",
    "\n",
    "database = Database('/Users/sahananarasimha/smodels-database/13TeV/')\n",
    "\n",
    "toplist = decomposer.decompose(model, sigmacut, doCompress=True, doInvisible=True, minmassgap=mingap)\n",
    "\n",
    "expresults = database.getExpResults(analysisIDs=listOfAna, dataTypes=['efficiencyMap','combined'])\n",
    "\n",
    "\n",
    "allThPredictions = [theoryPredictionsFor(exp, toplist, combinedResults=True) for exp in expresults]\n",
    "\n",
    "\n",
    "for tp in allThPredictions:\n",
    "    print(tp)\n"
   ]
  },
  {
   "cell_type": "markdown",
   "id": "04d1002f",
   "metadata": {},
   "source": [
    "### Though the paper mentions that the weights are log(L_bsm/L_sm), the weights do not get registered if they are negative i..e if L_bsm < L_sm. Hence, I have taken weights to be nll ratio. Should clarify it with Jamie"
   ]
  },
  {
   "cell_type": "code",
   "execution_count": 105,
   "id": "143be625",
   "metadata": {},
   "outputs": [
    {
     "name": "stdout",
     "output_type": "stream",
     "text": [
      "\n",
      "Experimental Result: ATLAS-SUSY-2018-05-ewk (combined-type)\n",
      "\n",
      "Experimental Result: ATLAS-SUSY-2019-08 (combined-type)\n",
      "\n",
      "Experimental Result: ATLAS-SUSY-2019-09 (combined-type)\n",
      "\n",
      "Experimental Result: CMS-SUS-21-002 (combined-type)\n"
     ]
    }
   ],
   "source": [
    "def bestCombinationFinder(comb_matrix, theoryPrediction, expected=True):\n",
    "    \n",
    "    #comb_matrix = dictionary of allowed analyses combination\n",
    "    #theoryPrediction = list of theory prediction objects for each expResult\n",
    "    \n",
    "    #print ( \"type\", type(theoryPrediction) )\n",
    "    weight_vector = []\n",
    "    \n",
    "    exclMatrix = createExclusivityMatrix(comb_matrix)\n",
    "    \n",
    "    for tp in theoryPrediction:\n",
    "        #print ( \"type\", type(tp) )\n",
    "        if not tp:\n",
    "            weight_vector.append(None)\n",
    "            continue\n",
    "        #get expected llhd\n",
    "        for preds in tp:\n",
    "            #print ( \"type\", type(preds) )\n",
    "            lbsm = preds.likelihood(expected=True)\n",
    "            lsm = preds.lsm(expected=True)\n",
    "            weight = -np.log(lbsm/lsm)  #returning nll ratio\n",
    "            weight_vector.append(weight)\n",
    "        \n",
    "        #else:\n",
    "        #get observed llhd\n",
    "            #lbsm = preds.likelihood()\n",
    "            #lsm = preds.lsm()\n",
    "            #weight = -np.log(lbsm/lsm)  #returning nll ratio\n",
    "            #weight_vector.append(weight)\n",
    "    \n",
    "    #Get index of analyses for which theoryPrediction is None\n",
    "    indices = []\n",
    "    for i in range(len(weight_vector)):\n",
    "        if not weight_vector[i]:\n",
    "            indices.append(i)\n",
    "    \n",
    "    #Remove analysis from comb_matrix and weight_vector for which theoryPrediction is None\n",
    "    weight_vector = np.array(weight_vector)\n",
    "    weight_vector = np.delete(weight_vector, indices)\n",
    "    \n",
    "    exclMatrix = np.delete(np.delete(exclMatrix, indices,0), indices,1)\n",
    "    \n",
    "    no_tp = [theoryPrediction[i] for i in indices]\n",
    "    for tp in no_tp: theoryPrediction.remove(tp) \n",
    "    \n",
    "    #Get the allowed list of combinations with decreasing weights\n",
    "    pf = PathFinder(np.array(~exclMatrix, dtype=int), weights=weight_vector, ignore_subset=True)\n",
    "    top_paths = pf.find_path(top=5)\n",
    "    \n",
    "    #return list of theory predictions for which the combination has max weight\n",
    "    bestCombination = [allThPredictions[i] for i in pathfin[0]['path']]\n",
    "    \n",
    "    return bestCombination\n",
    "    \n",
    "bestThPredictions = bestCombinationFinder(allo, allThPredictions)    \n",
    "\n",
    "for tp in bestThPredictions:\n",
    "    for preds in tp:\n",
    "        expID = preds.expResult.globalInfo.id\n",
    "        dataType = preds.dataType()\n",
    "        #dataId = theoryPred.dataId()\n",
    "        print ( \"\\nExperimental Result: %s (%s-type)\" %(expID,dataType) )"
   ]
  },
  {
   "cell_type": "markdown",
   "id": "8a0b699a",
   "metadata": {},
   "source": [
    "# True/False matrix from  Combination dictionary"
   ]
  },
  {
   "cell_type": "code",
   "execution_count": 103,
   "id": "cd274fbb",
   "metadata": {},
   "outputs": [],
   "source": [
    "def createExclusivityMatrix(comb_matrix):\n",
    "    \n",
    "    #creat a n by n True matrix where n = number of analyses in the dict\n",
    "    exclMatrix = [[True for i in range(len(comb_matrix))] for i in range(len(comb_matrix))]\n",
    "    \n",
    "    listOfAna = [ana for ana in comb_matrix.keys()]\n",
    "    \n",
    "    for ana in comb_matrix.keys():\n",
    "        for notcombAna in listOfAna:\n",
    "            if notcombAna not in comb_matrix.get(ana):\n",
    "                #print(\"\\n ana\",ana, \"  notcombAna \", notcombAna)\n",
    "                exclMatrix[listOfAna.index(ana)][listOfAna.index(notcombAna)] = False\n",
    "                \n",
    "    return np.array(exclMatrix) \n",
    "    \n",
    "\n",
    "#allo = {\"2019-09\":[\"2019-08\",\"2019-02\"], \"2019-08\":[\"2019-09\",\"2019-02\",\"2018-06\"], \n",
    "#       \"2019-02\":[\"2019-09\",\"2019-08\",\"2018-06\"], \"2018-06\":[\"2019-08\",\"2019-02\"]}\n",
    "\n",
    "#eM = createExclusivityMatrix(allo)\n",
    "#eM"
   ]
  },
  {
   "cell_type": "code",
   "execution_count": null,
   "id": "527083c1",
   "metadata": {},
   "outputs": [],
   "source": []
  }
 ],
 "metadata": {
  "kernelspec": {
   "display_name": "Python 3 (ipykernel)",
   "language": "python",
   "name": "python3"
  },
  "language_info": {
   "codemirror_mode": {
    "name": "ipython",
    "version": 3
   },
   "file_extension": ".py",
   "mimetype": "text/x-python",
   "name": "python",
   "nbconvert_exporter": "python",
   "pygments_lexer": "ipython3",
   "version": "3.11.1"
  }
 },
 "nbformat": 4,
 "nbformat_minor": 5
}
