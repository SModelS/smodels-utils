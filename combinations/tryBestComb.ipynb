{
 "cells": [
  {
   "cell_type": "code",
   "execution_count": 5,
   "id": "c70a1059",
   "metadata": {},
   "outputs": [],
   "source": [
    "from smodels.tools import runtime\n",
    "runtime.modelFile = 'smodels.share.models.mssm'\n",
    "from smodels.tools.physicsUnits import GeV,fb\n",
    "from smodels.theory import decomposer\n",
    "from smodels.theory.theoryPrediction import theoryPredictionsFor, TheoryPredictionsCombiner\n",
    "from smodels.experiment.databaseObj import Database\n",
    "from smodels.particlesLoader import BSMList\n",
    "from smodels.share.models.SMparticles import SMList\n",
    "from smodels.theory.model import Model\n",
    "from combinations.bestCombination import BestCombinationFinder"
   ]
  },
  {
   "cell_type": "code",
   "execution_count": 6,
   "id": "9fe27403",
   "metadata": {},
   "outputs": [],
   "source": [
    "allo = {\"ATLAS-SUSY-2018-05-ewk\":['ATLAS-SUSY-2018-06', 'ATLAS-SUSY-2018-32','ATLAS-SUSY-2018-41',\n",
    "                                  'ATLAS-SUSY-2019-02','ATLAS-SUSY-2019-08', 'ATLAS-SUSY-2019-09',\n",
    "                                  'CMS-SUS-20-004', 'CMS-SUS-21-002']}\n",
    "allo[\"ATLAS-SUSY-2018-06\"] = ['ATLAS-SUSY-2018-05-ewk', 'ATLAS-SUSY-2018-32','ATLAS-SUSY-2018-41',\n",
    "                              'ATLAS-SUSY-2019-02','ATLAS-SUSY-2019-08','CMS-SUS-20-004', 'CMS-SUS-21-002']\n",
    "allo[\"ATLAS-SUSY-2018-32\"] = ['ATLAS-SUSY-2018-05-ewk', 'ATLAS-SUSY-2018-06','ATLAS-SUSY-2018-41',\n",
    "                              'ATLAS-SUSY-2019-08','ATLAS-SUSY-2019-09','CMS-SUS-20-004', 'CMS-SUS-21-002']\n",
    "allo[\"ATLAS-SUSY-2018-41\"] = ['ATLAS-SUSY-2018-05-ewk', 'ATLAS-SUSY-2018-06','ATLAS-SUSY-2018-32',\n",
    "                              'ATLAS-SUSY-2019-02','ATLAS-SUSY-2019-08','ATLAS-SUSY-2019-09','CMS-SUS-20-004', \n",
    "                              'CMS-SUS-21-002']\n",
    "allo[\"ATLAS-SUSY-2019-02\"] = ['ATLAS-SUSY-2018-05-ewk', 'ATLAS-SUSY-2018-06','ATLAS-SUSY-2018-41',\n",
    "                              'ATLAS-SUSY-2019-08','ATLAS-SUSY-2019-09','CMS-SUS-20-004', 'CMS-SUS-21-002']\n",
    "allo[\"ATLAS-SUSY-2019-08\"] = ['ATLAS-SUSY-2018-05-ewk', 'ATLAS-SUSY-2018-06','ATLAS-SUSY-2018-32',\n",
    "                              'ATLAS-SUSY-2018-41','ATLAS-SUSY-2019-02','ATLAS-SUSY-2019-09','CMS-SUS-20-004', \n",
    "                              'CMS-SUS-21-002']\n",
    "allo[\"ATLAS-SUSY-2019-09\"] = ['ATLAS-SUSY-2018-05-ewk', 'ATLAS-SUSY-2018-32','ATLAS-SUSY-2018-41',\n",
    "                              'ATLAS-SUSY-2019-02','ATLAS-SUSY-2019-08','CMS-SUS-20-004', 'CMS-SUS-21-002']\n",
    "#allo[\"CMS-SUS-20-004\"] = ['ATLAS-SUSY-2018-05-ewk', 'ATLAS-SUSY-2018-06','ATLAS-SUSY-2018-32',\n",
    "#                          'ATLAS-SUSY-2018-41','ATLAS-SUSY-2019-02','ATLAS-SUSY-2019-08','ATLAS-SUSY-2019-09']\n",
    "#allo[\"CMS-SUS-21-002\"] = ['ATLAS-SUSY-2018-05-ewk', 'ATLAS-SUSY-2018-06','ATLAS-SUSY-2018-32',\n",
    "#                          'ATLAS-SUSY-2018-41','ATLAS-SUSY-2019-02','ATLAS-SUSY-2019-08','ATLAS-SUSY-2019-09'] \n",
    "allo[\"CMS-SUS-20-004\"] = []\n",
    "allo[\"CMS-SUS-21-002\"] = []\n",
    "allo[\"ATLAS-SUSY-2013-12\"] = []"
   ]
  },
  {
   "cell_type": "code",
   "execution_count": 7,
   "id": "90ae559b",
   "metadata": {},
   "outputs": [
    {
     "data": {
      "text/plain": [
       "'filter_slha/ew_ufuhj1mt.slha'"
      ]
     },
     "execution_count": 7,
     "metadata": {},
     "output_type": "execute_result"
    }
   ],
   "source": [
    "#load model point\n",
    "import glob\n",
    "files = glob.glob ( \"filter_slha/ew*slha\" )\n",
    "files = files[5:]\n",
    "files[1]"
   ]
  },
  {
   "cell_type": "code",
   "execution_count": 4,
   "id": "72935e3d",
   "metadata": {},
   "outputs": [
    {
     "name": "stdout",
     "output_type": "stream",
     "text": [
      "\n",
      "  12 predictions: ATLAS-SUSY-2016-24:1.31E-05 [pb], ATLAS-SUSY-2017-03:1.47E-05 [pb], ATLAS-SUSY-2018-05-ewk:2.70E-05 [pb], ATLAS-SUSY-2018-32:2.36E-05 [pb], ATLAS-SUSY-2018-41:2.54E-05 [pb], ATLAS-SUSY-2019-08:4.44E-05 [pb], ATLAS-SUSY-2019-09:1.66E-05 [pb], CMS-SUS-16-039-agg:2.40E-05 [pb], CMS-SUS-20-004:8.10E-06 [pb], CMS-SUS-21-002:3.99E-04 [pb], ATLAS-SUSY-2013-11:1.61E-06 [pb], CMS-SUS-13-012:7.18E-05 [pb]\n",
      "\n",
      " ATLAS-SUSY-2013-11\n",
      "\n",
      " CMS-SUS-13-012\n",
      "\n",
      " ['ATLAS-SUSY-2013-11', 'CMS-SUS-13-012', 'ATLAS-SUSY-2016-24', 'ATLAS-SUSY-2017-03', 'ATLAS-SUSY-2018-05-ewk', 'ATLAS-SUSY-2018-32', 'ATLAS-SUSY-2018-41', 'ATLAS-SUSY-2019-08', 'ATLAS-SUSY-2019-09', 'CMS-SUS-16-039-agg', 'CMS-SUS-20-004', 'CMS-SUS-21-002']\n",
      "\n",
      " Model Point :  filter_slha/ew_ufuhj1mt.slha  best combination:  SRs: ATLAS-SUSY-2013-11:mT2-150-DF, CMS-SUS-13-012:3NJet6_500HT800_450MHT600, ATLAS-SUSY-2018-05-ewk:(combined), ATLAS-SUSY-2018-32:(combined), ATLAS-SUSY-2018-41:(combined), ATLAS-SUSY-2019-08:(combined), ATLAS-SUSY-2019-09:(combined), CMS-SUS-21-002:(combined)\n"
     ]
    }
   ],
   "source": [
    "#files = ['filter_slha/ew_0m6m0j06.slha']\n",
    "\n",
    "\n",
    "sigmacut = 0.005*fb\n",
    "mingap = 5.*GeV\n",
    "database = Database('official')\n",
    "expresults = database.getExpResults(analysisIDs='all', dataTypes=['efficiencyMap','combined'])\n",
    "\n",
    "for file in [files[1]]:\n",
    "    model = Model(BSMparticles = BSMList, SMparticles = SMList)\n",
    "    slhafile = file\n",
    "    model.updateParticles(inputFile = slhafile)\n",
    "    toplist = decomposer.decompose(model, sigmacut, doCompress=True, doInvisible=True, minmassgap=mingap)\n",
    "    allPreds = theoryPredictionsFor(expresults, toplist, combinedResults=True) \n",
    "    print(\"\\n \", allPreds)\n",
    "    \n",
    "    \n",
    "    bC = BestCombinationFinder(combination_matrix = allo, theoryPredictionList = allPreds)\n",
    "    bestThPred = bC.findBestCombination()\n",
    "            \n",
    "\n",
    "    if bestThPred is None : print(\"\\n Model Point: \", file, \"  , No predictions\")\n",
    "    else: \n",
    "        try:\n",
    "            print(\"\\n Model Point : \", file, \" best combination: \", bestThPred.describe())\n",
    "        except AttributeError as e:\n",
    "            print(\"\\n Model Point : \", file, \" best tp: \", bestThPred)\n",
    "        \n",
    " \n"
   ]
  },
  {
   "cell_type": "code",
   "execution_count": null,
   "id": "14dbf9f1",
   "metadata": {},
   "outputs": [],
   "source": []
  }
 ],
 "metadata": {
  "kernelspec": {
   "display_name": "Python 3 (ipykernel)",
   "language": "python",
   "name": "python3"
  },
  "language_info": {
   "codemirror_mode": {
    "name": "ipython",
    "version": 3
   },
   "file_extension": ".py",
   "mimetype": "text/x-python",
   "name": "python",
   "nbconvert_exporter": "python",
   "pygments_lexer": "ipython3",
   "version": "3.11.1"
  }
 },
 "nbformat": 4,
 "nbformat_minor": 5
}
