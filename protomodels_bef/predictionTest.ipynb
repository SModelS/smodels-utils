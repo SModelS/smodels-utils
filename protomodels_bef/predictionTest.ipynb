{
 "cells": [
  {
   "cell_type": "code",
   "execution_count": 1,
   "metadata": {},
   "outputs": [],
   "source": [
    "import sys,os,copy,glob\n",
    "import numpy as np\n",
    "sys.path.append(os.path.expanduser('~/smodels'))\n",
    "from builder.protomodel import ProtoModel\n",
    "from builder.manipulator import Manipulator\n",
    "from tester.predictor import Predictor\n",
    "from tester.combiner import Combiner\n",
    "from walker.hiscore import Hiscore\n",
    "from smodels.experiment.databaseObj import Database\n",
    "from smodels.tools import runtime\n",
    "from smodels.tools.physicsUnits import fb\n",
    "runtime._experimental = True\n",
    "import matplotlib.pyplot as plt\n",
    "import seaborn as sns\n",
    "sns.set() #Set style\n",
    "sns.set_style('ticks',{'font.family':'serif', 'font.serif':'Times New Roman'})\n",
    "sns.set_context('paper', font_scale=1.8)\n",
    "sns.set_palette(sns.color_palette(\"Paired\"))"
   ]
  },
  {
   "cell_type": "code",
   "execution_count": 2,
   "metadata": {},
   "outputs": [],
   "source": [
    "def fromDict(inputDict):    \n",
    "    p = ProtoModel(walkerid=0)\n",
    "    for key,v in inputDict.items():\n",
    "        setattr(p,key,copy.deepcopy(v))\n",
    "    ma = Manipulator ( p )\n",
    "    ma.initFromDict( inputDict )\n",
    "    return p"
   ]
  },
  {
   "cell_type": "code",
   "execution_count": 3,
   "metadata": {},
   "outputs": [
    {
     "name": "stdout",
     "output_type": "stream",
     "text": [
      "\u001b[32m[manipulator-12:26:56] starting with /home/walten/git/smodels-utils/protomodels/\u001b[39m\n",
      "\u001b[32m[manipulator-12:26:56] starting with /home/walten/git/smodels-utils/protomodels/\u001b[39m\n",
      "\u001b[32m[manipulator-12:26:56] starting with /home/walten/git/smodels-utils/protomodels/\u001b[39m\n",
      "\u001b[32m[manipulator-12:26:56] starting with /home/walten/git/smodels-utils/protomodels/\u001b[39m\n",
      "\u001b[32m[manipulator-12:26:56] starting with /home/walten/git/smodels-utils/protomodels/\u001b[39m\n",
      "\u001b[32m[manipulator-12:26:56] starting with /home/walten/git/smodels-utils/protomodels/\u001b[39m\n",
      "\u001b[32m[manipulator-12:26:56] starting with /home/walten/git/smodels-utils/protomodels/\u001b[39m\n",
      "\u001b[32m[manipulator-12:26:56] starting with /home/walten/git/smodels-utils/protomodels/\u001b[39m\n",
      "\u001b[32m[manipulator-12:26:56] starting with /home/walten/git/smodels-utils/protomodels/\u001b[39m\n",
      "\u001b[32m[manipulator-12:26:56] starting with /home/walten/git/smodels-utils/protomodels/\u001b[39m\n",
      "\u001b[32m[manipulator-12:26:56] starting with /home/walten/git/smodels-utils/protomodels/\u001b[39m\n",
      "\u001b[32m[manipulator-12:26:56] starting with /home/walten/git/smodels-utils/protomodels/\u001b[39m\n",
      "\u001b[32m[manipulator-12:26:56] starting with /home/walten/git/smodels-utils/protomodels/\u001b[39m\n",
      "\u001b[32m[manipulator-12:26:56] starting with /home/walten/git/smodels-utils/protomodels/\u001b[39m\n",
      "\u001b[32m[manipulator-12:26:56] starting with /home/walten/git/smodels-utils/protomodels/\u001b[39m\n",
      "\u001b[32m[manipulator-12:26:56] starting with /home/walten/git/smodels-utils/protomodels/\u001b[39m\n",
      "\u001b[32m[manipulator-12:26:56] starting with /home/walten/git/smodels-utils/protomodels/\u001b[39m\n",
      "\u001b[32m[manipulator-12:26:56] starting with /home/walten/git/smodels-utils/protomodels/\u001b[39m\n",
      "\u001b[32m[manipulator-12:26:56] starting with /home/walten/git/smodels-utils/protomodels/\u001b[39m\n",
      "\u001b[32m[manipulator-12:26:56] starting with /home/walten/git/smodels-utils/protomodels/\u001b[39m\n"
     ]
    }
   ],
   "source": [
    "#Get highest score from the run:\n",
    "ff='./real3.dict'\n",
    "with open( ff,'r') as f:\n",
    "    pList = eval(f.read())\n",
    "run = eval(os.path.basename(ff).replace('real','').replace('.dict',''))\n",
    "pList = [fromDict(pDict) for pDict in pList[:]]\n",
    "p = sorted(pList, key = lambda p: p.K, reverse=True)[0]\n",
    "protomodel = p"
   ]
  },
  {
   "cell_type": "code",
   "execution_count": 29,
   "metadata": {},
   "outputs": [],
   "source": [
    "protomodel = hi.hiscores[0]"
   ]
  },
  {
   "cell_type": "code",
   "execution_count": 30,
   "metadata": {},
   "outputs": [
    {
     "name": "stdout",
     "output_type": "stream",
     "text": [
      "[combine:0] selected predictions down via SRs from 151 to 21.\n"
     ]
    },
    {
     "name": "stderr",
     "output_type": "stream",
     "text": [
      "combination #0/405   0%|                                        |ETA:  --:--:--\r"
     ]
    },
    {
     "name": "stdout",
     "output_type": "stream",
     "text": [
      "[combine:0] sorting out subsets, reduced 3338 -> 405 combinations.\n"
     ]
    },
    {
     "name": "stderr",
     "output_type": "stream",
     "text": [
      "combination #405/405 100%|||||||||||||||||||||||||||||||||||||||||Time: 0:00:47\n"
     ]
    }
   ],
   "source": [
    "# pred = Predictor(walkerid=0,dbpath='./smodels-database-noFastlim/')\n",
    "pred = Predictor(walkerid=0,dbpath='./official123_smodels200.pcl')\n",
    "res = pred.predict(protomodel)\n",
    "oldPrior = pred.combiner.computePrior(protomodel,name='expo2')\n",
    "newPrior = pred.combiner.computePrior(protomodel,name='expo1')"
   ]
  },
  {
   "cell_type": "code",
   "execution_count": 24,
   "metadata": {},
   "outputs": [
    {
     "name": "stdout",
     "output_type": "stream",
     "text": [
      "[hiscore:0] loaded 1 hiscores from ./hiscore.hi.\n"
     ]
    }
   ],
   "source": [
    "hi = Hiscore ( 0, False, \"./hiscore.hi\" )"
   ]
  },
  {
   "cell_type": "code",
   "execution_count": 26,
   "metadata": {},
   "outputs": [
    {
     "name": "stdout",
     "output_type": "stream",
     "text": [
      "\n",
      "K = 8.77, Z = 3.51, muhat = 1.00, mumax = 1.0\n",
      "\t Best Combo:\n",
      "\t\t ATLAS-SUSY-2013-02 [T2] SR6jtp obsN=6 expBG=4.90+/-1.60 pred= 2.76E-05 [pb] UL = 3.99E-01 [fb]\n",
      "\t\t ATLAS-SUSY-2013-15 [T2tt] tNboost obsN=5 expBG=3.30+/-0.70 pred= 4.53E-05 [pb] UL = 3.73E-01 [fb]\n",
      "\t\t ATLAS-SUSY-2015-02 [T2tt] SR1 obsN=12 expBG=5.50+/-0.72 pred= 3.95E-04 [pb] UL = 4.40E+00 [fb]\n",
      "\t\t ATLAS-SUSY-2016-07 [T2] 2j_Meff_1200 obsN=611 expBG=526.00+/-31.00 pred= 1.15E-03 [pb] UL = 4.84E+00 [fb]\n",
      "\t\t CMS-SUS-13-012 [T2] None pred=6.39E-03 [pb], UL=3.80E+01 [fb]\n",
      "\t\t CMS-SUS-16-050 [T2tt] None pred=4.60E-02 [pb], UL=1.79E+02 [fb]\n",
      "\t Constraints:\n",
      "\t\t r = 1.30 CMS-SUS-19-006 upperLimit [T2tt] theory xsec =  45.98, UL = 35.41, UL_exp = 55.04\n",
      "\t\t r = 1.14 CMS-SUS-16-033 upperLimit [T2] theory xsec =  23.85, UL = 20.86, UL_exp = 30.81\n",
      "\t\t r = 1.13 CMS-SUS-19-006 upperLimit [T2] theory xsec =  23.85, UL = 21.13, UL_exp = 23.69\n"
     ]
    }
   ],
   "source": [
    "Manipulator(hi.hiscores[0]).describe()"
   ]
  },
  {
   "cell_type": "code",
   "execution_count": 31,
   "metadata": {},
   "outputs": [
    {
     "data": {
      "text/plain": [
       "7.522839222989878"
      ]
     },
     "execution_count": 31,
     "metadata": {},
     "output_type": "execute_result"
    }
   ],
   "source": [
    "ma.M.K"
   ]
  },
  {
   "cell_type": "code",
   "execution_count": null,
   "metadata": {},
   "outputs": [],
   "source": []
  }
 ],
 "metadata": {
  "kernelspec": {
   "display_name": "Python 3",
   "language": "python",
   "name": "python3"
  },
  "language_info": {
   "codemirror_mode": {
    "name": "ipython",
    "version": 3
   },
   "file_extension": ".py",
   "mimetype": "text/x-python",
   "name": "python",
   "nbconvert_exporter": "python",
   "pygments_lexer": "ipython3",
   "version": "3.8.2"
  }
 },
 "nbformat": 4,
 "nbformat_minor": 4
}
