{
 "cells": [
  {
   "cell_type": "code",
   "execution_count": 2,
   "metadata": {
    "collapsed": false
   },
   "outputs": [],
   "source": [
    "import sys\n",
    "sys.path.append('/home/lessa/smodels')\n",
    "sys.path.append('/home/lessa/smodels-utils')\n",
    "from smodels.tools.databaseBrowser import Browser\n",
    "from smodels.tools.physicsUnits import GeV,fb,pb\n",
    "from smodels_utils.helper import prettyDescriptions"
   ]
  },
  {
   "cell_type": "code",
   "execution_count": 3,
   "metadata": {
    "collapsed": true
   },
   "outputs": [],
   "source": [
    "db = Browser('/home/lessa/smodels-database')"
   ]
  },
  {
   "cell_type": "code",
   "execution_count": 5,
   "metadata": {
    "collapsed": false
   },
   "outputs": [],
   "source": [
    "txList = list(set(db.getValuesFor('txName')))"
   ]
  },
  {
   "cell_type": "code",
   "execution_count": 8,
   "metadata": {
    "collapsed": false
   },
   "outputs": [
    {
     "name": "stdout",
     "output_type": "stream",
     "text": [
      "description for T6WW missing\n",
      "description for T5btbt missing\n",
      "description for T6ZZtt missing\n",
      "description for T1bbqq missing\n",
      "description for TChiChiSlepSlep missing\n",
      "description for T5bbbt missing\n",
      "description for T1bbbt missing\n",
      "description for TScharm missing\n",
      "description for TGQbtq missing\n",
      "description for TGQ missing\n",
      "description for TGQqtt missing\n",
      "description for TChiWW missing\n",
      "description for T5tttt missing\n",
      "description for TChiWH missing\n",
      "description for T2bbWW missing\n",
      "description for TChiChipmSlepStau missing\n",
      "description for T1btqq missing\n",
      "description for T2cc missing\n",
      "description for T6ttWW missing\n",
      "description for T1btbt missing\n",
      "description for T5tbtb missing\n",
      "description for TChiWZ missing\n",
      "description for TChiChipmSlepL missing\n",
      "description for T5tbtt missing\n",
      "description for TGQbbq missing\n",
      "description for T5ZZ missing\n",
      "description for T5tctc missing\n",
      "description for TChiChipmStauL missing\n",
      "description for T2bt missing\n",
      "description for T5WW missing\n",
      "description for T1bbtt missing\n",
      "description for TChipChimStauSnu missing\n",
      "description for T1bttt missing\n",
      "description for TChiChipmStauStau missing\n",
      "description for T1qqtt missing\n",
      "description for T5bbbb missing\n",
      "description for TChipChimSlepSnu missing\n"
     ]
    }
   ],
   "source": [
    "for tx in txList:\n",
    "    desc = prettyDescriptions.particles(tx)\n",
    "    if not desc and not 'off' in tx:\n",
    "        print 'description for',tx,'missing'"
   ]
  },
  {
   "cell_type": "code",
   "execution_count": 11,
   "metadata": {
    "collapsed": false
   },
   "outputs": [
    {
     "name": "stdout",
     "output_type": "stream",
     "text": [
      "T1 \n",
      "pp#rightarrow #tilde{g} #tilde{g}, #tilde{g} --> q #bar{q} #tilde{#chi}^{0}_{1}  \n",
      "\n",
      "T1bbbb \n",
      "pp#rightarrow #tilde{g} #tilde{g}, #tilde{g} --> b #bar{b} #tilde{#chi}^{0}_{1}  \n",
      "\n",
      "T6bbWW \n",
      "pp#rightarrow #tilde{t} #tilde{t}, #tilde{t} --> b (chargino^p --> W #tilde{#chi}^{0}_{1} )  \n",
      "\n",
      "T2tt \n",
      "pp#rightarrow #tilde{t} #tilde{t}, #tilde{t} --> t #tilde{#chi}^{0}_{1}  \n",
      "\n",
      "T1tttt \n",
      "pp#rightarrow #tilde{g} #tilde{g}, #tilde{g} --> t #bar{t} #tilde{#chi}^{0}_{1}  \n",
      "\n",
      "T2 \n",
      "pp#rightarrow #tilde{q} #tilde{q}, #tilde{q} --> q #tilde{#chi}^{0}_{1}  \n",
      "\n",
      "TSlepSlep \n",
      "pp#rightarrow #tilde{l} #tilde{l}, #tilde{l} --> l #tilde{#chi}^{0}_{1}  \n",
      "\n",
      "T2bb \n",
      "pp#rightarrow #tilde{b} #tilde{b}, #tilde{b} --> b #tilde{#chi}^{0}_{1}  \n",
      "\n"
     ]
    }
   ],
   "source": [
    "for tx in txList:\n",
    "    desc =  prettyDescriptions.description(tx).split(';')[0]\n",
    "    descL = desc.split()\n",
    "    for i,st in enumerate(descL):\n",
    "        st_pretty = st[:]\n",
    "        st = st.strip()\n",
    "        if 'anti' in st:\n",
    "            anti = True\n",
    "            st = st.replace('anti','')\n",
    "        else:\n",
    "            anti = False\n",
    "        if st in prettyDescriptions.prettySUSYParticle:\n",
    "            st_pretty = prettyDescriptions.prettySUSYParticle[st]\n",
    "        elif st in prettyDescriptions.prettySMParticle:\n",
    "            st_pretty = prettyDescriptions.prettySMParticle[st]\n",
    "            if anti:\n",
    "                st_pretty = \"#bar{\"+st_pretty+\"}\"\n",
    "        descL[i] = st_pretty\n",
    "    if 'None' in descL: continue\n",
    "    desc = \"\"\n",
    "    for st in descL: desc += st+\" \"\n",
    "    print tx,'\\n',desc,'\\n'"
   ]
  },
  {
   "cell_type": "code",
   "execution_count": null,
   "metadata": {
    "collapsed": true
   },
   "outputs": [],
   "source": []
  }
 ],
 "metadata": {
  "kernelspec": {
   "display_name": "Python 2",
   "language": "python",
   "name": "python2"
  },
  "language_info": {
   "codemirror_mode": {
    "name": "ipython",
    "version": 2
   },
   "file_extension": ".py",
   "mimetype": "text/x-python",
   "name": "python",
   "nbconvert_exporter": "python",
   "pygments_lexer": "ipython2",
   "version": "2.7.12"
  }
 },
 "nbformat": 4,
 "nbformat_minor": 0
}
