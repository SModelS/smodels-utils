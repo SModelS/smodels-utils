{
 "metadata": {
  "name": ""
 },
 "nbformat": 3,
 "nbformat_minor": 0,
 "worksheets": [
  {
   "cells": [
    {
     "cell_type": "code",
     "collapsed": false,
     "input": [
      "import sys,os\n",
      "from plotProducer import validateTxName,validatePlot,validateExpRes\n",
      "from smodels.experiment.databaseBrowser import Browser\n",
      "from smodels.experiment.databaseObjects import DataBase\n",
      "import logging\n",
      "from smodels.theory.crossSection import logger as cl\n",
      "from smodels.theory.slhaDecomposer import logger as dl\n",
      "from smodels.experiment.txnameObject import logger as tl"
     ],
     "language": "python",
     "metadata": {},
     "outputs": [],
     "prompt_number": 1
    },
    {
     "cell_type": "code",
     "collapsed": false,
     "input": [
      "#Load the data base of experimental results:\n",
      "home = os.path.expanduser(\"~\")\n",
      "database = DataBase(os.path.join(home,\"smodels-database\"))"
     ],
     "language": "python",
     "metadata": {},
     "outputs": [],
     "prompt_number": 2
    },
    {
     "cell_type": "code",
     "collapsed": false,
     "input": [
      "#Select the plot to be validated:\n",
      "#(OBS: In order to make sure you are selecting an upper limit type of analyses, choose only the ones with datasetID = None)\n",
      "expRes = database.getExpResults(analysisIDs=['CMS-SUS-13-004'],datasetIDs=[None],txnames=['T2tt'])"
     ],
     "language": "python",
     "metadata": {},
     "outputs": [],
     "prompt_number": 3
    },
    {
     "cell_type": "code",
     "collapsed": false,
     "input": [
      "#Set the directory containing the SLHA files for the corresponding Txname\n",
      "#(OBS: It can also be a .tar file)\n",
      "slhadir = os.path.join(home,'/smodels-utils/slha/T2tt')\n",
      "#Set the Txname and the p\u013aot axes definition (in case the experimental result has several plots)\n",
      "txnameStr = 'T2tt'\n",
      "axes = '2*Eq(mother,x)_Eq(lsp,y)'"
     ],
     "language": "python",
     "metadata": {},
     "outputs": []
    },
    {
     "cell_type": "code",
     "collapsed": false,
     "input": [
      "#Run the validation:\n",
      "agreementFactor = validatePlot(expRes,txnameStr,axes,slhadir)\n",
      "#The output is a measure of how much the excluded region by SModelS agrees with\n",
      "#the official exclusion curve\n",
      "print agreementFactor"
     ],
     "language": "python",
     "metadata": {},
     "outputs": []
    },
    {
     "cell_type": "code",
     "collapsed": false,
     "input": [
      "#The data generated and the validation plot are stored in the experimental result validation folder:\n",
      "print os.listdir(os.path.join(expRes.path,'validation'))"
     ],
     "language": "python",
     "metadata": {},
     "outputs": []
    }
   ],
   "metadata": {}
  }
 ]
}