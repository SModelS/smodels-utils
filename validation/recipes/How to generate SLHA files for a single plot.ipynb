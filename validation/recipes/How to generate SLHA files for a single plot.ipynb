{
 "metadata": {
  "name": ""
 },
 "nbformat": 3,
 "nbformat_minor": 0,
 "worksheets": [
  {
   "cells": [
    {
     "cell_type": "code",
     "collapsed": false,
     "input": [
      "import sys,os,logging\n",
      "home = os.path.expanduser(\"~\")\n",
      "sys.path.append(os.path.join(home,'smodels'))\n",
      "sys.path.append(os.path.join(home,'smodels-utils'))\n",
      "from validation.slhaCreator import TemplateFile\n",
      "from smodels.experiment.databaseObjects import DataBase\n",
      "from validation.plottingFuncs import getExclusionCurvesFor\n",
      "from validation import plotRanges\n",
      "from smodels.experiment.txnameObject import addQuotationMarks\n",
      "#Suppress warning and info messages:\n",
      "from smodels.tools.xsecComputer import logger as xl\n",
      "xl.setLevel(level=logging.ERROR)"
     ],
     "language": "python",
     "metadata": {},
     "outputs": [],
     "prompt_number": 1
    },
    {
     "cell_type": "code",
     "collapsed": false,
     "input": [
      "#Load the data base of experimental results:\n",
      "database = DataBase(os.path.join(home,\"smodels-database\"))"
     ],
     "language": "python",
     "metadata": {},
     "outputs": [],
     "prompt_number": 2
    },
    {
     "cell_type": "code",
     "collapsed": false,
     "input": [
      "#Select the experimental plot to generate files for:\n",
      "#(OBS: In order to make sure you are selecting an upper limit type of analyses, choose only the ones with datasetID = None)\n",
      "txname = 'T1bbbb'\n",
      "expRes = database.getExpResults(analysisIDs=['CMS-SUS-13-004'],datasetIDs=[None],txnames=[txname])\n",
      "axes = expRes.getValuesFor('axes')\n",
      "if isinstance(axes,list): axes = axes[0] #If the result contains several plots, select the desired one\n",
      "constraint = addQuotationMarks(expRes.getValuesFor(\"constraint\"))\n",
      "#Get the exclusion curves to define the range of masses:\n",
      "tgraph = getExclusionCurvesFor(expRes,txname,axes)[txname][0]"
     ],
     "language": "python",
     "metadata": {},
     "outputs": [],
     "prompt_number": 3
    },
    {
     "cell_type": "code",
     "collapsed": false,
     "input": [
      "#Get grid of points for the plot\n",
      "onshell,offshell = True,False #Define if the points are to be generated in the off-shell or on-shell region\n",
      "pts = plotRanges.getPoints(tgraph,txname,axes,constraint,onshell,offshell)\n",
      "#For this example only produce files for the first 5 points\n",
      "pts = pts[:5]"
     ],
     "language": "python",
     "metadata": {},
     "outputs": [
      {
       "output_type": "stream",
       "stream": "stdout",
       "text": [
        "vertex checker produces [[[0.0], [0.0]]]\n"
       ]
      }
     ],
     "prompt_number": 4
    },
    {
     "cell_type": "code",
     "collapsed": false,
     "input": [
      "#Create the template file object:\n",
      "template = os.path.join(home,'smodels-utils/slha/templates/T1bbbb.template') #Path to template file\n",
      "temp = TemplateFile(template,axes)\n",
      "#Generate SLHA files for the points:\n",
      "slhafiles = temp.createFilesFor(pts,addXsecs=True) #Set addXsecs=False if you do not want xsecs to be computed"
     ],
     "language": "python",
     "metadata": {},
     "outputs": [
      {
       "output_type": "stream",
       "stream": "stdout",
       "text": [
        "16:06:20.184 INFO     validation.slhaCreator:129 File /home/lessa/smodels-utils/validation/recipes/T1bbbb_Af5Kbx.slha created.\n"
       ]
      },
      {
       "output_type": "stream",
       "stream": "stdout",
       "text": [
        "16:06:22.782 WARNING  smodels.tools.nllFast:139 Error obtaining k-factors from the NLLfast decoupled grid for gg\n"
       ]
      },
      {
       "output_type": "stream",
       "stream": "stdout",
       "text": [
        "16:06:22.790 INFO     validation.slhaCreator:129 File /home/lessa/smodels-utils/validation/recipes/T1bbbb_9dLE1v.slha created.\n"
       ]
      },
      {
       "output_type": "stream",
       "stream": "stdout",
       "text": [
        "16:06:22.797 INFO     validation.slhaCreator:129 File /home/lessa/smodels-utils/validation/recipes/T1bbbb_zlL14v.slha created.\n"
       ]
      },
      {
       "output_type": "stream",
       "stream": "stdout",
       "text": [
        "16:06:25.730 WARNING  smodels.tools.nllFast:139 Error obtaining k-factors from the NLLfast decoupled grid for gg\n"
       ]
      },
      {
       "output_type": "stream",
       "stream": "stdout",
       "text": [
        "16:06:25.742 INFO     validation.slhaCreator:129 File /home/lessa/smodels-utils/validation/recipes/T1bbbb_HDg4qn.slha created.\n"
       ]
      },
      {
       "output_type": "stream",
       "stream": "stdout",
       "text": [
        "16:06:25.753 INFO     validation.slhaCreator:129 File /home/lessa/smodels-utils/validation/recipes/T1bbbb_lUWr8J.slha created.\n"
       ]
      }
     ],
     "prompt_number": 5
    },
    {
     "cell_type": "code",
     "collapsed": false,
     "input": [
      "#The output is the name of the files generated:\n",
      "print slhafiles"
     ],
     "language": "python",
     "metadata": {},
     "outputs": [
      {
       "output_type": "stream",
       "stream": "stdout",
       "text": [
        "['/home/lessa/smodels-utils/validation/recipes/T1bbbb_Af5Kbx.slha', '/home/lessa/smodels-utils/validation/recipes/T1bbbb_9dLE1v.slha', '/home/lessa/smodels-utils/validation/recipes/T1bbbb_zlL14v.slha', '/home/lessa/smodels-utils/validation/recipes/T1bbbb_HDg4qn.slha', '/home/lessa/smodels-utils/validation/recipes/T1bbbb_lUWr8J.slha']\n"
       ]
      }
     ],
     "prompt_number": 6
    },
    {
     "cell_type": "code",
     "collapsed": false,
     "input": [],
     "language": "python",
     "metadata": {},
     "outputs": []
    }
   ],
   "metadata": {}
  }
 ]
}