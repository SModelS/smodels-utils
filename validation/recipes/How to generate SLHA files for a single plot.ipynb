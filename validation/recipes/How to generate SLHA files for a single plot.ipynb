{
 "metadata": {
  "name": ""
 },
 "nbformat": 3,
 "nbformat_minor": 0,
 "worksheets": [
  {
   "cells": [
    {
     "cell_type": "code",
     "collapsed": false,
     "input": [
      "import sys,os,logging\n",
      "home = os.path.expanduser(\"~\")\n",
      "sys.path.append(os.path.join(home,'smodels'))\n",
      "sys.path.append(os.path.join(home,'smodels-utils'))\n",
      "from validation.slhaCreator import TemplateFile\n",
      "from smodels.experiment.databaseObjects import Database\n",
      "from validation.plottingFuncs import getExclusionCurvesFor\n",
      "from validation import plotRanges\n",
      "#Suppress warning and info messages:\n",
      "from smodels.tools.xsecComputer import logger as xl\n",
      "xl.setLevel(level=logging.ERROR)"
     ],
     "language": "python",
     "metadata": {},
     "outputs": [],
     "prompt_number": 2
    },
    {
     "cell_type": "code",
     "collapsed": false,
     "input": [
      "#Load the data base of experimental results:\n",
      "database = Database(os.path.join(home,\"smodels-database\"))"
     ],
     "language": "python",
     "metadata": {},
     "outputs": [],
     "prompt_number": 3
    },
    {
     "cell_type": "code",
     "collapsed": false,
     "input": [
      "#Select the experimental plot to generate files for:\n",
      "#(OBS: In order to make sure you are selecting an upper limit type of analyses, choose only the ones with datasetID = None)\n",
      "txname = 'TChiWZoff'\n",
      "expRes = database.getExpResults(analysisIDs=['ATLAS-CONF-2013-035'],datasetIDs=[None],txnames=[txname])\n",
      "axes = expRes.getValuesFor('axes')\n",
      "print axes\n",
      "if isinstance(axes,list): axes = axes[0] #If the result contains several plots, select the desired one\n",
      "constraint = expRes.getValuesFor(\"constraint\")\n",
      "#Get the exclusion curves to define the range of masses:\n",
      "tgraph = getExclusionCurvesFor(expRes,txname,axes)[txname][0]\n",
      "print tgraph"
     ],
     "language": "python",
     "metadata": {},
     "outputs": [
      {
       "output_type": "stream",
       "stream": "stdout",
       "text": [
        "2*Eq(mother,x)_Eq(lsp,y)\n",
        "<ROOT.TGraph object (\"exclusion_2*Eq(mother,x)_Eq(lsp,y)\") at 0x955d420>"
       ]
      },
      {
       "output_type": "stream",
       "stream": "stdout",
       "text": [
        "\n"
       ]
      }
     ],
     "prompt_number": 5
    },
    {
     "cell_type": "code",
     "collapsed": false,
     "input": [
      "#Get grid of points for the plot\n",
      "onshell,offshell = True,False #Define if the points are to be generated in the off-shell or on-shell region\n",
      "pts = plotRanges.getPoints(tgraph,txname,axes,constraint,onshell,offshell)\n",
      "#For this example only produce files for the first 5 points\n",
      "pts = pts[:5]\n",
      "print pts"
     ],
     "language": "python",
     "metadata": {},
     "outputs": [
      {
       "output_type": "stream",
       "stream": "stdout",
       "text": [
        "vertex checker produces [[[0.0], [0.0]], [[0.0], [0.0]]]\n",
        "[[80.0, 5.0], [80.0, 10.0], [80.0, 15.0], [80.0, 20.0], [80.0, 25.0]]"
       ]
      },
      {
       "output_type": "stream",
       "stream": "stdout",
       "text": [
        "\n"
       ]
      }
     ],
     "prompt_number": 7
    },
    {
     "cell_type": "code",
     "collapsed": false,
     "input": [
      "#Create the template file object:\n",
      "template = os.path.join(home,'smodels-utils/slha/templates/TChiWZoff.template') #Path to template file\n",
      "temp = TemplateFile(template,axes)\n",
      "#Generate SLHA files for the points:\n",
      "slhafiles = temp.createFilesFor(pts,addXsecs=True) #Set addXsecs=False if you do not want xsecs to be computed"
     ],
     "language": "python",
     "metadata": {},
     "outputs": [
      {
       "output_type": "stream",
       "stream": "stdout",
       "text": [
        "17:00:03.780 INFO     validation.slhaCreator:129 File /home/lessa/smodels-utils/validation/recipes/TChiWZoff_W7gTqx.slha created.\n"
       ]
      },
      {
       "output_type": "stream",
       "stream": "stdout",
       "text": [
        "17:00:06.605 INFO     validation.slhaCreator:129 File /home/lessa/smodels-utils/validation/recipes/TChiWZoff__gLvje.slha created.\n"
       ]
      },
      {
       "output_type": "stream",
       "stream": "stdout",
       "text": [
        "17:00:06.612 INFO     validation.slhaCreator:129 File /home/lessa/smodels-utils/validation/recipes/TChiWZoff_xKSVB6.slha created.\n"
       ]
      },
      {
       "output_type": "stream",
       "stream": "stdout",
       "text": [
        "17:00:06.620 INFO     validation.slhaCreator:129 File /home/lessa/smodels-utils/validation/recipes/TChiWZoff_t9YEOm.slha created.\n"
       ]
      },
      {
       "output_type": "stream",
       "stream": "stdout",
       "text": [
        "17:00:06.627 INFO     validation.slhaCreator:129 File /home/lessa/smodels-utils/validation/recipes/TChiWZoff_x6HFhT.slha created.\n"
       ]
      }
     ],
     "prompt_number": 8
    },
    {
     "cell_type": "code",
     "collapsed": false,
     "input": [
      "#The output is the name of the files generated:\n",
      "print slhafiles"
     ],
     "language": "python",
     "metadata": {},
     "outputs": [
      {
       "output_type": "stream",
       "stream": "stdout",
       "text": [
        "['/home/lessa/smodels-utils/validation/recipes/TChiWZoff_W7gTqx.slha', '/home/lessa/smodels-utils/validation/recipes/TChiWZoff__gLvje.slha', '/home/lessa/smodels-utils/validation/recipes/TChiWZoff_xKSVB6.slha', '/home/lessa/smodels-utils/validation/recipes/TChiWZoff_t9YEOm.slha', '/home/lessa/smodels-utils/validation/recipes/TChiWZoff_x6HFhT.slha']\n"
       ]
      }
     ],
     "prompt_number": 9
    },
    {
     "cell_type": "code",
     "collapsed": false,
     "input": [],
     "language": "python",
     "metadata": {},
     "outputs": []
    }
   ],
   "metadata": {}
  }
 ]
}
