{
 "metadata": {
  "name": ""
 },
 "nbformat": 3,
 "nbformat_minor": 0,
 "worksheets": [
  {
   "cells": [
    {
     "cell_type": "code",
     "collapsed": false,
     "input": [
      "import sys,os,logging\n",
      "home = os.path.expanduser(\"~\")\n",
      "sys.path.append(os.path.join(home,'smodels'))\n",
      "sys.path.append(os.path.join(home,'smodels-utils'))\n",
      "from validation.plotProducer import validateTxName,validatePlot,validateExpRes\n",
      "from smodels.experiment.databaseBrowser import Browser\n",
      "from smodels.experiment.databaseObjects import DataBase\n",
      "#Suppress warning and info messages:\n",
      "from smodels.theory.crossSection import logger as cl\n",
      "from smodels.theory.slhaDecomposer import logger as dl\n",
      "from smodels.experiment.txnameObject import logger as tl\n",
      "cl.setLevel(level=logging.ERROR) \n",
      "dl.setLevel(level=logging.ERROR)\n",
      "tl.setLevel(level=logging.ERROR)"
     ],
     "language": "python",
     "metadata": {},
     "outputs": [],
     "prompt_number": 1
    },
    {
     "cell_type": "code",
     "collapsed": false,
     "input": [
      "#Load the data base of experimental results:\n",
      "database = DataBase(os.path.join(home,\"smodels-database\"))"
     ],
     "language": "python",
     "metadata": {},
     "outputs": [],
     "prompt_number": 2
    },
    {
     "cell_type": "code",
     "collapsed": false,
     "input": [
      "#Select the plot to be validated:\n",
      "#(OBS: An efficiency map analyses has several signal regions (datasets). In order to fully validate it\n",
      "#select all datasets available)\n",
      "expRes = database.getExpResults(analysisIDs=['ATLAS-CONF-2013-024'],\n",
      "                                 datasetIDs=['ANA1-CUT0','ANA1-CUT1','ANA1-CUT2',\n",
      "                                             'ANA2-CUT0','ANA2-CUT1','ANA2-CUT2',\n",
      "                                             'ANA3-CUT0','ANA3-CUT1','ANA3-CUT2',\n",
      "                                             'ANA4-CUT0','ANA4-CUT1','ANA4-CUT2',\n",
      "                                             'ANA5-CUT0','ANA5-CUT1','ANA5-CUT2',\n",
      "                                             'ANA7-CUT0','ANA7-CUT1','ANA7-CUT2'],\n",
      "                                 txnames=['T2tt'])"
     ],
     "language": "python",
     "metadata": {},
     "outputs": [],
     "prompt_number": 3
    },
    {
     "cell_type": "code",
     "collapsed": false,
     "input": [
      "#Set the directory containing the SLHA files for the corresponding Txname\n",
      "#(OBS: It can also be a .tar file)\n",
      "slhadir = os.path.join(home,'smodels-utils/slha/T2tt.tar')\n",
      "#Set the Txname and the p\u013aot axes definition (in case the experimental result has several plots)\n",
      "txname = 'T2tt'\n",
      "axes = '2*Eq(mother,x)_Eq(lsp,y)'"
     ],
     "language": "python",
     "metadata": {},
     "outputs": [],
     "prompt_number": 4
    },
    {
     "cell_type": "code",
     "collapsed": false,
     "input": [
      "#Run the validation:\n",
      "agreementFactor = validatePlot(expRes,txname,axes,slhadir)\n",
      "#The output is a measure of how much the excluded region by SModelS agrees with\n",
      "#the official exclusion curve\n",
      "print agreementFactor"
     ],
     "language": "python",
     "metadata": {},
     "outputs": []
    },
    {
     "cell_type": "code",
     "collapsed": false,
     "input": [
      "#The data generated and the validation plot are stored in the experimental result validation folder:\n",
      "print os.listdir(os.path.join(expRes.path,'validation'))"
     ],
     "language": "python",
     "metadata": {},
     "outputs": []
    }
   ],
   "metadata": {}
  }
 ]
}