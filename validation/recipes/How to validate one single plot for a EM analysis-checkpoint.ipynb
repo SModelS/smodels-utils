{
 "cells": [
  {
   "cell_type": "code",
   "execution_count": 1,
   "metadata": {
    "collapsed": false
   },
   "outputs": [],
   "source": [
    "import sys,os,logging\n",
    "home = os.path.expanduser(\"~\")\n",
    "sys.path.append(os.path.join(home,'smodels'))\n",
    "sys.path.append(os.path.join(home,'smodels-utils'))\n",
    "from validation.plotProducer import validateTxName,validatePlot,validateExpRes\n",
    "from smodels.tools.databaseBrowser import Browser\n",
    "from smodels.experiment.databaseObj import Database\n",
    "#Suppress warning and info messages:\n",
    "from smodels.theory.crossSection import logger as cl\n",
    "from smodels.theory.slhaDecomposer import logger as dl\n",
    "from smodels.experiment.txnameObj import logger as tl\n",
    "cl.setLevel(level=logging.ERROR) \n",
    "dl.setLevel(level=logging.ERROR)\n",
    "tl.setLevel(level=logging.ERROR)"
   ]
  },
  {
   "cell_type": "code",
   "execution_count": 2,
   "metadata": {
    "collapsed": false
   },
   "outputs": [
    {
     "name": "stderr",
     "output_type": "stream",
     "text": [
      "INFO:smodels.experiment.databaseObj:loading serializer file /home/lessa/smodels-database/database.pcl format version 103\n",
      "INFO:smodels.experiment.databaseObj:Loaded database from /home/lessa/smodels-database/database.pcl in 28.5 secs.\n"
     ]
    }
   ],
   "source": [
    "#Load the data base of experimental results:\n",
    "database = Database(os.path.join(home,\"smodels-database\"))"
   ]
  },
  {
   "cell_type": "code",
   "execution_count": 3,
   "metadata": {
    "collapsed": false
   },
   "outputs": [],
   "source": [
    "#Select the plot to be validated:\n",
    "#(OBS: An efficiency map analyses has several signal regions (datasets). In order to fully validate it\n",
    "#select all datasets available)\n",
    "expRes = database.getExpResults(analysisIDs=['ATLAS-CONF-2013-024'],\n",
    "                                 datasetIDs=['data-cut0','data-cut1','data-cut2'],\n",
    "                                 txnames=['T2tt'])"
   ]
  },
  {
   "cell_type": "code",
   "execution_count": 4,
   "metadata": {
    "collapsed": false
   },
   "outputs": [],
   "source": [
    "#Set the directory containing the SLHA files for the corresponding Txname\n",
    "#(OBS: It can also be a .tar file)\n",
    "slhadir = os.path.join(home,'smodels-utils/slha/T2tt.tar')\n",
    "#Set the Txname and the pĺot axes definition (in case the experimental result has several plots)\n",
    "txname = 'T2tt'\n",
    "axes = '2*Eq(mother,x)_Eq(lsp,y)'"
   ]
  },
  {
   "cell_type": "code",
   "execution_count": 5,
   "metadata": {
    "collapsed": false
   },
   "outputs": [
    {
     "name": "stderr",
     "output_type": "stream",
     "text": [
      "TStreamerInfo::BuildCheck:0: RuntimeWarning: \n",
      "   The StreamerInfo of class TAttLine read from file /home/lessa/smodels-database/8TeV/ATLAS/ATLAS-CONF-2013-024-eff/sms.root\n",
      "   has the same version (=1) as the active class but a different checksum.\n",
      "   You should update the version to ClassDef(TAttLine,2).\n",
      "   Do not try to write objects with the current class definition,\n",
      "   the files will not be readable.\n",
      "\n",
      "TStreamerInfo::CompareContent:0: RuntimeWarning: The following data member of\n",
      "the on-file layout version 1 of class 'TAttLine' differs from \n",
      "the in-memory layout version 1:\n",
      "   short fLineColor; //\n",
      "vs\n",
      "   Color_t fLineColor; //\n",
      "TStreamerInfo::CompareContent:0: RuntimeWarning: The following data member of\n",
      "the on-file layout version 1 of class 'TAttLine' differs from \n",
      "the in-memory layout version 1:\n",
      "   short fLineStyle; //\n",
      "vs\n",
      "   Style_t fLineStyle; //\n",
      "TStreamerInfo::CompareContent:0: RuntimeWarning: The following data member of\n",
      "the on-file layout version 1 of class 'TAttLine' differs from \n",
      "the in-memory layout version 1:\n",
      "   short fLineWidth; //\n",
      "vs\n",
      "   Width_t fLineWidth; //\n",
      "TStreamerInfo::BuildCheck:0: RuntimeWarning: \n",
      "   The StreamerInfo of class TAttFill read from file /home/lessa/smodels-database/8TeV/ATLAS/ATLAS-CONF-2013-024-eff/sms.root\n",
      "   has the same version (=1) as the active class but a different checksum.\n",
      "   You should update the version to ClassDef(TAttFill,2).\n",
      "   Do not try to write objects with the current class definition,\n",
      "   the files will not be readable.\n",
      "\n",
      "TStreamerInfo::CompareContent:0: RuntimeWarning: The following data member of\n",
      "the on-file layout version 1 of class 'TAttFill' differs from \n",
      "the in-memory layout version 1:\n",
      "   short fFillColor; //\n",
      "vs\n",
      "   Color_t fFillColor; //\n",
      "TStreamerInfo::CompareContent:0: RuntimeWarning: The following data member of\n",
      "the on-file layout version 1 of class 'TAttFill' differs from \n",
      "the in-memory layout version 1:\n",
      "   short fFillStyle; //\n",
      "vs\n",
      "   Style_t fFillStyle; //\n",
      "TStreamerInfo::BuildCheck:0: RuntimeWarning: \n",
      "   The StreamerInfo of class TAttMarker read from file /home/lessa/smodels-database/8TeV/ATLAS/ATLAS-CONF-2013-024-eff/sms.root\n",
      "   has the same version (=2) as the active class but a different checksum.\n",
      "   You should update the version to ClassDef(TAttMarker,3).\n",
      "   Do not try to write objects with the current class definition,\n",
      "   the files will not be readable.\n",
      "\n",
      "TStreamerInfo::CompareContent:0: RuntimeWarning: The following data member of\n",
      "the on-file layout version 2 of class 'TAttMarker' differs from \n",
      "the in-memory layout version 2:\n",
      "   short fMarkerColor; //\n",
      "vs\n",
      "   Color_t fMarkerColor; //\n",
      "TStreamerInfo::CompareContent:0: RuntimeWarning: The following data member of\n",
      "the on-file layout version 2 of class 'TAttMarker' differs from \n",
      "the in-memory layout version 2:\n",
      "   short fMarkerStyle; //\n",
      "vs\n",
      "   Style_t fMarkerStyle; //\n",
      "TStreamerInfo::CompareContent:0: RuntimeWarning: The following data member of\n",
      "the on-file layout version 2 of class 'TAttMarker' differs from \n",
      "the in-memory layout version 2:\n",
      "   float fMarkerSize; //\n",
      "vs\n",
      "   Size_t fMarkerSize; //\n",
      "TStreamerInfo::BuildCheck:0: RuntimeWarning: \n",
      "   The StreamerInfo of class TAttAxis read from file /home/lessa/smodels-database/8TeV/ATLAS/ATLAS-CONF-2013-024-eff/sms.root\n",
      "   has the same version (=4) as the active class but a different checksum.\n",
      "   You should update the version to ClassDef(TAttAxis,5).\n",
      "   Do not try to write objects with the current class definition,\n",
      "   the files will not be readable.\n",
      "\n",
      "TStreamerInfo::CompareContent:0: RuntimeWarning: The following data member of\n",
      "the on-file layout version 4 of class 'TAttAxis' differs from \n",
      "the in-memory layout version 4:\n",
      "   short fAxisColor; //\n",
      "vs\n",
      "   Color_t fAxisColor; //\n",
      "TStreamerInfo::CompareContent:0: RuntimeWarning: The following data member of\n",
      "the on-file layout version 4 of class 'TAttAxis' differs from \n",
      "the in-memory layout version 4:\n",
      "   short fLabelColor; //\n",
      "vs\n",
      "   Color_t fLabelColor; //\n",
      "TStreamerInfo::CompareContent:0: RuntimeWarning: The following data member of\n",
      "the on-file layout version 4 of class 'TAttAxis' differs from \n",
      "the in-memory layout version 4:\n",
      "   short fLabelFont; //\n",
      "vs\n",
      "   Style_t fLabelFont; //\n",
      "TStreamerInfo::CompareContent:0: RuntimeWarning: The following data member of\n",
      "the on-file layout version 4 of class 'TAttAxis' differs from \n",
      "the in-memory layout version 4:\n",
      "   short fTitleColor; //\n",
      "vs\n",
      "   Color_t fTitleColor; //\n",
      "TStreamerInfo::CompareContent:0: RuntimeWarning: The following data member of\n",
      "the on-file layout version 4 of class 'TAttAxis' differs from \n",
      "the in-memory layout version 4:\n",
      "   short fTitleFont; //\n",
      "vs\n",
      "   Style_t fTitleFont; //\n"
     ]
    },
    {
     "ename": "AttributeError",
     "evalue": "'list' object has no attribute 'getValuesFor'",
     "output_type": "error",
     "traceback": [
      "\u001b[1;31m---------------------------------------------------------------------------\u001b[0m",
      "\u001b[1;31mAttributeError\u001b[0m                            Traceback (most recent call last)",
      "\u001b[1;32m<ipython-input-5-f6217f609eea>\u001b[0m in \u001b[0;36m<module>\u001b[1;34m()\u001b[0m\n\u001b[0;32m      1\u001b[0m \u001b[1;31m#Run the validation:\u001b[0m\u001b[1;33m\u001b[0m\u001b[1;33m\u001b[0m\u001b[0m\n\u001b[1;32m----> 2\u001b[1;33m \u001b[0magreementFactor\u001b[0m \u001b[1;33m=\u001b[0m \u001b[0mvalidatePlot\u001b[0m\u001b[1;33m(\u001b[0m\u001b[0mexpRes\u001b[0m\u001b[1;33m,\u001b[0m\u001b[0mtxname\u001b[0m\u001b[1;33m,\u001b[0m\u001b[0maxes\u001b[0m\u001b[1;33m,\u001b[0m\u001b[0mslhadir\u001b[0m\u001b[1;33m)\u001b[0m\u001b[1;33m\u001b[0m\u001b[0m\n\u001b[0m\u001b[0;32m      3\u001b[0m \u001b[1;31m#The output is a measure of how much the excluded region by SModelS agrees with\u001b[0m\u001b[1;33m\u001b[0m\u001b[1;33m\u001b[0m\u001b[0m\n\u001b[0;32m      4\u001b[0m \u001b[1;31m#the official exclusion curve\u001b[0m\u001b[1;33m\u001b[0m\u001b[1;33m\u001b[0m\u001b[0m\n\u001b[0;32m      5\u001b[0m \u001b[1;32mprint\u001b[0m \u001b[0magreementFactor\u001b[0m\u001b[1;33m\u001b[0m\u001b[0m\n",
      "\u001b[1;32m/home/lessa/smodels-utils/validation/plotProducer.pyc\u001b[0m in \u001b[0;36mvalidatePlot\u001b[1;34m(expRes, txname, axes, slhadir, kfactor)\u001b[0m\n\u001b[0;32m     62\u001b[0m \u001b[1;33m\u001b[0m\u001b[0m\n\u001b[0;32m     63\u001b[0m     logger.info(\"Generating validation plot for \" + expRes.getValuesFor('id')[0]\n\u001b[1;32m---> 64\u001b[1;33m                 +\", \"+txname+\", \"+axes)        \n\u001b[0m\u001b[0;32m     65\u001b[0m     \u001b[0mvalPlot\u001b[0m \u001b[1;33m=\u001b[0m \u001b[0mValidationPlot\u001b[0m\u001b[1;33m(\u001b[0m\u001b[0mexpRes\u001b[0m\u001b[1;33m,\u001b[0m\u001b[0mtxname\u001b[0m\u001b[1;33m,\u001b[0m\u001b[0maxes\u001b[0m\u001b[1;33m,\u001b[0m\u001b[0mkfactor\u001b[0m\u001b[1;33m=\u001b[0m\u001b[0mkfactor\u001b[0m\u001b[1;33m)\u001b[0m\u001b[1;33m\u001b[0m\u001b[0m\n\u001b[0;32m     66\u001b[0m     \u001b[0mvalPlot\u001b[0m\u001b[1;33m.\u001b[0m\u001b[0msetSLHAdir\u001b[0m\u001b[1;33m(\u001b[0m\u001b[0mslhadir\u001b[0m\u001b[1;33m)\u001b[0m\u001b[1;33m\u001b[0m\u001b[0m\n",
      "\u001b[1;31mAttributeError\u001b[0m: 'list' object has no attribute 'getValuesFor'"
     ]
    }
   ],
   "source": [
    "#Run the validation:\n",
    "agreementFactor = validatePlot(expRes,txname,axes,slhadir)\n",
    "#The output is a measure of how much the excluded region by SModelS agrees with\n",
    "#the official exclusion curve\n",
    "print agreementFactor"
   ]
  },
  {
   "cell_type": "code",
   "execution_count": null,
   "metadata": {
    "collapsed": false
   },
   "outputs": [],
   "source": [
    "#The data generated and the validation plot are stored in the experimental result validation folder:\n",
    "print os.listdir(os.path.join(expRes.path,'validation'))"
   ]
  }
 ],
 "metadata": {
  "kernelspec": {
   "display_name": "Python 2",
   "language": "python",
   "name": "python2"
  },
  "language_info": {
   "codemirror_mode": {
    "name": "ipython",
    "version": 2
   },
   "file_extension": ".py",
   "mimetype": "text/x-python",
   "name": "python",
   "nbconvert_exporter": "python",
   "pygments_lexer": "ipython2",
   "version": "2.7.9"
  }
 },
 "nbformat": 4,
 "nbformat_minor": 0
}
