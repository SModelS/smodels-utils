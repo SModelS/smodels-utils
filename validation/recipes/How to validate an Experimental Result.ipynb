{
 "metadata": {
  "name": ""
 },
 "nbformat": 3,
 "nbformat_minor": 0,
 "worksheets": [
  {
   "cells": [
    {
     "cell_type": "code",
     "collapsed": false,
     "input": [
      "import sys,os,logging\n",
      "home = os.path.expanduser(\"~\")\n",
      "sys.path.append(os.path.join(home,'smodels'))\n",
      "sys.path.append(os.path.join(home,'smodels-utils'))\n",
      "from validation.plotProducer import validateTxName,validatePlot,validateExpRes\n",
      "from smodels.experiment.databaseBrowser import Browser\n",
      "from smodels.experiment.databaseObjects import Database\n",
      "#Suppress warning and info messages:\n",
      "from smodels.theory.crossSection import logger as cl\n",
      "from smodels.theory.slhaDecomposer import logger as dl\n",
      "from smodels.experiment.txnameObject import logger as tl\n",
      "cl.setLevel(level=logging.ERROR) \n",
      "dl.setLevel(level=logging.ERROR)\n",
      "tl.setLevel(level=logging.ERROR)"
     ],
     "language": "python",
     "metadata": {},
     "outputs": [],
     "prompt_number": 2
    },
    {
     "cell_type": "code",
     "collapsed": false,
     "input": [
      "#Load the data base of experimental results:\n",
      "database = Database(os.path.join(home,\"smodels-database\"))"
     ],
     "language": "python",
     "metadata": {},
     "outputs": [],
     "prompt_number": 3
    },
    {
     "cell_type": "code",
     "collapsed": false,
     "input": [
      "#Select the experimental result to be validated:\n",
      "#(OBS: In order to make sure you are selecting an upper limit type of analyses, choose only the ones with datasetID = None)\n",
      "expRes = database.getExpResults(analysisIDs=['CMS-SUS-13-004'],datasetIDs=[None])"
     ],
     "language": "python",
     "metadata": {},
     "outputs": [],
     "prompt_number": 4
    },
    {
     "cell_type": "code",
     "collapsed": false,
     "input": [
      "#Set the directory containing the folders with the necessary SLHA files\n",
      "#(OBS: It can also be a folder containing the .tar files)\n",
      "slhadir = os.path.join(home,'smodels-utils/slha/')"
     ],
     "language": "python",
     "metadata": {},
     "outputs": [],
     "prompt_number": "*"
    },
    {
     "cell_type": "code",
     "collapsed": false,
     "input": [
      "#Run the validation:\n",
      "agreementFactor = validateExpRes(expRes,slhadir)\n",
      "#The output is a dictionary with measure of how much the excluded region by SModelS agrees with\n",
      "#the official exclusion curves\n",
      "print agreementFactor"
     ],
     "language": "python",
     "metadata": {},
     "outputs": [
      {
       "output_type": "stream",
       "stream": "stdout",
       "text": [
        "14:58:06.137 INFO     validation.plotProducer:40  Generating validation plot for CMS-SUS-13-004, T2tt, 2*Eq(mother,x)_Eq(lsp,y)\n"
       ]
      },
      {
       "output_type": "stream",
       "stream": "stdout",
       "text": [
        "[validationObjs] points in categories {'not_excluded_outside': 799, 'not_excluded_inside': 20, 'wrong': 0, 'excluded_inside': 476, 'total': 1302, 'excluded_outside': 7}\n",
        "15:28:50.683 INFO     validation.plotProducer:47  Validation plot done.\n"
       ]
      },
      {
       "output_type": "stream",
       "stream": "stdout",
       "text": [
        "[validationObjs] points in categories {'not_excluded_outside': 799, 'not_excluded_inside': 20, 'wrong': 0, 'excluded_inside': 476, 'total': 1302, 'excluded_outside': 7}\n",
        "15:28:50.920 INFO     validation.plotProducer:40  Generating validation plot for CMS-SUS-13-004, T1bbbb, 2*Eq(mother,x)_Eq(lsp,y)\n"
       ]
      }
     ],
     "prompt_number": "*"
    },
    {
     "cell_type": "code",
     "collapsed": false,
     "input": [
      "#The data generated and the validation plot are stored in the experimental result validation folder:\n",
      "print os.listdir(os.path.join(expRes.path,'validation'))"
     ],
     "language": "python",
     "metadata": {},
     "outputs": [
      {
       "output_type": "stream",
       "stream": "stdout",
       "text": [
        "['T1bbbb_2Eqmotherx_Eqlspy.png', 'T1tttt_2Eqmotherx_Eqlspy.png', 'T1ttttoff_2Eqmotherx_Eqlspy.png', 'T2ttoff_2Eqmotherx_Eqlspy.png', 'T2tt_2Eqmotherx_Eqlspy.png']\n"
       ]
      }
     ],
     "prompt_number": 7
    },
    {
     "cell_type": "code",
     "collapsed": false,
     "input": [],
     "language": "python",
     "metadata": {},
     "outputs": []
    }
   ],
   "metadata": {}
  }
 ]
}
