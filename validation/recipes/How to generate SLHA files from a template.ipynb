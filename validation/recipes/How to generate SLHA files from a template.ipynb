{
 "metadata": {
  "name": ""
 },
 "nbformat": 3,
 "nbformat_minor": 0,
 "worksheets": [
  {
   "cells": [
    {
     "cell_type": "code",
     "collapsed": false,
     "input": [
      "import sys,os,logging\n",
      "home = os.path.expanduser(\"~\")\n",
      "sys.path.append(os.path.join(home,'smodels'))\n",
      "sys.path.append(os.path.join(home,'smodels-utils'))\n",
      "from validation.slhaCreator import TemplateFile"
     ],
     "language": "python",
     "metadata": {},
     "outputs": [],
     "prompt_number": 1
    },
    {
     "cell_type": "code",
     "collapsed": false,
     "input": [
      "#Create the template file object:\n",
      "template = os.path.join(home,'smodels-utils/slha/templates/T2bb.template') #Path to template file\n",
      "axes = \"2*Eq(mother,x)_Eq(lsp,y)\"  #Define the axes corresponding to the plane to generate files for\n",
      "temp = TemplateFile(template,axes)"
     ],
     "language": "python",
     "metadata": {},
     "outputs": [],
     "prompt_number": 2
    },
    {
     "cell_type": "code",
     "collapsed": false,
     "input": [
      "#Define the (x,y) points of the plot to generate files for:\n",
      "pts = [[200.,50.],[300.,50.]]\n",
      "slhafiles = temp.createFilesFor(pts,addXsecs=True) #Set addXsecs=False if you do not want xsecs to be computed"
     ],
     "language": "python",
     "metadata": {},
     "outputs": [
      {
       "output_type": "stream",
       "stream": "stdout",
       "text": [
        "15:18:20.665 INFO     validation.slhaCreator:129 File /home/lessa/smodels-utils/validation/recipes/T2bb_gvxwkF.slha created.\n"
       ]
      },
      {
       "output_type": "stream",
       "stream": "stdout",
       "text": [
        "15:18:23.891 WARNING  smodels.tools.xsecComputer:153 SLHA file already contains XSECTION blocks. Adding only missing cross-sections.\n"
       ]
      },
      {
       "output_type": "stream",
       "stream": "stdout",
       "text": [
        "15:18:23.894 INFO     smodels.tools.xsecComputer:77  Using LO cross-sections from /home/lessa/smodels-utils/validation/recipes/T2bb_gvxwkF.slha\n"
       ]
      },
      {
       "output_type": "stream",
       "stream": "stdout",
       "text": [
        "X= 8 TeV (NLO+NLL):1.56E+01 [pb]\n",
        "15:18:23.929 WARNING  smodels.tools.xsecComputer:153 SLHA file already contains XSECTION blocks. Adding only missing cross-sections.\n"
       ]
      },
      {
       "output_type": "stream",
       "stream": "stdout",
       "text": [
        "15:18:23.943 INFO     validation.slhaCreator:129 File /home/lessa/smodels-utils/validation/recipes/T2bb_8vnZec.slha created.\n"
       ]
      },
      {
       "output_type": "stream",
       "stream": "stdout",
       "text": [
        "15:18:28.546 WARNING  smodels.tools.xsecComputer:153 SLHA file already contains XSECTION blocks. Adding only missing cross-sections.\n"
       ]
      },
      {
       "output_type": "stream",
       "stream": "stdout",
       "text": [
        "15:18:28.550 INFO     smodels.tools.xsecComputer:77  Using LO cross-sections from /home/lessa/smodels-utils/validation/recipes/T2bb_8vnZec.slha\n"
       ]
      },
      {
       "output_type": "stream",
       "stream": "stdout",
       "text": [
        "X= 8 TeV (NLO+NLL):1.83E+00 [pb]\n",
        "15:18:28.572 WARNING  smodels.tools.xsecComputer:153 SLHA file already contains XSECTION blocks. Adding only missing cross-sections.\n"
       ]
      }
     ],
     "prompt_number": 3
    },
    {
     "cell_type": "code",
     "collapsed": false,
     "input": [
      "#The output is the name of the files generated:\n",
      "print slhafiles"
     ],
     "language": "python",
     "metadata": {},
     "outputs": [
      {
       "output_type": "stream",
       "stream": "stdout",
       "text": [
        "['/home/lessa/smodels-utils/validation/recipes/T2bb_gvxwkF.slha', '/home/lessa/smodels-utils/validation/recipes/T2bb_8vnZec.slha']\n"
       ]
      }
     ],
     "prompt_number": 4
    },
    {
     "cell_type": "code",
     "collapsed": false,
     "input": [],
     "language": "python",
     "metadata": {},
     "outputs": []
    }
   ],
   "metadata": {}
  }
 ]
}