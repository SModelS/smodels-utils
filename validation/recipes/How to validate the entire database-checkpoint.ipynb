{
 "metadata": {
  "name": ""
 },
 "nbformat": 3,
 "nbformat_minor": 0,
 "worksheets": [
  {
   "cells": [
    {
     "cell_type": "code",
     "collapsed": false,
     "input": [
      "import sys,os,logging\n",
      "from plotProducer import validateTxName,validatePlot,validateExpRes\n",
      "from smodels.experiment.databaseBrowser import Browser\n",
      "from smodels.experiment.databaseObjects import DataBase\n",
      "#Suppress warning and info messages:\n",
      "from smodels.theory.crossSection import logger as cl\n",
      "from smodels.theory.slhaDecomposer import logger as dl\n",
      "from smodels.experiment.txnameObject import logger as tl\n",
      "cl.setLevel(level=logging.ERROR) \n",
      "dl.setLevel(level=logging.ERROR)\n",
      "tl.setLevel(level=logging.ERROR)"
     ],
     "language": "python",
     "metadata": {},
     "outputs": [],
     "prompt_number": 1
    },
    {
     "cell_type": "code",
     "collapsed": false,
     "input": [
      "#Load the data base of experimental results:\n",
      "home = os.path.expanduser(\"~\")\n",
      "database = DataBase(os.path.join(home,\"smodels-database\"))"
     ],
     "language": "python",
     "metadata": {},
     "outputs": [],
     "prompt_number": 2
    },
    {
     "cell_type": "code",
     "collapsed": false,
     "input": [
      "#Set the directory containing the folders with the necessary SLHA files\n",
      "#(OBS: It can also be a folder containing the .tar files)\n",
      "slhadir = os.path.join(home,'smodels-utils/slha/')"
     ],
     "language": "python",
     "metadata": {},
     "outputs": []
    },
    {
     "cell_type": "code",
     "collapsed": false,
     "input": [
      "#Run the validation:\n",
      "agreementFactors = validateDataBase(database,slhadir)\n",
      "#The output is a dictionary with measure of how much the excluded region by SModelS agrees with\n",
      "#the official exclusion curves\n",
      "print agreementFactor"
     ],
     "language": "python",
     "metadata": {},
     "outputs": []
    }
   ],
   "metadata": {}
  }
 ]
}