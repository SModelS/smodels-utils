{
 "metadata": {
  "name": ""
 },
 "nbformat": 3,
 "nbformat_minor": 0,
 "worksheets": [
  {
   "cells": [
    {
     "cell_type": "code",
     "collapsed": false,
     "input": [
      "import sys,os\n",
      "home = os.path.expanduser(\"~\")\n",
      "sys.path.append(os.path.join(home,'smodels'))\n",
      "sys.path.append(os.path.join(home,'smodels-utils'))\n",
      "from validation.plotProducer import validateTxName,validatePlot,validateExpRes\n",
      "from smodels.experiment.databaseBrowser import Browser\n",
      "from smodels.experiment.databaseObjects import DataBase"
     ],
     "language": "python",
     "metadata": {},
     "outputs": [],
     "prompt_number": 2
    },
    {
     "cell_type": "code",
     "collapsed": false,
     "input": [
      "#Load the data base of experimental results:\n",
      "database = DataBase(os.path.join(home,\"smodels-database\"))"
     ],
     "language": "python",
     "metadata": {},
     "outputs": [],
     "prompt_number": 3
    },
    {
     "cell_type": "code",
     "collapsed": false,
     "input": [
      "#Select the experimental result to be validated:\n",
      "#(OBS: In order to make sure you are selecting an upper limit type of analyses, choose only the ones with datasetID = None)\n",
      "expRes = database.getExpResults(analysisIDs=['CMS-SUS-13-004'],datasetIDs=[None])"
     ],
     "language": "python",
     "metadata": {},
     "outputs": [],
     "prompt_number": 4
    },
    {
     "cell_type": "code",
     "collapsed": false,
     "input": [
      "#Set the directory containing the folders with the necessary SLHA files\n",
      "#(OBS: It can also be a folder containing the .tar files)\n",
      "slhadir = os.path.join(home,'smodels-utils/slha/')"
     ],
     "language": "python",
     "metadata": {},
     "outputs": [],
     "prompt_number": 5
    },
    {
     "cell_type": "code",
     "collapsed": false,
     "input": [
      "#Run the validation:\n",
      "agreementFactor = validateExpRes(expRes,slhadir)\n",
      "#The output is a dictionary with measure of how much the excluded region by SModelS agrees with\n",
      "#the official exclusion curves\n",
      "print agreementFactor"
     ],
     "language": "python",
     "metadata": {},
     "outputs": [
      {
       "output_type": "stream",
       "stream": "stdout",
       "text": [
        "13:54:55.378 WARNING  validation.plotProducer:91  The SLHA folder for T2tt has not been defined\n"
       ]
      },
      {
       "output_type": "stream",
       "stream": "stdout",
       "text": [
        "13:54:55.379 WARNING  validation.plotProducer:91  The SLHA folder for T1bbbb has not been defined\n"
       ]
      },
      {
       "output_type": "stream",
       "stream": "stdout",
       "text": [
        "13:54:55.379 WARNING  validation.plotProducer:91  The SLHA folder for T2ttoff has not been defined\n"
       ]
      },
      {
       "output_type": "stream",
       "stream": "stdout",
       "text": [
        "13:54:55.379 WARNING  validation.plotProducer:91  The SLHA folder for T1tttt has not been defined\n"
       ]
      },
      {
       "output_type": "stream",
       "stream": "stdout",
       "text": [
        "13:54:55.380 WARNING  validation.plotProducer:91  The SLHA folder for T1ttttoff has not been defined\n"
       ]
      },
      {
       "output_type": "stream",
       "stream": "stdout",
       "text": [
        "{}\n"
       ]
      }
     ],
     "prompt_number": 6
    },
    {
     "cell_type": "code",
     "collapsed": false,
     "input": [
      "#The data generated and the validation plot are stored in the experimental result validation folder:\n",
      "print os.listdir(os.path.join(expRes.path,'validation'))"
     ],
     "language": "python",
     "metadata": {},
     "outputs": [
      {
       "output_type": "stream",
       "stream": "stdout",
       "text": [
        "['T1bbbb_2Eqmotherx_Eqlspy.png', 'T1tttt_2Eqmotherx_Eqlspy.png', 'T1ttttoff_2Eqmotherx_Eqlspy.png', 'T2ttoff_2Eqmotherx_Eqlspy.png', 'T2tt_2Eqmotherx_Eqlspy.png']\n"
       ]
      }
     ],
     "prompt_number": 7
    },
    {
     "cell_type": "code",
     "collapsed": false,
     "input": [],
     "language": "python",
     "metadata": {},
     "outputs": []
    }
   ],
   "metadata": {}
  }
 ]
}