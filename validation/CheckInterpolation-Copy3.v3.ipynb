{
 "metadata": {
  "kernelspec": {
   "display_name": "Python 2",
   "language": "python",
   "name": "python2"
  },
  "language_info": {
   "codemirror_mode": {
    "name": "ipython",
    "version": 2
   },
   "file_extension": ".py",
   "mimetype": "text/x-python",
   "name": "python",
   "nbconvert_exporter": "python",
   "pygments_lexer": "ipython2",
   "version": "2.7.12"
  },
  "name": ""
 },
 "nbformat": 3,
 "nbformat_minor": 0,
 "worksheets": [
  {
   "cells": [
    {
     "cell_type": "code",
     "collapsed": true,
     "input": [
      "import sys\n",
      "sys.path.append('/home/lessa/smodels-master')\n",
      "from smodels.experiment.databaseObj import Database\n",
      "from smodels.tools.physicsUnits import GeV,fb,pb\n",
      "import matplotlib.pyplot as plt\n",
      "from mpl_toolkits.mplot3d import Axes3D\n",
      "import numpy as np"
     ],
     "language": "python",
     "metadata": {},
     "outputs": [],
     "prompt_number": 1
    },
    {
     "cell_type": "code",
     "collapsed": true,
     "input": [
      "db = Database('/home/lessa/smodels-database-master')"
     ],
     "language": "python",
     "metadata": {},
     "outputs": [],
     "prompt_number": 2
    },
    {
     "cell_type": "code",
     "collapsed": false,
     "input": [
      "exp = db.getExpResults(analysisIDs=['ATLAS-SUSY-2013-02'],dataTypes=['efficiencyMap'],txnames=['T2'],\n",
      "                       useSuperseded=True,useNonValidated=True)[0]"
     ],
     "language": "python",
     "metadata": {},
     "outputs": [],
     "prompt_number": 3
    },
    {
     "cell_type": "code",
     "collapsed": false,
     "input": [
      "tx = exp.getTxNames()[0]\n",
      "print tx"
     ],
     "language": "python",
     "metadata": {},
     "outputs": [
      {
       "output_type": "stream",
       "stream": "stdout",
       "text": [
        "T2\n"
       ]
      }
     ],
     "prompt_number": 4
    },
    {
     "cell_type": "code",
     "collapsed": false,
     "input": [
      "m = [ [1000.7837099*GeV, 415.733047491*GeV]]*2\n",
      "porig = tx.txnameData.flattenMassArray(m)\n",
      "print 'porig=',porig\n",
      "pt = ( (np.matrix(porig)[0] - tx.txnameData.delta_x ) ).tolist()[0]\n",
      "print pt\n",
      "pt = np.dot(pt,tx.txnameData._V)  ## rotate\n",
      "print pt\n",
      "pt = np.array(pt[:tx.txnameData.dimensionality])\n",
      "print 'Pt=',pt,'val=',tx.txnameData.getValueFor(m)\n",
      "# fig = plt.figure()\n",
      "# ax = fig.add_subplot(111, projection='3d')\n",
      "# ptm = [pt[0],pt[1],tx.txnameData.getValueFor(m).asNumber(pb)]\n",
      "# ax.scatter([ptm[0]], [ptm[1]], [ptm[2]],c='r',marker='o')\n",
      "xpts = []\n",
      "ypts = []\n",
      "zpts = []\n",
      "for ipt in tx.txnameData.tri.simplices[tx.txnameData.tri.find_simplex(pt)]:\n",
      "    xpts.append(tx.txnameData.tri.points[ipt][0])\n",
      "    ypts.append(tx.txnameData.tri.points[ipt][1])\n",
      "    if tx.txnameData.dimensionality == 3:\n",
      "        zpts.append(tx.txnameData.tri.points[ipt][2])\n",
      "    else:\n",
      "        zpts.append(tx.txnameData.xsec[ipt])\n",
      "    print tx.txnameData.tri.points[ipt],tx.txnameData.xsec[ipt]"
     ],
     "language": "python",
     "metadata": {},
     "outputs": [
      {
       "output_type": "stream",
       "stream": "stdout",
       "text": [
        "porig= [1000.7837099, 415.733047491, 1000.7837099, 415.733047491]\n",
        "[181.89373434987772, 49.53255849344498, 181.89373434987772, 49.53255849344498]\n",
        "[  2.55720758e+02   7.53956496e+01  -2.84217094e-14   1.01252340e-13]\n",
        "Pt= [ 255.72075769   75.39564962] val= 0.00103550786242\n",
        "[ 194.44769458  105.28834849] 0.0007242\n",
        "[ 322.12379795   -2.06533159] 0.0009194\n",
        "[ 340.40075328   70.68047863] 0.001834\n"
       ]
      }
     ],
     "prompt_number": 5
    },
    {
     "cell_type": "code",
     "collapsed": false,
     "input": [
      "for pt in tx.txnameData._data:\n",
      "    print pt[0][0],pt[1]"
     ],
     "language": "python",
     "metadata": {},
     "outputs": [],
     "prompt_number": null
    },
    {
     "cell_type": "code",
     "collapsed": false,
     "input": [
      "fig = plt.figure()\n",
      "ax = fig.add_subplot(111, projection='3d')\n",
      "ax.scatter(xpts, ypts, zpts,s=80,c='r',marker='o')\n",
      "ax.scatter([pt[0]],[pt[1]],[pt[2]],s=80,c='b',marker='o')\n",
      "ax.set_xlabel('x')\n",
      "ax.set_ylabel('y')\n",
      "if tx.txnameData.dimensionality == 3:\n",
      "    ax.set_zlabel('UL')\n",
      "else:\n",
      "    ax.set_zlabel('z')\n",
      "\n",
      "plt.show()"
     ],
     "language": "python",
     "metadata": {},
     "outputs": [],
     "prompt_number": null
    },
    {
     "cell_type": "code",
     "collapsed": false,
     "input": [
      "uvw = [pt[:3]]\n",
      "fill_value=np.nan\n",
      "tol = sys.float_info.epsilon * 1e06\n",
      "simplex = tx.txnameData.tri.find_simplex(uvw, tol=tol)\n",
      "vertices = np.take(tx.txnameData.tri.simplices, simplex, axis=0)\n",
      "temp = np.take(tx.txnameData.tri.transform, simplex, axis=0)\n",
      "d=temp.shape[2]\n",
      "delta = uvw - temp[:, d]\n",
      "bary = np.einsum('njk,nk->nj', temp[:, :d, :], delta)\n",
      "tx.txnameData.vtx = vertices\n",
      "tx.txnameData.wts = np.hstack((bary, 1 - bary.sum(axis=1, keepdims=True)))\n",
      "v=tx.txnameData.xsec\n",
      "if type(tx.txnameData.xsec[0]) == float:\n",
      "    values = np.array ( [ float(x) for x in tx.txnameData.xsec ] )\n",
      "else:\n",
      "    values = np.array ( [ x.asNumber() for x in tx.txnameData.xsec ] )\n",
      "print 'v=',tx.txnameData.wts\n",
      "ret = np.einsum('nj,nj->n', np.take(values, tx.txnameData.vtx), tx.txnameData.wts)\n",
      "print 'r=',ret\n",
      "with np.errstate(invalid='ignore'):\n",
      "    ret[np.any(tx.txnameData.wts < -1e-10, axis=1)] = fill_value\n",
      "print ret"
     ],
     "language": "python",
     "metadata": {},
     "outputs": [],
     "prompt_number": null
    },
    {
     "cell_type": "code",
     "collapsed": false,
     "input": [
      "fig.clear()\n",
      "plt.triplot(xpts,ypts)\n",
      "plt.plot([ptm[0]], [ptm[1]],'ro',xpts,ypts,'bo')\n",
      "plt.show()"
     ],
     "language": "python",
     "metadata": {},
     "outputs": [],
     "prompt_number": null
    },
    {
     "cell_type": "code",
     "collapsed": false,
     "input": [
      "tri = tx.txnameData.tri\n",
      "simplex = tri.find_simplex([pt])\n",
      "vertices = np.take(tri.simplices, simplex, axis=0)\n",
      "temp = np.take(tri.transform, simplex, axis=0)\n",
      "d=temp.shape[2]\n",
      "delta = [pt] - temp[:, d]\n",
      "bary = np.einsum('njk,nk->nj', temp[:, :d, :], delta)\n",
      "vtx = vertices\n",
      "wts = np.hstack((bary, 1 - bary.sum(axis=1, keepdims=True)))\n",
      "v=tx.txnameData.xsec\n",
      "values = np.array ( [ x.asNumber() for x in tx.txnameData.xsec ] )\n",
      "ret = np.einsum('nj,nj->n', np.take(values, vtx), wts)\n",
      "with np.errstate(invalid='ignore'):\n",
      "    ret[np.any(wts < -1e-10, axis=1)] = np.nan\n",
      "print ret[0]"
     ],
     "language": "python",
     "metadata": {},
     "outputs": [],
     "prompt_number": null
    },
    {
     "cell_type": "code",
     "collapsed": false,
     "input": [
      "vertices"
     ],
     "language": "python",
     "metadata": {},
     "outputs": [],
     "prompt_number": null
    },
    {
     "cell_type": "code",
     "collapsed": false,
     "input": [
      "pt"
     ],
     "language": "python",
     "metadata": {},
     "outputs": [],
     "prompt_number": null
    },
    {
     "cell_type": "code",
     "collapsed": false,
     "input": [
      "m = [[347.406576078*GeV,166.767198233*GeV],[347.406576078*GeV,166.767198233*GeV]]\n",
      "porig = tx.txnameData.flattenMassArray(m)\n",
      "ptA = ( (np.matrix(porig)[0] - tx.txnameData.delta_x ) ).tolist()[0]\n",
      "ptA = np.dot(ptA,tx.txnameData._V)  ## rotate\n",
      "print ptA,tx.txnameData.countNonZeros(ptA)"
     ],
     "language": "python",
     "metadata": {},
     "outputs": [],
     "prompt_number": null
    },
    {
     "cell_type": "code",
     "collapsed": false,
     "input": [
      "print tx.txnameData.getValueFor(m)"
     ],
     "language": "python",
     "metadata": {},
     "outputs": [],
     "prompt_number": null
    },
    {
     "cell_type": "code",
     "collapsed": true,
     "input": [
      "from smodels.tools.statistics import CLs"
     ],
     "language": "python",
     "metadata": {},
     "outputs": [],
     "prompt_number": 8
    },
    {
     "cell_type": "code",
     "collapsed": false,
     "input": [
      "observedN, expectedBG, bgError, signal =  133,125,10,0.004026669783702242*20.3\n",
      "print CLs(observedN, expectedBG, bgError, signal, 10000)\n",
      "print CLs(observedN, expectedBG, bgError, signal, 10000)\n",
      "print CLs(observedN, expectedBG, bgError, signal, 10000)\n",
      "print CLs(observedN, expectedBG, bgError, signal, 10000)"
     ],
     "language": "python",
     "metadata": {},
     "outputs": [
      {
       "output_type": "stream",
       "stream": "stdout",
       "text": [
        "0.00689369915897\n",
        "0.0\n",
        "0.0\n",
        "0.00579310344828\n"
       ]
      }
     ],
     "prompt_number": 17
    },
    {
     "cell_type": "code",
     "collapsed": true,
     "input": [],
     "language": "python",
     "metadata": {},
     "outputs": [],
     "prompt_number": null
    }
   ],
   "metadata": {}
  }
 ]
}
