{
 "cells": [
  {
   "cell_type": "code",
   "execution_count": 1,
   "metadata": {
    "collapsed": false
   },
   "outputs": [],
   "source": [
    "import sys\n",
    "sys.path.append('/home/lessa/smodels')\n",
    "from smodels.experiment.databaseObj import Database\n",
    "from smodels.tools.physicsUnits import GeV,fb,pb\n",
    "import matplotlib.pyplot as plt\n",
    "from mpl_toolkits.mplot3d import Axes3D\n",
    "import numpy as np"
   ]
  },
  {
   "cell_type": "code",
   "execution_count": 2,
   "metadata": {
    "collapsed": false
   },
   "outputs": [],
   "source": [
    "db = Database('/home/lessa/smodels-database')"
   ]
  },
  {
   "cell_type": "code",
   "execution_count": 3,
   "metadata": {
    "collapsed": false
   },
   "outputs": [],
   "source": [
    "exp = db.getExpResults(analysisIDs=['CMS-PAS-SUS-12-022'],dataTypes=['upperLimit'],\n",
    "                       txnames=['TChiChipmSlepL'],useNonValidated=True,useSuperseded=True)[0]"
   ]
  },
  {
   "cell_type": "code",
   "execution_count": 4,
   "metadata": {
    "collapsed": false
   },
   "outputs": [],
   "source": [
    "tx = exp.getTxNames()[0]"
   ]
  },
  {
   "cell_type": "code",
   "execution_count": 16,
   "metadata": {
    "collapsed": false
   },
   "outputs": [
    {
     "name": "stdout",
     "output_type": "stream",
     "text": [
      "2.80E+02 [GeV] 280.189095389 UL= 2.07E-02 [pb]\n",
      "pt= [-682.18427293 -163.56358093 -191.69998497] simplex= 8297\n"
     ]
    }
   ],
   "source": [
    "#Mass falling in the x = 0.95 plane (within machine precision)\n",
    "m = [[291.0146649433315*GeV, 280.18909538851665*GeV-5.*10**(-12)*GeV, 74.50327384694825*GeV],\n",
    "     [291.0146649433315*GeV, 280.18909538851665*GeV-5.*10**(-12)*GeV, 74.50327384694825*GeV]]\n",
    "print m[0][1],0.95*m[0][0].asNumber(GeV)+0.05*m[0][2].asNumber(GeV),\n",
    "print 'UL=',tx.txnameData.getValueFor(m)\n",
    "#Rotated point:\n",
    "porig = tx.txnameData.flattenMassArray(m)\n",
    "pt = ( (np.matrix(porig)[0] - tx.txnameData.delta_x ) ).tolist()[0]\n",
    "pt = np.dot(pt,tx.txnameData._V)  ## rotate\n",
    "pt = np.array(pt[:tx.txnameData.dimensionality])\n",
    "print 'pt=',pt,'simplex=',tx.txnameData.tri.find_simplex(pt,tol=None)"
   ]
  },
  {
   "cell_type": "code",
   "execution_count": 6,
   "metadata": {
    "collapsed": false
   },
   "outputs": [
    {
     "name": "stdout",
     "output_type": "stream",
     "text": [
      "UL= 2.07E-02 [pb]\n",
      "pt= [-682.18427293 -163.56358093 -191.69998497] simplex= 8297\n"
     ]
    }
   ],
   "source": [
    "#Mass falling EXACTLY in the x = 0.95 plane\n",
    "mExact = [[291.0146649433315*GeV, 280.18909538851665*GeV, 74.50327384694825*GeV],\n",
    "     [291.0146649433315*GeV, 280.18909538851665*GeV, 74.50327384694825*GeV]]\n",
    "mExact[0][1] = 0.95*mExact[0][0] + 0.05*mExact[0][-1]\n",
    "mExact[1][1] = 0.95*mExact[0][0] + 0.05*mExact[0][-1]\n",
    "print 'UL=',tx.txnameData.getValueFor(mExact)\n",
    "#Rotated point:\n",
    "porig = tx.txnameData.flattenMassArray(mExact)\n",
    "pt = ( (np.matrix(porig)[0] - tx.txnameData.delta_x ) ).tolist()[0]\n",
    "pt = np.dot(pt,tx.txnameData._V)  ## rotate\n",
    "pt = np.array(pt[:tx.txnameData.dimensionality])\n",
    "print 'pt=',pt,'simplex=',tx.txnameData.tri.find_simplex(pt)"
   ]
  },
  {
   "cell_type": "code",
   "execution_count": 7,
   "metadata": {
    "collapsed": false
   },
   "outputs": [
    {
     "data": {
      "text/plain": [
       "-4.32E-12 [GeV]"
      ]
     },
     "execution_count": 7,
     "metadata": {},
     "output_type": "execute_result"
    }
   ],
   "source": [
    "mExact[0][1]-m[0][1]"
   ]
  },
  {
   "cell_type": "code",
   "execution_count": 8,
   "metadata": {
    "collapsed": false
   },
   "outputs": [
    {
     "name": "stdout",
     "output_type": "stream",
     "text": [
      "2.22044604925e-16\n"
     ]
    }
   ],
   "source": [
    "print(np.finfo(float).eps)"
   ]
  },
  {
   "cell_type": "code",
   "execution_count": null,
   "metadata": {
    "collapsed": true
   },
   "outputs": [],
   "source": []
  }
 ],
 "metadata": {
  "kernelspec": {
   "display_name": "Python 2",
   "language": "python",
   "name": "python2"
  },
  "language_info": {
   "codemirror_mode": {
    "name": "ipython",
    "version": 2
   },
   "file_extension": ".py",
   "mimetype": "text/x-python",
   "name": "python",
   "nbconvert_exporter": "python",
   "pygments_lexer": "ipython2",
   "version": "2.7.12"
  }
 },
 "nbformat": 4,
 "nbformat_minor": 0
}
