{
 "metadata": {
  "kernelspec": {
   "display_name": "Python 2",
   "language": "python",
   "name": "python2"
  },
  "language_info": {
   "codemirror_mode": {
    "name": "ipython",
    "version": 2
   },
   "file_extension": ".py",
   "mimetype": "text/x-python",
   "name": "python",
   "nbconvert_exporter": "python",
   "pygments_lexer": "ipython2",
   "version": "2.7.12"
  },
  "name": "",
  "signature": "sha256:a906d659776a6eaca7fc5103c6e86fc4cee458dd3fa0be6b747de5cc14c42247"
 },
 "nbformat": 3,
 "nbformat_minor": 0,
 "worksheets": [
  {
   "cells": [
    {
     "cell_type": "code",
     "collapsed": true,
     "input": [
      "import sys\n",
      "sys.path.append('/home/lessa/smodels')\n",
      "from smodels.experiment.databaseObj import Database\n",
      "from smodels.tools.physicsUnits import GeV,fb,pb\n",
      "import matplotlib.pyplot as plt\n",
      "from mpl_toolkits.mplot3d import Axes3D\n",
      "import numpy as np"
     ],
     "language": "python",
     "metadata": {},
     "outputs": [],
     "prompt_number": 1
    },
    {
     "cell_type": "code",
     "collapsed": true,
     "input": [
      "db = Database('/home/lessa/smodels-database')"
     ],
     "language": "python",
     "metadata": {},
     "outputs": [],
     "prompt_number": 2
    },
    {
     "cell_type": "code",
     "collapsed": false,
     "input": [
      "exp = db.getExpResults(analysisIDs=['ATLAS-SUSY-2013-02'],dataTypes=['upperLimit'],txnames=['TGQ'],\n",
      "                       useSuperseded=True,useNonValidated=True)[0]"
     ],
     "language": "python",
     "metadata": {},
     "outputs": [],
     "prompt_number": 3
    },
    {
     "cell_type": "code",
     "collapsed": false,
     "input": [
      "tx = exp.getTxNames()[0]\n",
      "print tx"
     ],
     "language": "python",
     "metadata": {},
     "outputs": [
      {
       "output_type": "stream",
       "stream": "stdout",
       "text": [
        "TGQ\n"
       ]
      }
     ],
     "prompt_number": 4
    },
    {
     "cell_type": "code",
     "collapsed": false,
     "input": [
      "# new_data = []\n",
      "# for pt in data:\n",
      "#     new_data.append(pt)\n",
      "#     new_data[-1][0][0][0] = 0.96*new_data[-1][0][1][0]\n",
      "# tx.txnameData._data =  new_data\n",
      "# tx.txnameData._V = None\n",
      "# tx.txnameData.computeV()"
     ],
     "language": "python",
     "metadata": {},
     "outputs": [],
     "prompt_number": null
    },
    {
     "cell_type": "code",
     "collapsed": false,
     "input": [
      "# xvals = [pt[0][0][0].asNumber(GeV) for pt in data]\n",
      "# yvals = [pt[0][0][-1].asNumber(GeV) for pt in data]\n",
      "# zvals = [pt[1] for pt in data]"
     ],
     "language": "python",
     "metadata": {},
     "outputs": [],
     "prompt_number": 7
    },
    {
     "cell_type": "code",
     "collapsed": false,
     "input": [
      "# fig = plt.figure()\n",
      "# ax = fig.add_subplot(111, projection='3d')\n",
      "# ax.scatter(xvals, yvals, zvals)\n",
      "# ax.set_xlabel('M1')\n",
      "# ax.set_ylabel('m')\n",
      "# ax.set_zlabel('UL')\n",
      "\n",
      "# plt.show()"
     ],
     "language": "python",
     "metadata": {},
     "outputs": [],
     "prompt_number": null
    },
    {
     "cell_type": "code",
     "collapsed": false,
     "input": [
      "m =[[470.49391941*GeV, 354.8 *GeV],[490.1*GeV, 354.8 *GeV]]\n",
      "porig = tx.txnameData.flattenMassArray(m)\n",
      "pt = ( (np.matrix(porig)[0] - tx.txnameData.delta_x ) ).tolist()[0]\n",
      "pt = np.dot(pt,tx.txnameData._V)  ## rotate\n",
      "pt = np.array(pt[:tx.txnameData.dimensionality])\n",
      "print 'Pt=',pt,'val=',tx.txnameData.getValueFor(m)\n",
      "# fig = plt.figure()\n",
      "# ax = fig.add_subplot(111, projection='3d')\n",
      "# ptm = [pt[0],pt[1],tx.txnameData.getValueFor(m).asNumber(pb)]\n",
      "# ax.scatter([ptm[0]], [ptm[1]], [ptm[2]],c='r',marker='o')\n",
      "xpts = []\n",
      "ypts = []\n",
      "zpts = []\n",
      "simplex = tx.txnameData.tri.find_simplex(pt,tol=0.2)\n",
      "if simplex == [-1]:\n",
      "    print simplex\n",
      "else:\n",
      "    for ipt in tx.txnameData.tri.simplices[tx.txnameData.tri.find_simplex(pt)]:\n",
      "        xpts.append(tx.txnameData.tri.points[ipt][0])\n",
      "        ypts.append(tx.txnameData.tri.points[ipt][1])\n",
      "        if tx.txnameData.dimensionality == 3:\n",
      "            zpts.append(tx.txnameData.tri.points[ipt][2])\n",
      "        else:\n",
      "            zpts.append(tx.txnameData.xsec[ipt])\n",
      "        print tx.txnameData.tri.points[ipt],tx.txnameData.xsec[ipt]"
     ],
     "language": "python",
     "metadata": {},
     "outputs": [
      {
       "output_type": "stream",
       "stream": "stdout",
       "text": [
        "Pt= [ -1.02262642e+03  -2.03086156e+02   1.28329438e-03] val= 4.81E+03 [fb]\n",
        "[ -9.94788922e+02  -2.79159857e+02  -2.15283561e-04] 2372.3\n",
        "[ -1.14014344e+03  -2.45923505e+02   3.11448130e-04] 7703.3\n",
        "[ -2.29979197e+02   4.76719726e+01   1.06981350e-02] 18.876\n",
        "[ -1.13207148e+03  -2.22480940e+02   2.44755464e-04] 5599.5\n"
       ]
      }
     ],
     "prompt_number": 7
    },
    {
     "cell_type": "code",
     "collapsed": false,
     "input": [
      "print len(tx.txnameData.tri.points)"
     ],
     "language": "python",
     "metadata": {},
     "outputs": [
      {
       "output_type": "stream",
       "stream": "stdout",
       "text": [
        "322\n"
       ]
      }
     ],
     "prompt_number": 19
    },
    {
     "cell_type": "code",
     "collapsed": false,
     "input": [
      "from mpl_toolkits.mplot3d import Axes3D\n",
      "fig = plt.figure()\n",
      "ax = fig.add_subplot(111, projection='3d')\n",
      "xL = [ppt[0] for ppt in tx.txnameData.tri.points]\n",
      "yL = [ppt[-1] for ppt in tx.txnameData.tri.points]\n",
      "zL = [ppt[-2] for ppt in tx.txnameData.tri.points]\n",
      "ax.scatter(xL,yL,zL)\n",
      "plt.show()"
     ],
     "language": "python",
     "metadata": {},
     "outputs": []
    },
    {
     "cell_type": "code",
     "collapsed": false,
     "input": [
      "fig = plt.figure()\n",
      "ax = fig.add_subplot(111, projection='3d')\n",
      "ax.scatter(xpts, ypts, zpts,s=80,c='r',marker='o')\n",
      "ax.scatter([pt[0]],[pt[1]],[pt[2]],s=80,c='b',marker='o')\n",
      "ax.set_xlabel('x')\n",
      "ax.set_ylabel('y')\n",
      "if tx.txnameData.dimensionality == 3:\n",
      "    ax.set_zlabel('UL')\n",
      "else:\n",
      "    ax.set_zlabel('z')\n",
      "\n",
      "plt.show()"
     ],
     "language": "python",
     "metadata": {},
     "outputs": [],
     "prompt_number": null
    },
    {
     "cell_type": "code",
     "collapsed": false,
     "input": [
      "uvw = [pt[:3]]\n",
      "fill_value=np.nan\n",
      "tol = sys.float_info.epsilon * 1e06\n",
      "simplex = tx.txnameData.tri.find_simplex(uvw, tol=tol)\n",
      "vertices = np.take(tx.txnameData.tri.simplices, simplex, axis=0)\n",
      "temp = np.take(tx.txnameData.tri.transform, simplex, axis=0)\n",
      "d=temp.shape[2]\n",
      "delta = uvw - temp[:, d]\n",
      "bary = np.einsum('njk,nk->nj', temp[:, :d, :], delta)\n",
      "tx.txnameData.vtx = vertices\n",
      "tx.txnameData.wts = np.hstack((bary, 1 - bary.sum(axis=1, keepdims=True)))\n",
      "v=tx.txnameData.xsec\n",
      "if type(tx.txnameData.xsec[0]) == float:\n",
      "    values = np.array ( [ float(x) for x in tx.txnameData.xsec ] )\n",
      "else:\n",
      "    values = np.array ( [ x.asNumber() for x in tx.txnameData.xsec ] )\n",
      "print 'w=',tx.txnameData.wts\n",
      "ret = np.einsum('nj,nj->n', np.take(values, tx.txnameData.vtx), tx.txnameData.wts)\n",
      "print 'r=',ret\n",
      "print 'vals=',np.take(values, tx.txnameData.vtx)\n",
      "with np.errstate(invalid='ignore'):\n",
      "    ret[np.any(tx.txnameData.wts < -1e-10, axis=1)] = fill_value\n",
      "print ret"
     ],
     "language": "python",
     "metadata": {},
     "outputs": [
      {
       "output_type": "stream",
       "stream": "stdout",
       "text": [
        "w= [[  2.78948156e-01   6.00328425e-01   1.20723419e-01  -2.05766515e-11]]\n",
        "r= [ -7.53105445e-16]\n",
        "vals= [[  0.00000000e+00   0.00000000e+00   0.00000000e+00   3.66000000e-05]]\n",
        "[ -7.53105445e-16]\n"
       ]
      }
     ],
     "prompt_number": 19
    },
    {
     "cell_type": "code",
     "collapsed": false,
     "input": [
      "fig.clear()\n",
      "plt.triplot(xpts,ypts)\n",
      "plt.plot([ptm[0]], [ptm[1]],'ro',xpts,ypts,'bo')\n",
      "plt.show()"
     ],
     "language": "python",
     "metadata": {},
     "outputs": [],
     "prompt_number": null
    },
    {
     "cell_type": "code",
     "collapsed": false,
     "input": [
      "tri = tx.txnameData.tri\n",
      "simplex = tri.find_simplex([pt])\n",
      "vertices = np.take(tri.simplices, simplex, axis=0)\n",
      "temp = np.take(tri.transform, simplex, axis=0)\n",
      "d=temp.shape[2]\n",
      "delta = [pt] - temp[:, d]\n",
      "bary = np.einsum('njk,nk->nj', temp[:, :d, :], delta)\n",
      "vtx = vertices\n",
      "wts = np.hstack((bary, 1 - bary.sum(axis=1, keepdims=True)))\n",
      "v=tx.txnameData.xsec\n",
      "values = np.array ( [ x.asNumber() for x in tx.txnameData.xsec ] )\n",
      "ret = np.einsum('nj,nj->n', np.take(values, vtx), wts)\n",
      "with np.errstate(invalid='ignore'):\n",
      "    ret[np.any(wts < -1e-10, axis=1)] = np.nan\n",
      "print ret[0]"
     ],
     "language": "python",
     "metadata": {},
     "outputs": [],
     "prompt_number": null
    },
    {
     "cell_type": "code",
     "collapsed": false,
     "input": [
      "vertices"
     ],
     "language": "python",
     "metadata": {},
     "outputs": [],
     "prompt_number": null
    },
    {
     "cell_type": "code",
     "collapsed": false,
     "input": [
      "pt"
     ],
     "language": "python",
     "metadata": {},
     "outputs": [],
     "prompt_number": null
    },
    {
     "cell_type": "code",
     "collapsed": false,
     "input": [
      "m = [[347.406576078*GeV,166.767198233*GeV],[347.406576078*GeV,166.767198233*GeV]]\n",
      "porig = tx.txnameData.flattenMassArray(m)\n",
      "ptA = ( (np.matrix(porig)[0] - tx.txnameData.delta_x ) ).tolist()[0]\n",
      "ptA = np.dot(ptA,tx.txnameData._V)  ## rotate\n",
      "print ptA,tx.txnameData.countNonZeros(ptA)"
     ],
     "language": "python",
     "metadata": {},
     "outputs": [],
     "prompt_number": null
    },
    {
     "cell_type": "code",
     "collapsed": false,
     "input": [
      "print tx.txnameData.getValueFor(m)"
     ],
     "language": "python",
     "metadata": {},
     "outputs": [],
     "prompt_number": null
    },
    {
     "cell_type": "code",
     "collapsed": true,
     "input": [],
     "language": "python",
     "metadata": {},
     "outputs": [],
     "prompt_number": null
    }
   ],
   "metadata": {}
  }
 ]
}