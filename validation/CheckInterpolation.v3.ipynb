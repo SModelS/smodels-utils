{
 "metadata": {
  "kernelspec": {
   "display_name": "Python 2",
   "language": "python",
   "name": "python2"
  },
  "language_info": {
   "codemirror_mode": {
    "name": "ipython",
    "version": 2
   },
   "file_extension": ".py",
   "mimetype": "text/x-python",
   "name": "python",
   "nbconvert_exporter": "python",
   "pygments_lexer": "ipython2",
   "version": "2.7.12"
  },
  "name": "",
  "signature": "sha256:19ff5b2e307bb5a7599b2a7f76c8e0b98afe67f9ab41efdd671a6d3523291c26"
 },
 "nbformat": 3,
 "nbformat_minor": 0,
 "worksheets": [
  {
   "cells": [
    {
     "cell_type": "code",
     "collapsed": true,
     "input": [
      "import sys\n",
      "sys.path.append('/home/lessa/smodels')\n",
      "from smodels.experiment.databaseObj import Database\n",
      "from smodels.tools.physicsUnits import GeV,fb,pb\n",
      "import matplotlib.pyplot as plt\n",
      "from mpl_toolkits.mplot3d import Axes3D\n",
      "from smodels.tools.databaseBrowser import Browser\n",
      "import numpy as np"
     ],
     "language": "python",
     "metadata": {},
     "outputs": [],
     "prompt_number": 1
    },
    {
     "cell_type": "code",
     "collapsed": true,
     "input": [
      "db = Database('/home/lessa/smodels-database')"
     ],
     "language": "python",
     "metadata": {},
     "outputs": [],
     "prompt_number": 2
    },
    {
     "cell_type": "code",
     "collapsed": false,
     "input": [
      "exp = db.getExpResults(analysisIDs=['ATLAS-SUSY-2015-01'],dataTypes=['upperLimit'],txnames=['T2bb'],\n",
      "                       useSuperseded=True,useNonValidated=True)[0]"
     ],
     "language": "python",
     "metadata": {},
     "outputs": [
      {
       "output_type": "stream",
       "stream": "stderr",
       "text": [
        "WARNING in databaseObj.getExpResults() in 500: validated is None in ATLAS-SUSY-2015-01/None/T2bb. Please set to True, False, N/A, or tbd.\n"
       ]
      }
     ],
     "prompt_number": 4
    },
    {
     "cell_type": "code",
     "collapsed": false,
     "input": [
      "tx = exp.getTxNames()[0]\n",
      "print tx,tx.constraint"
     ],
     "language": "python",
     "metadata": {},
     "outputs": [
      {
       "output_type": "stream",
       "stream": "stdout",
       "text": [
        "T2bb [[[b]],[[b]]]\n"
       ]
      }
     ],
     "prompt_number": 5
    },
    {
     "cell_type": "code",
     "collapsed": false,
     "input": [
      "m = [[round(427.667495,1)*GeV, round(422.727383,1)*GeV]]*2\n",
      "porig = tx.txnameData.flattenMassArray(m)\n",
      "# print 'porig=',porig\n",
      "pt = ( (np.matrix(porig)[0] - tx.txnameData.delta_x ) ).tolist()[0]\n",
      "# print pt\n",
      "pt = np.dot(pt,tx.txnameData._V)  ## rotate\n",
      "# print pt\n",
      "pt = np.array(pt[:tx.txnameData.dimensionality])\n",
      "print 'Pt=',pt,'val=',tx.txnameData.getValueFor(m)\n",
      "# fig = plt.figure()\n",
      "# ax = fig.add_subplot(111, projection='3d')\n",
      "# ptm = [pt[0],pt[1],tx.txnameData.getValueFor(m).asNumber(pb)]\n",
      "# ax.scatter([ptm[0]], [ptm[1]], [ptm[2]],c='r',marker='o')\n",
      "xpts = []\n",
      "ypts = []\n",
      "zpts = []\n",
      "for ipt in tx.txnameData.tri.simplices[tx.txnameData.tri.find_simplex(pt)]:\n",
      "    xpts.append(tx.txnameData.tri.points[ipt][0])\n",
      "    ypts.append(tx.txnameData.tri.points[ipt][1])\n",
      "    if tx.txnameData.dimensionality == 3:\n",
      "        zpts.append(tx.txnameData.tri.points[ipt][2])\n",
      "    else:\n",
      "        zpts.append(tx.txnameData.xsec[ipt])\n",
      "    print tx.txnameData.tri.points[ipt],tx.txnameData.xsec[ipt]"
     ],
     "language": "python",
     "metadata": {},
     "outputs": [
      {
       "output_type": "stream",
       "stream": "stdout",
       "text": [
        "Pt= [-382.83402316 -196.05038144] val= 0.00E+00 [pb]\n",
        "[-425.05126184 -160.17748418] 0.0\n",
        "[-348.84685989 -224.93000631] 0.0\n",
        "[-350.56464186 -203.7864677 ] 9.497\n"
       ]
      }
     ],
     "prompt_number": 11
    },
    {
     "cell_type": "code",
     "collapsed": false,
     "input": [
      "for pt in tx.txnameData._data:\n",
      "    print pt[0][0],pt[1]"
     ],
     "language": "python",
     "metadata": {},
     "outputs": [],
     "prompt_number": null
    },
    {
     "cell_type": "code",
     "collapsed": false,
     "input": [
      "fig = plt.figure()\n",
      "ax = fig.add_subplot(111, projection='3d')\n",
      "ax.scatter(xpts, ypts, zpts,s=80,c='r',marker='o')\n",
      "ax.scatter([pt[0]],[pt[1]],[pt[2]],s=80,c='b',marker='o')\n",
      "ax.set_xlabel('x')\n",
      "ax.set_ylabel('y')\n",
      "if tx.txnameData.dimensionality == 3:\n",
      "    ax.set_zlabel('UL')\n",
      "else:\n",
      "    ax.set_zlabel('z')\n",
      "\n",
      "plt.show()"
     ],
     "language": "python",
     "metadata": {},
     "outputs": [],
     "prompt_number": null
    },
    {
     "cell_type": "code",
     "collapsed": false,
     "input": [
      "uvw = [pt[:3]]\n",
      "fill_value=np.nan\n",
      "tol = sys.float_info.epsilon * 1e06\n",
      "simplex = tx.txnameData.tri.find_simplex(uvw, tol=tol)\n",
      "vertices = np.take(tx.txnameData.tri.simplices, simplex, axis=0)\n",
      "temp = np.take(tx.txnameData.tri.transform, simplex, axis=0)\n",
      "d=temp.shape[2]\n",
      "delta = uvw - temp[:, d]\n",
      "bary = np.einsum('njk,nk->nj', temp[:, :d, :], delta)\n",
      "tx.txnameData.vtx = vertices\n",
      "tx.txnameData.wts = np.hstack((bary, 1 - bary.sum(axis=1, keepdims=True)))\n",
      "v=tx.txnameData.xsec\n",
      "if type(tx.txnameData.xsec[0]) == float:\n",
      "    values = np.array ( [ float(x) for x in tx.txnameData.xsec ] )\n",
      "else:\n",
      "    values = np.array ( [ x.asNumber() for x in tx.txnameData.xsec ] )\n",
      "print 'v=',tx.txnameData.wts\n",
      "ret = np.einsum('nj,nj->n', np.take(values, tx.txnameData.vtx), tx.txnameData.wts)\n",
      "print 'r=',ret\n",
      "with np.errstate(invalid='ignore'):\n",
      "    ret[np.any(tx.txnameData.wts < -1e-10, axis=1)] = fill_value\n",
      "print ret"
     ],
     "language": "python",
     "metadata": {},
     "outputs": [],
     "prompt_number": null
    },
    {
     "cell_type": "code",
     "collapsed": false,
     "input": [
      "fig.clear()\n",
      "plt.triplot(xpts,ypts)\n",
      "plt.plot([ptm[0]], [ptm[1]],'ro',xpts,ypts,'bo')\n",
      "plt.show()"
     ],
     "language": "python",
     "metadata": {},
     "outputs": [],
     "prompt_number": null
    },
    {
     "cell_type": "code",
     "collapsed": false,
     "input": [
      "tri = tx.txnameData.tri\n",
      "simplex = tri.find_simplex([pt])\n",
      "vertices = np.take(tri.simplices, simplex, axis=0)\n",
      "temp = np.take(tri.transform, simplex, axis=0)\n",
      "d=temp.shape[2]\n",
      "delta = [pt] - temp[:, d]\n",
      "bary = np.einsum('njk,nk->nj', temp[:, :d, :], delta)\n",
      "vtx = vertices\n",
      "wts = np.hstack((bary, 1 - bary.sum(axis=1, keepdims=True)))\n",
      "v=tx.txnameData.xsec\n",
      "values = np.array ( [ x.asNumber() for x in tx.txnameData.xsec ] )\n",
      "ret = np.einsum('nj,nj->n', np.take(values, vtx), wts)\n",
      "with np.errstate(invalid='ignore'):\n",
      "    ret[np.any(wts < -1e-10, axis=1)] = np.nan\n",
      "print ret[0]"
     ],
     "language": "python",
     "metadata": {},
     "outputs": [],
     "prompt_number": null
    },
    {
     "cell_type": "code",
     "collapsed": false,
     "input": [
      "vertices"
     ],
     "language": "python",
     "metadata": {},
     "outputs": [],
     "prompt_number": null
    },
    {
     "cell_type": "code",
     "collapsed": false,
     "input": [
      "pt"
     ],
     "language": "python",
     "metadata": {},
     "outputs": [],
     "prompt_number": null
    },
    {
     "cell_type": "code",
     "collapsed": false,
     "input": [
      "m = [[347.406576078*GeV,166.767198233*GeV],[347.406576078*GeV,166.767198233*GeV]]\n",
      "porig = tx.txnameData.flattenMassArray(m)\n",
      "ptA = ( (np.matrix(porig)[0] - tx.txnameData.delta_x ) ).tolist()[0]\n",
      "ptA = np.dot(ptA,tx.txnameData._V)  ## rotate\n",
      "print ptA,tx.txnameData.countNonZeros(ptA)"
     ],
     "language": "python",
     "metadata": {},
     "outputs": [],
     "prompt_number": null
    },
    {
     "cell_type": "code",
     "collapsed": false,
     "input": [
      "print tx.txnameData.getValueFor(m)"
     ],
     "language": "python",
     "metadata": {},
     "outputs": [],
     "prompt_number": null
    },
    {
     "cell_type": "code",
     "collapsed": true,
     "input": [],
     "language": "python",
     "metadata": {},
     "outputs": [],
     "prompt_number": null
    }
   ],
   "metadata": {}
  }
 ]
}