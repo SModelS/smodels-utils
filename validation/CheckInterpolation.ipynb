{
 "cells": [
  {
   "cell_type": "code",
   "execution_count": 1,
   "metadata": {
    "collapsed": true
   },
   "outputs": [],
   "source": [
    "import sys\n",
    "sys.path.append('/home/lessa/smodels')\n",
    "from smodels.experiment.databaseObj import Database\n",
    "from smodels.tools.physicsUnits import GeV,fb,pb\n",
    "import matplotlib.pyplot as plt\n",
    "from mpl_toolkits.mplot3d import Axes3D\n",
    "from smodels.tools.databaseBrowser import Browser\n",
    "import numpy as np"
   ]
  },
  {
   "cell_type": "code",
   "execution_count": 2,
   "metadata": {
    "collapsed": true
   },
   "outputs": [],
   "source": [
    "db = Database('/home/lessa/smodels-database')"
   ]
  },
  {
   "cell_type": "code",
   "execution_count": 7,
   "metadata": {},
   "outputs": [
    {
     "name": "stderr",
     "output_type": "stream",
     "text": [
      "WARNING in databaseObj.getExpResults() in 501: validated is None in ATLAS-CONF-2013-062/SL2b_low/T1. Please set to True, False, N/A, or tbd.\n",
      "WARNING in databaseObj.getExpResults() in 501: validated is None in ATLAS-CONF-2013-062/SL2b_low/T1bbbb. Please set to True, False, N/A, or tbd.\n",
      "WARNING in databaseObj.getExpResults() in 501: validated is None in ATLAS-CONF-2013-062/SL2b_low/T1bbbt. Please set to True, False, N/A, or tbd.\n",
      "WARNING in databaseObj.getExpResults() in 501: validated is None in ATLAS-CONF-2013-062/SL2b_low/T1bbqq. Please set to True, False, N/A, or tbd.\n",
      "WARNING in databaseObj.getExpResults() in 501: validated is None in ATLAS-CONF-2013-062/SL2b_low/T1bbtt. Please set to True, False, N/A, or tbd.\n",
      "WARNING in databaseObj.getExpResults() in 501: validated is None in ATLAS-CONF-2013-062/SL2b_low/T1btbt. Please set to True, False, N/A, or tbd.\n",
      "WARNING in databaseObj.getExpResults() in 501: validated is None in ATLAS-CONF-2013-062/SL2b_low/T1btqq. Please set to True, False, N/A, or tbd.\n",
      "WARNING in databaseObj.getExpResults() in 501: validated is None in ATLAS-CONF-2013-062/SL2b_low/T1bttt. Please set to True, False, N/A, or tbd.\n",
      "WARNING in databaseObj.getExpResults() in 501: validated is None in ATLAS-CONF-2013-062/SL2b_low/T1qqtt. Please set to True, False, N/A, or tbd.\n",
      "WARNING in databaseObj.getExpResults() in 501: validated is None in ATLAS-CONF-2013-062/SL2b_low/T1tttt. Please set to True, False, N/A, or tbd.\n",
      "WARNING in databaseObj.getExpResults() in 501: validated is None in ATLAS-CONF-2013-062/SL2b_low/T2. Please set to True, False, N/A, or tbd.\n",
      "WARNING in databaseObj.getExpResults() in 501: validated is None in ATLAS-CONF-2013-062/SL2b_low/T2bb. Please set to True, False, N/A, or tbd.\n",
      "WARNING in databaseObj.getExpResults() in 501: validated is None in ATLAS-CONF-2013-062/SL2b_low/T2bt. Please set to True, False, N/A, or tbd.\n",
      "WARNING in databaseObj.getExpResults() in 501: validated is None in ATLAS-CONF-2013-062/SL2b_low/T2tt. Please set to True, False, N/A, or tbd.\n",
      "WARNING in databaseObj.getExpResults() in 501: validated is None in ATLAS-CONF-2013-062/SL2b_low/T5bbbb. Please set to True, False, N/A, or tbd.\n",
      "WARNING in databaseObj.getExpResults() in 501: validated is None in ATLAS-CONF-2013-062/SL2b_low/T5bbbt. Please set to True, False, N/A, or tbd.\n",
      "WARNING in databaseObj.getExpResults() in 501: validated is None in ATLAS-CONF-2013-062/SL2b_low/T5btbt. Please set to True, False, N/A, or tbd.\n",
      "WARNING in databaseObj.getExpResults() in 501: validated is None in ATLAS-CONF-2013-062/SL2b_low/T5tbtb. Please set to True, False, N/A, or tbd.\n",
      "WARNING in databaseObj.getExpResults() in 501: validated is None in ATLAS-CONF-2013-062/SL2b_low/T5tbtt. Please set to True, False, N/A, or tbd.\n",
      "WARNING in databaseObj.getExpResults() in 501: validated is None in ATLAS-CONF-2013-062/SL2b_low/T5tttt. Please set to True, False, N/A, or tbd.\n",
      "WARNING in databaseObj.getExpResults() in 501: validated is None in ATLAS-CONF-2013-062/SL2b_low/TGQ. Please set to True, False, N/A, or tbd.\n",
      "WARNING in databaseObj.getExpResults() in 501: validated is None in ATLAS-CONF-2013-062/SL2b_low/TGQbbq. Please set to True, False, N/A, or tbd.\n",
      "WARNING in databaseObj.getExpResults() in 501: validated is None in ATLAS-CONF-2013-062/SL2b_low/TGQbtq. Please set to True, False, N/A, or tbd.\n",
      "WARNING in databaseObj.getExpResults() in 501: validated is None in ATLAS-CONF-2013-062/SL2b_low/TGQqtt. Please set to True, False, N/A, or tbd.\n"
     ]
    }
   ],
   "source": [
    "exp = db.getExpResults(analysisIDs=['ATLAS-CONF-2013-062'],dataTypes=['efficiencyMap'],txnames=['T5bbbb'],\n",
    "                       useSuperseded=True,useNonValidated=True,datasetIDs=['SL2b_low'], discard_zeroes = True)[0]"
   ]
  },
  {
   "cell_type": "code",
   "execution_count": 8,
   "metadata": {},
   "outputs": [
    {
     "name": "stdout",
     "output_type": "stream",
     "text": [
      "T5bbbb [[[b],[b]],[[b],[b]]]\n"
     ]
    }
   ],
   "source": [
    "tx = exp.getTxNames()[0]\n",
    "print tx,tx.constraint"
   ]
  },
  {
   "cell_type": "code",
   "execution_count": 9,
   "metadata": {},
   "outputs": [
    {
     "name": "stdout",
     "output_type": "stream",
     "text": [
      "porig= [1148.88763, 1138.143, 1.093089, 1148.88763, 1138.143, 1.093089]\n",
      "[-281.11237000000006, 375.02787584650116, -374.0558951986456, -281.11237000000006, 375.02787584650116, -374.0558951986456]\n",
      "[ -6.90753232e+01  -3.39735096e+02   7.73940847e+02   1.92157401e-12\n",
      "  -1.08357767e-12  -5.68434189e-13]\n",
      "Pt= [ -69.07532316 -339.73509623  773.94084661] val= 0.000310550191845\n",
      "[-833.8938036   632.9895     -142.14081683] 0.0\n",
      "[-356.52075002  676.69941316   69.96861532] 0.0\n",
      "[-674.5160104   864.80850388 -171.44386233] 0.0\n",
      "[-671.54461079  862.03429512 -177.22958183] 0.0\n"
     ]
    }
   ],
   "source": [
    "m = [[1.14888763E+03*GeV, 1.13814300E+03*GeV, 1.09308900*GeV]]*2\n",
    "porig = tx.txnameData.flattenMassArray(m)\n",
    "print 'porig=',porig\n",
    "pt = ( (np.matrix(porig)[0] - tx.txnameData.delta_x ) ).tolist()[0]\n",
    "print pt\n",
    "pt = np.dot(pt,tx.txnameData._V)  ## rotate\n",
    "print pt\n",
    "pt = np.array(pt[:tx.txnameData.dimensionality])\n",
    "print 'Pt=',pt,'val=',tx.txnameData.getValueFor(m)\n",
    "# fig = plt.figure()\n",
    "# ax = fig.add_subplot(111, projection='3d')\n",
    "# ptm = [pt[0],pt[1],tx.txnameData.getValueFor(m).asNumber(pb)]\n",
    "# ax.scatter([ptm[0]], [ptm[1]], [ptm[2]],c='r',marker='o')\n",
    "xpts = []\n",
    "ypts = []\n",
    "zpts = []\n",
    "for ipt in tx.txnameData.tri.simplices[tx.txnameData.tri.find_simplex(pt)]:\n",
    "    xpts.append(tx.txnameData.tri.points[ipt][0])\n",
    "    ypts.append(tx.txnameData.tri.points[ipt][1])\n",
    "    if tx.txnameData.dimensionality == 3:\n",
    "        zpts.append(tx.txnameData.tri.points[ipt][2])\n",
    "    else:\n",
    "        zpts.append(tx.txnameData.xsec[ipt])\n",
    "    print tx.txnameData.tri.points[ipt],tx.txnameData.xsec[ipt]"
   ]
  },
  {
   "cell_type": "code",
   "execution_count": null,
   "metadata": {},
   "outputs": [],
   "source": [
    "for pt in tx.txnameData._data:\n",
    "    print pt[0][0],pt[1]"
   ]
  },
  {
   "cell_type": "code",
   "execution_count": null,
   "metadata": {},
   "outputs": [],
   "source": [
    "fig = plt.figure()\n",
    "ax = fig.add_subplot(111, projection='3d')\n",
    "ax.scatter(xpts, ypts, zpts,s=80,c='r',marker='o')\n",
    "ax.scatter([pt[0]],[pt[1]],[pt[2]],s=80,c='b',marker='o')\n",
    "ax.set_xlabel('x')\n",
    "ax.set_ylabel('y')\n",
    "if tx.txnameData.dimensionality == 3:\n",
    "    ax.set_zlabel('UL')\n",
    "else:\n",
    "    ax.set_zlabel('z')\n",
    "\n",
    "plt.show()"
   ]
  },
  {
   "cell_type": "code",
   "execution_count": null,
   "metadata": {},
   "outputs": [],
   "source": [
    "uvw = [pt[:3]]\n",
    "fill_value=np.nan\n",
    "tol = sys.float_info.epsilon * 1e06\n",
    "simplex = tx.txnameData.tri.find_simplex(uvw, tol=tol)\n",
    "vertices = np.take(tx.txnameData.tri.simplices, simplex, axis=0)\n",
    "temp = np.take(tx.txnameData.tri.transform, simplex, axis=0)\n",
    "d=temp.shape[2]\n",
    "delta = uvw - temp[:, d]\n",
    "bary = np.einsum('njk,nk->nj', temp[:, :d, :], delta)\n",
    "tx.txnameData.vtx = vertices\n",
    "tx.txnameData.wts = np.hstack((bary, 1 - bary.sum(axis=1, keepdims=True)))\n",
    "v=tx.txnameData.xsec\n",
    "if type(tx.txnameData.xsec[0]) == float:\n",
    "    values = np.array ( [ float(x) for x in tx.txnameData.xsec ] )\n",
    "else:\n",
    "    values = np.array ( [ x.asNumber() for x in tx.txnameData.xsec ] )\n",
    "print 'v=',tx.txnameData.wts\n",
    "ret = np.einsum('nj,nj->n', np.take(values, tx.txnameData.vtx), tx.txnameData.wts)\n",
    "print 'r=',ret\n",
    "with np.errstate(invalid='ignore'):\n",
    "    ret[np.any(tx.txnameData.wts < -1e-10, axis=1)] = fill_value\n",
    "print ret"
   ]
  },
  {
   "cell_type": "code",
   "execution_count": null,
   "metadata": {},
   "outputs": [],
   "source": [
    "fig.clear()\n",
    "plt.triplot(xpts,ypts)\n",
    "plt.plot([ptm[0]], [ptm[1]],'ro',xpts,ypts,'bo')\n",
    "plt.show()"
   ]
  },
  {
   "cell_type": "code",
   "execution_count": null,
   "metadata": {},
   "outputs": [],
   "source": [
    "tri = tx.txnameData.tri\n",
    "simplex = tri.find_simplex([pt])\n",
    "vertices = np.take(tri.simplices, simplex, axis=0)\n",
    "temp = np.take(tri.transform, simplex, axis=0)\n",
    "d=temp.shape[2]\n",
    "delta = [pt] - temp[:, d]\n",
    "bary = np.einsum('njk,nk->nj', temp[:, :d, :], delta)\n",
    "vtx = vertices\n",
    "wts = np.hstack((bary, 1 - bary.sum(axis=1, keepdims=True)))\n",
    "v=tx.txnameData.xsec\n",
    "values = np.array ( [ x.asNumber() for x in tx.txnameData.xsec ] )\n",
    "ret = np.einsum('nj,nj->n', np.take(values, vtx), wts)\n",
    "with np.errstate(invalid='ignore'):\n",
    "    ret[np.any(wts < -1e-10, axis=1)] = np.nan\n",
    "print ret[0]"
   ]
  },
  {
   "cell_type": "code",
   "execution_count": null,
   "metadata": {},
   "outputs": [],
   "source": [
    "vertices"
   ]
  },
  {
   "cell_type": "code",
   "execution_count": null,
   "metadata": {},
   "outputs": [],
   "source": [
    "pt"
   ]
  },
  {
   "cell_type": "code",
   "execution_count": null,
   "metadata": {},
   "outputs": [],
   "source": [
    "m = [[347.406576078*GeV,166.767198233*GeV],[347.406576078*GeV,166.767198233*GeV]]\n",
    "porig = tx.txnameData.flattenMassArray(m)\n",
    "ptA = ( (np.matrix(porig)[0] - tx.txnameData.delta_x ) ).tolist()[0]\n",
    "ptA = np.dot(ptA,tx.txnameData._V)  ## rotate\n",
    "print ptA,tx.txnameData.countNonZeros(ptA)"
   ]
  },
  {
   "cell_type": "code",
   "execution_count": null,
   "metadata": {},
   "outputs": [],
   "source": [
    "print tx.txnameData.getValueFor(m)"
   ]
  },
  {
   "cell_type": "code",
   "execution_count": null,
   "metadata": {
    "collapsed": true
   },
   "outputs": [],
   "source": []
  }
 ],
 "metadata": {
  "kernelspec": {
   "display_name": "Python 2",
   "language": "python",
   "name": "python2"
  },
  "language_info": {
   "codemirror_mode": {
    "name": "ipython",
    "version": 2
   },
   "file_extension": ".py",
   "mimetype": "text/x-python",
   "name": "python",
   "nbconvert_exporter": "python",
   "pygments_lexer": "ipython2",
   "version": "2.7.14"
  }
 },
 "nbformat": 4,
 "nbformat_minor": 1
}
