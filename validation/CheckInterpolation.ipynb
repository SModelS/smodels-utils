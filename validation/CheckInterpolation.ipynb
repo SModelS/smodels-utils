{
 "metadata": {
  "kernelspec": {
   "display_name": "Python 2",
   "language": "python",
   "name": "python2"
  },
  "language_info": {
   "codemirror_mode": {
    "name": "ipython",
    "version": 2
   },
   "file_extension": ".py",
   "mimetype": "text/x-python",
   "name": "python",
   "nbconvert_exporter": "python",
   "pygments_lexer": "ipython2",
   "version": "2.7.12"
  },
  "name": "",
  "signature": "sha256:03b61e4cf21f4163061244ee828b6479e6cb991fc71456c5eb9cfccc98f23c94"
 },
 "nbformat": 3,
 "nbformat_minor": 0,
 "worksheets": [
  {
   "cells": [
    {
     "cell_type": "code",
     "collapsed": true,
     "input": [
      "import sys\n",
      "sys.path.append('/home/lessa/smodels')\n",
      "from smodels.experiment.databaseObj import Database\n",
      "from smodels.tools.physicsUnits import GeV,fb,pb\n",
      "import matplotlib.pyplot as plt\n",
      "from mpl_toolkits.mplot3d import Axes3D\n",
      "import numpy as np"
     ],
     "language": "python",
     "metadata": {},
     "outputs": [],
     "prompt_number": 1
    },
    {
     "cell_type": "code",
     "collapsed": true,
     "input": [
      "db = Database('/home/lessa/smodels-database-master')"
     ],
     "language": "python",
     "metadata": {},
     "outputs": [],
     "prompt_number": 2
    },
    {
     "cell_type": "code",
     "collapsed": false,
     "input": [
      "exp = db.getExpResults(analysisIDs=['ATLAS-SUSY-2013-05'],dataTypes=['upperLimit'],txnames=['T6bbWWoff'],\n",
      "                       useSuperseded=True,useNonValidated=True)[0]"
     ],
     "language": "python",
     "metadata": {},
     "outputs": [],
     "prompt_number": 3
    },
    {
     "cell_type": "code",
     "collapsed": false,
     "input": [
      "tx = exp.getTxNames()[0]\n",
      "print tx"
     ],
     "language": "python",
     "metadata": {},
     "outputs": [
      {
       "output_type": "stream",
       "stream": "stdout",
       "text": [
        "T6bbWWoff\n"
       ]
      }
     ],
     "prompt_number": 4
    },
    {
     "cell_type": "code",
     "collapsed": false,
     "input": [
      "m = [[300.*GeV, 257.158051402*GeV,250.059808177*GeV]]*2\n",
      "porig = tx.txnameData.flattenMassArray(m)\n",
      "print 'porig=',porig\n",
      "pt = ( (np.matrix(porig)[0] - tx.txnameData.delta_x ) ).tolist()[0]\n",
      "print pt\n",
      "pt = np.dot(pt,tx.txnameData._V)  ## rotate\n",
      "print pt\n",
      "pt = np.array(pt[:tx.txnameData.dimensionality])\n",
      "print 'Pt=',pt,'val=',tx.txnameData.getValueFor(m)\n",
      "# fig = plt.figure()\n",
      "# ax = fig.add_subplot(111, projection='3d')\n",
      "# ptm = [pt[0],pt[1],tx.txnameData.getValueFor(m).asNumber(pb)]\n",
      "# ax.scatter([ptm[0]], [ptm[1]], [ptm[2]],c='r',marker='o')\n",
      "xpts = []\n",
      "ypts = []\n",
      "zpts = []\n",
      "for ipt in tx.txnameData.tri.simplices[tx.txnameData.tri.find_simplex(pt)]:\n",
      "    xpts.append(tx.txnameData.tri.points[ipt][0])\n",
      "    ypts.append(tx.txnameData.tri.points[ipt][1])\n",
      "    if tx.txnameData.dimensionality == 3:\n",
      "        zpts.append(tx.txnameData.tri.points[ipt][2])\n",
      "    else:\n",
      "        zpts.append(tx.txnameData.xsec[ipt])\n",
      "    print tx.txnameData.tri.points[ipt],tx.txnameData.xsec[ipt]"
     ],
     "language": "python",
     "metadata": {},
     "outputs": [
      {
       "output_type": "stream",
       "stream": "stdout",
       "text": [
        "porig= [300.0, 257.158051402, 250.059808177, 300.0, 257.158051402, 250.059808177]\n",
        "[-185.15625, 9.033051402000012, 15.908022462714285, -185.15625, 9.033051402000012, 15.908022462714285]\n",
        "[ -2.18573519e+02  -1.46302848e+02   7.48929095e+00   1.21340438e-13\n",
        "  -1.01354689e-13  -1.95399252e-14]\n",
        "Pt= [-218.57351916 -146.30284845    7.48929095] val= 3.82E+00 [pb]\n",
        "[-157.38735939 -110.77944446    9.40322604] 1.0006\n",
        "[-212.56013946 -157.52258746   -5.46428627] 8.4695\n",
        "[-193.56698182 -192.72533604   -5.62693608] 50.651\n",
        "[-219.61752371 -144.35576474    9.59652735] 2.9203\n"
       ]
      }
     ],
     "prompt_number": 6
    },
    {
     "cell_type": "code",
     "collapsed": false,
     "input": [
      "for pt in tx.txnameData._data:\n",
      "    print pt[0][0],pt[1]"
     ],
     "language": "python",
     "metadata": {},
     "outputs": [],
     "prompt_number": null
    },
    {
     "cell_type": "code",
     "collapsed": false,
     "input": [
      "fig = plt.figure()\n",
      "ax = fig.add_subplot(111, projection='3d')\n",
      "ax.scatter(xpts, ypts, zpts,s=80,c='r',marker='o')\n",
      "ax.scatter([pt[0]],[pt[1]],[pt[2]],s=80,c='b',marker='o')\n",
      "ax.set_xlabel('x')\n",
      "ax.set_ylabel('y')\n",
      "if tx.txnameData.dimensionality == 3:\n",
      "    ax.set_zlabel('UL')\n",
      "else:\n",
      "    ax.set_zlabel('z')\n",
      "\n",
      "plt.show()"
     ],
     "language": "python",
     "metadata": {},
     "outputs": [],
     "prompt_number": null
    },
    {
     "cell_type": "code",
     "collapsed": false,
     "input": [
      "uvw = [pt[:3]]\n",
      "fill_value=np.nan\n",
      "tol = sys.float_info.epsilon * 1e06\n",
      "simplex = tx.txnameData.tri.find_simplex(uvw, tol=tol)\n",
      "vertices = np.take(tx.txnameData.tri.simplices, simplex, axis=0)\n",
      "temp = np.take(tx.txnameData.tri.transform, simplex, axis=0)\n",
      "d=temp.shape[2]\n",
      "delta = uvw - temp[:, d]\n",
      "bary = np.einsum('njk,nk->nj', temp[:, :d, :], delta)\n",
      "tx.txnameData.vtx = vertices\n",
      "tx.txnameData.wts = np.hstack((bary, 1 - bary.sum(axis=1, keepdims=True)))\n",
      "v=tx.txnameData.xsec\n",
      "if type(tx.txnameData.xsec[0]) == float:\n",
      "    values = np.array ( [ float(x) for x in tx.txnameData.xsec ] )\n",
      "else:\n",
      "    values = np.array ( [ x.asNumber() for x in tx.txnameData.xsec ] )\n",
      "print 'v=',tx.txnameData.wts\n",
      "ret = np.einsum('nj,nj->n', np.take(values, tx.txnameData.vtx), tx.txnameData.wts)\n",
      "print 'r=',ret\n",
      "with np.errstate(invalid='ignore'):\n",
      "    ret[np.any(tx.txnameData.wts < -1e-10, axis=1)] = fill_value\n",
      "print ret"
     ],
     "language": "python",
     "metadata": {},
     "outputs": [],
     "prompt_number": null
    },
    {
     "cell_type": "code",
     "collapsed": false,
     "input": [
      "fig.clear()\n",
      "plt.triplot(xpts,ypts)\n",
      "plt.plot([ptm[0]], [ptm[1]],'ro',xpts,ypts,'bo')\n",
      "plt.show()"
     ],
     "language": "python",
     "metadata": {},
     "outputs": [],
     "prompt_number": null
    },
    {
     "cell_type": "code",
     "collapsed": false,
     "input": [
      "tri = tx.txnameData.tri\n",
      "simplex = tri.find_simplex([pt])\n",
      "vertices = np.take(tri.simplices, simplex, axis=0)\n",
      "temp = np.take(tri.transform, simplex, axis=0)\n",
      "d=temp.shape[2]\n",
      "delta = [pt] - temp[:, d]\n",
      "bary = np.einsum('njk,nk->nj', temp[:, :d, :], delta)\n",
      "vtx = vertices\n",
      "wts = np.hstack((bary, 1 - bary.sum(axis=1, keepdims=True)))\n",
      "v=tx.txnameData.xsec\n",
      "values = np.array ( [ x.asNumber() for x in tx.txnameData.xsec ] )\n",
      "ret = np.einsum('nj,nj->n', np.take(values, vtx), wts)\n",
      "with np.errstate(invalid='ignore'):\n",
      "    ret[np.any(wts < -1e-10, axis=1)] = np.nan\n",
      "print ret[0]"
     ],
     "language": "python",
     "metadata": {},
     "outputs": [],
     "prompt_number": null
    },
    {
     "cell_type": "code",
     "collapsed": false,
     "input": [
      "vertices"
     ],
     "language": "python",
     "metadata": {},
     "outputs": [],
     "prompt_number": null
    },
    {
     "cell_type": "code",
     "collapsed": false,
     "input": [
      "pt"
     ],
     "language": "python",
     "metadata": {},
     "outputs": [],
     "prompt_number": null
    },
    {
     "cell_type": "code",
     "collapsed": false,
     "input": [
      "m = [[347.406576078*GeV,166.767198233*GeV],[347.406576078*GeV,166.767198233*GeV]]\n",
      "porig = tx.txnameData.flattenMassArray(m)\n",
      "ptA = ( (np.matrix(porig)[0] - tx.txnameData.delta_x ) ).tolist()[0]\n",
      "ptA = np.dot(ptA,tx.txnameData._V)  ## rotate\n",
      "print ptA,tx.txnameData.countNonZeros(ptA)"
     ],
     "language": "python",
     "metadata": {},
     "outputs": [],
     "prompt_number": null
    },
    {
     "cell_type": "code",
     "collapsed": false,
     "input": [
      "print tx.txnameData.getValueFor(m)"
     ],
     "language": "python",
     "metadata": {},
     "outputs": [],
     "prompt_number": null
    },
    {
     "cell_type": "code",
     "collapsed": true,
     "input": [],
     "language": "python",
     "metadata": {},
     "outputs": [],
     "prompt_number": null
    }
   ],
   "metadata": {}
  }
 ]
}