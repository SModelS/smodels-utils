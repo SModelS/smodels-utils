{
 "cells": [
  {
   "cell_type": "code",
   "execution_count": 1,
   "metadata": {},
   "outputs": [
    {
     "name": "stderr",
     "output_type": "stream",
     "text": [
      "/home/lessa/.local/lib/python2.7/site-packages/scipy/special/__init__.py:640: RuntimeWarning: numpy.dtype size changed, may indicate binary incompatibility. Expected 96, got 88\n",
      "  from ._ufuncs import *\n",
      "/home/lessa/.local/lib/python2.7/site-packages/scipy/linalg/basic.py:17: RuntimeWarning: numpy.dtype size changed, may indicate binary incompatibility. Expected 96, got 88\n",
      "  from ._solve_toeplitz import levinson\n",
      "/home/lessa/.local/lib/python2.7/site-packages/scipy/linalg/__init__.py:207: RuntimeWarning: numpy.dtype size changed, may indicate binary incompatibility. Expected 96, got 88\n",
      "  from ._decomp_update import *\n",
      "/home/lessa/.local/lib/python2.7/site-packages/scipy/special/_ellip_harm.py:7: RuntimeWarning: numpy.dtype size changed, may indicate binary incompatibility. Expected 96, got 88\n",
      "  from ._ellip_harm_2 import _ellipsoid, _ellipsoid_norm\n",
      "/home/lessa/.local/lib/python2.7/site-packages/scipy/interpolate/_bsplines.py:10: RuntimeWarning: numpy.dtype size changed, may indicate binary incompatibility. Expected 96, got 88\n",
      "  from . import _bspl\n",
      "/home/lessa/.local/lib/python2.7/site-packages/scipy/sparse/lil.py:19: RuntimeWarning: numpy.dtype size changed, may indicate binary incompatibility. Expected 96, got 88\n",
      "  from . import _csparsetools\n",
      "/home/lessa/.local/lib/python2.7/site-packages/scipy/sparse/csgraph/__init__.py:165: RuntimeWarning: numpy.dtype size changed, may indicate binary incompatibility. Expected 96, got 88\n",
      "  from ._shortest_path import shortest_path, floyd_warshall, dijkstra,\\\n",
      "/home/lessa/.local/lib/python2.7/site-packages/scipy/sparse/csgraph/_validation.py:5: RuntimeWarning: numpy.dtype size changed, may indicate binary incompatibility. Expected 96, got 88\n",
      "  from ._tools import csgraph_to_dense, csgraph_from_dense,\\\n",
      "/home/lessa/.local/lib/python2.7/site-packages/scipy/sparse/csgraph/__init__.py:167: RuntimeWarning: numpy.dtype size changed, may indicate binary incompatibility. Expected 96, got 88\n",
      "  from ._traversal import breadth_first_order, depth_first_order, \\\n",
      "/home/lessa/.local/lib/python2.7/site-packages/scipy/sparse/csgraph/__init__.py:169: RuntimeWarning: numpy.dtype size changed, may indicate binary incompatibility. Expected 96, got 88\n",
      "  from ._min_spanning_tree import minimum_spanning_tree\n",
      "/home/lessa/.local/lib/python2.7/site-packages/scipy/sparse/csgraph/__init__.py:170: RuntimeWarning: numpy.dtype size changed, may indicate binary incompatibility. Expected 96, got 88\n",
      "  from ._reordering import reverse_cuthill_mckee, maximum_bipartite_matching, \\\n",
      "/home/lessa/.local/lib/python2.7/site-packages/scipy/spatial/__init__.py:95: RuntimeWarning: numpy.dtype size changed, may indicate binary incompatibility. Expected 96, got 88\n",
      "  from .ckdtree import *\n",
      "/home/lessa/.local/lib/python2.7/site-packages/scipy/spatial/__init__.py:96: RuntimeWarning: numpy.dtype size changed, may indicate binary incompatibility. Expected 96, got 88\n",
      "  from .qhull import *\n",
      "/home/lessa/.local/lib/python2.7/site-packages/scipy/spatial/_spherical_voronoi.py:18: RuntimeWarning: numpy.dtype size changed, may indicate binary incompatibility. Expected 96, got 88\n",
      "  from . import _voronoi\n",
      "/home/lessa/.local/lib/python2.7/site-packages/scipy/spatial/distance.py:122: RuntimeWarning: numpy.dtype size changed, may indicate binary incompatibility. Expected 96, got 88\n",
      "  from . import _hausdorff\n",
      "/home/lessa/.local/lib/python2.7/site-packages/scipy/optimize/_trlib/__init__.py:1: RuntimeWarning: numpy.dtype size changed, may indicate binary incompatibility. Expected 96, got 88\n",
      "  from ._trlib import TRLIBQuadraticSubproblem\n",
      "/home/lessa/.local/lib/python2.7/site-packages/scipy/optimize/_numdiff.py:10: RuntimeWarning: numpy.dtype size changed, may indicate binary incompatibility. Expected 96, got 88\n",
      "  from ._group_columns import group_dense, group_sparse\n",
      "/home/lessa/.local/lib/python2.7/site-packages/scipy/stats/_continuous_distns.py:18: RuntimeWarning: numpy.dtype size changed, may indicate binary incompatibility. Expected 96, got 88\n",
      "  from . import _stats\n"
     ]
    }
   ],
   "source": [
    "import sys\n",
    "sys.path.append('/home/lessa/smodels')\n",
    "from smodels.experiment.databaseObj import Database\n",
    "from smodels.tools.physicsUnits import GeV,fb,pb\n",
    "import matplotlib.pyplot as plt\n",
    "from mpl_toolkits.mplot3d import Axes3D\n",
    "from smodels.tools.databaseBrowser import Browser\n",
    "import numpy as np"
   ]
  },
  {
   "cell_type": "code",
   "execution_count": 2,
   "metadata": {},
   "outputs": [
    {
     "name": "stdout",
     "output_type": "stream",
     "text": [
      "loading >...................................................done.\n"
     ]
    }
   ],
   "source": [
    "dbname=\"http://smodels.hephy.at/database/unittest200\"\n",
    "db = Database(dbname, discard_zeroes = False)"
   ]
  },
  {
   "cell_type": "code",
   "execution_count": 3,
   "metadata": {},
   "outputs": [],
   "source": [
    "exp = db.getExpResults(analysisIDs=['CMS-PAS-SUS-12-026'])[0]"
   ]
  },
  {
   "cell_type": "code",
   "execution_count": 4,
   "metadata": {},
   "outputs": [
    {
     "name": "stdout",
     "output_type": "stream",
     "text": [
      "T1tttt [[[t,t]],[[t,t]]]\n"
     ]
    }
   ],
   "source": [
    "tx = exp.getTxNames()[0]\n",
    "print tx,tx.constraint"
   ]
  },
  {
   "cell_type": "code",
   "execution_count": 5,
   "metadata": {},
   "outputs": [
    {
     "name": "stdout",
     "output_type": "stream",
     "text": [
      "4.06E+01 [fb]\n"
     ]
    }
   ],
   "source": [
    "m = [[1000.*GeV, 222.*GeV]]*2\n",
    "print(tx.txnameData.getValueFor(m))"
   ]
  },
  {
   "cell_type": "code",
   "execution_count": 6,
   "metadata": {},
   "outputs": [
    {
     "name": "stdout",
     "output_type": "stream",
     "text": [
      "('P=', array([ 9.66151423e+00,  1.64050820e+02, -2.16529791e-14,  2.71043763e-14]), 40.62376)\n"
     ]
    }
   ],
   "source": [
    "self = tx.txnameData\n",
    "massarray = m\n",
    "porig = self.removeUnits(massarray)\n",
    "porig = self.formatInput(porig,self.dataShape) #Remove entries which match inclusives\n",
    "porig = self.flattenArray(porig) ## flatten        \n",
    "self.massarray = massarray ## only for bookkeeping and better error msgs\n",
    "\n",
    "p = ((np.matrix(porig)[0] - self.delta_x )).tolist()[0]\n",
    "P = np.dot(p,self._V)  ## rotate\n",
    "print('P=',P,self.interpolate(P[:self.dimensionality]))"
   ]
  },
  {
   "cell_type": "code",
   "execution_count": 7,
   "metadata": {},
   "outputs": [
    {
     "name": "stdout",
     "output_type": "stream",
     "text": [
      "[[1000.  222. 1000.  222.]]\n",
      "[[1000.  222. 1000.  222.]]\n",
      "('p=', [104.5454545454545, -50.72727272727275, 104.5454545454545, -50.72727272727275])\n",
      "('p=', [104.5454545454545, -50.72727272727275, 104.5454545454545, -50.72727272727275])\n",
      "('P=', array([ 9.66151423e+00,  1.64050820e+02, -2.16529791e-14,  2.71043763e-14]), 40.62376)\n"
     ]
    }
   ],
   "source": [
    "self = tx.txnameData\n",
    "massarray = m\n",
    "porig = self.removeUnits(massarray)\n",
    "porig = self.formatInput(porig,self.dataShape) #Remove entries which match inclusives\n",
    "porig = self.flattenArray(porig) ## flatten        \n",
    "self.massarray = massarray ## only for bookkeeping and better error msgs\n",
    "\n",
    "\n",
    "print(np.matrix(porig)[0])\n",
    "print(np.array([porig]))\n",
    "\n",
    "p = ((np.matrix(porig)[0] - self.delta_x )).tolist()[0]\n",
    "print('p=',p)\n",
    "p = ((np.array([porig]) - self.delta_x )).tolist()[0]\n",
    "print('p=',p)\n",
    "P = np.dot(p,self._V)  ## rotate\n",
    "print('P=',P,self.interpolate(P[:self.dimensionality]))"
   ]
  },
  {
   "cell_type": "code",
   "execution_count": 8,
   "metadata": {},
   "outputs": [
    {
     "ename": "NameError",
     "evalue": "name 'pt' is not defined",
     "output_type": "error",
     "traceback": [
      "\u001b[0;31m---------------------------------------------------------------------------\u001b[0m",
      "\u001b[0;31mNameError\u001b[0m                                 Traceback (most recent call last)",
      "\u001b[0;32m<ipython-input-8-4bfac0b65556>\u001b[0m in \u001b[0;36m<module>\u001b[0;34m()\u001b[0m\n\u001b[0;32m----> 1\u001b[0;31m \u001b[0muvw\u001b[0m \u001b[0;34m=\u001b[0m \u001b[0;34m[\u001b[0m\u001b[0mpt\u001b[0m\u001b[0;34m[\u001b[0m\u001b[0;34m:\u001b[0m\u001b[0;36m3\u001b[0m\u001b[0;34m]\u001b[0m\u001b[0;34m]\u001b[0m\u001b[0;34m\u001b[0m\u001b[0m\n\u001b[0m\u001b[1;32m      2\u001b[0m \u001b[0mfill_value\u001b[0m\u001b[0;34m=\u001b[0m\u001b[0mnp\u001b[0m\u001b[0;34m.\u001b[0m\u001b[0mnan\u001b[0m\u001b[0;34m\u001b[0m\u001b[0m\n\u001b[1;32m      3\u001b[0m \u001b[0mtol\u001b[0m \u001b[0;34m=\u001b[0m \u001b[0msys\u001b[0m\u001b[0;34m.\u001b[0m\u001b[0mfloat_info\u001b[0m\u001b[0;34m.\u001b[0m\u001b[0mepsilon\u001b[0m \u001b[0;34m*\u001b[0m \u001b[0;36m1e06\u001b[0m\u001b[0;34m\u001b[0m\u001b[0m\n\u001b[1;32m      4\u001b[0m \u001b[0msimplex\u001b[0m \u001b[0;34m=\u001b[0m \u001b[0mtx\u001b[0m\u001b[0;34m.\u001b[0m\u001b[0mtxnameData\u001b[0m\u001b[0;34m.\u001b[0m\u001b[0mtri\u001b[0m\u001b[0;34m.\u001b[0m\u001b[0mfind_simplex\u001b[0m\u001b[0;34m(\u001b[0m\u001b[0muvw\u001b[0m\u001b[0;34m,\u001b[0m \u001b[0mtol\u001b[0m\u001b[0;34m=\u001b[0m\u001b[0mtol\u001b[0m\u001b[0;34m)\u001b[0m\u001b[0;34m\u001b[0m\u001b[0m\n\u001b[1;32m      5\u001b[0m \u001b[0mvertices\u001b[0m \u001b[0;34m=\u001b[0m \u001b[0mnp\u001b[0m\u001b[0;34m.\u001b[0m\u001b[0mtake\u001b[0m\u001b[0;34m(\u001b[0m\u001b[0mtx\u001b[0m\u001b[0;34m.\u001b[0m\u001b[0mtxnameData\u001b[0m\u001b[0;34m.\u001b[0m\u001b[0mtri\u001b[0m\u001b[0;34m.\u001b[0m\u001b[0msimplices\u001b[0m\u001b[0;34m,\u001b[0m \u001b[0msimplex\u001b[0m\u001b[0;34m,\u001b[0m \u001b[0maxis\u001b[0m\u001b[0;34m=\u001b[0m\u001b[0;36m0\u001b[0m\u001b[0;34m)\u001b[0m\u001b[0;34m\u001b[0m\u001b[0m\n",
      "\u001b[0;31mNameError\u001b[0m: name 'pt' is not defined"
     ]
    }
   ],
   "source": [
    "uvw = [pt[:3]]\n",
    "fill_value=np.nan\n",
    "tol = sys.float_info.epsilon * 1e06\n",
    "simplex = tx.txnameData.tri.find_simplex(uvw, tol=tol)\n",
    "vertices = np.take(tx.txnameData.tri.simplices, simplex, axis=0)\n",
    "temp = np.take(tx.txnameData.tri.transform, simplex, axis=0)\n",
    "d=temp.shape[2]\n",
    "delta = uvw - temp[:, d]\n",
    "bary = np.einsum('njk,nk->nj', temp[:, :d, :], delta)\n",
    "tx.txnameData.vtx = vertices\n",
    "tx.txnameData.wts = np.hstack((bary, 1 - bary.sum(axis=1, keepdims=True)))\n",
    "v=tx.txnameData.xsec\n",
    "if type(tx.txnameData.xsec[0]) == float:\n",
    "    values = np.array ( [ float(x) for x in tx.txnameData.xsec ] )\n",
    "else:\n",
    "    values = np.array ( [ x.asNumber() for x in tx.txnameData.xsec ] )\n",
    "print 'v=',tx.txnameData.wts\n",
    "ret = np.einsum('nj,nj->n', np.take(values, tx.txnameData.vtx), tx.txnameData.wts)\n",
    "print 'r=',ret\n",
    "with np.errstate(invalid='ignore'):\n",
    "    ret[np.any(tx.txnameData.wts < -1e-10, axis=1)] = fill_value\n",
    "print ret"
   ]
  },
  {
   "cell_type": "code",
   "execution_count": null,
   "metadata": {},
   "outputs": [],
   "source": [
    "fig.clear()\n",
    "plt.triplot(xpts,ypts)\n",
    "plt.plot([ptm[0]], [ptm[1]],'ro',xpts,ypts,'bo')\n",
    "plt.show()"
   ]
  },
  {
   "cell_type": "code",
   "execution_count": null,
   "metadata": {},
   "outputs": [],
   "source": [
    "tri = tx.txnameData.tri\n",
    "simplex = tri.find_simplex([pt])\n",
    "vertices = np.take(tri.simplices, simplex, axis=0)\n",
    "temp = np.take(tri.transform, simplex, axis=0)\n",
    "d=temp.shape[2]\n",
    "delta = [pt] - temp[:, d]\n",
    "bary = np.einsum('njk,nk->nj', temp[:, :d, :], delta)\n",
    "vtx = vertices\n",
    "wts = np.hstack((bary, 1 - bary.sum(axis=1, keepdims=True)))\n",
    "v=tx.txnameData.xsec\n",
    "values = np.array ( [ x.asNumber() for x in tx.txnameData.xsec ] )\n",
    "ret = np.einsum('nj,nj->n', np.take(values, vtx), wts)\n",
    "with np.errstate(invalid='ignore'):\n",
    "    ret[np.any(wts < -1e-10, axis=1)] = np.nan\n",
    "print ret[0]"
   ]
  },
  {
   "cell_type": "code",
   "execution_count": null,
   "metadata": {},
   "outputs": [],
   "source": [
    "vertices"
   ]
  },
  {
   "cell_type": "code",
   "execution_count": null,
   "metadata": {},
   "outputs": [],
   "source": [
    "pt"
   ]
  },
  {
   "cell_type": "code",
   "execution_count": null,
   "metadata": {},
   "outputs": [],
   "source": [
    "m = [[347.406576078*GeV,166.767198233*GeV],[347.406576078*GeV,166.767198233*GeV]]\n",
    "porig = tx.txnameData.flattenMassArray(m)\n",
    "ptA = ( (np.matrix(porig)[0] - tx.txnameData.delta_x ) ).tolist()[0]\n",
    "ptA = np.dot(ptA,tx.txnameData._V)  ## rotate\n",
    "print ptA,tx.txnameData.countNonZeros(ptA)"
   ]
  },
  {
   "cell_type": "code",
   "execution_count": null,
   "metadata": {},
   "outputs": [],
   "source": [
    "print tx.txnameData.getValueFor(m)"
   ]
  },
  {
   "cell_type": "code",
   "execution_count": null,
   "metadata": {},
   "outputs": [],
   "source": []
  }
 ],
 "metadata": {
  "kernelspec": {
   "display_name": "Python 2",
   "language": "python",
   "name": "python2"
  },
  "language_info": {
   "codemirror_mode": {
    "name": "ipython",
    "version": 2
   },
   "file_extension": ".py",
   "mimetype": "text/x-python",
   "name": "python",
   "nbconvert_exporter": "python",
   "pygments_lexer": "ipython2",
   "version": "2.7.14"
  }
 },
 "nbformat": 4,
 "nbformat_minor": 1
}
