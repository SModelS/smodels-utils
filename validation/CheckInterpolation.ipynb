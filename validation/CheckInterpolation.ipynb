{
 "cells": [
  {
   "cell_type": "code",
   "execution_count": 1,
   "metadata": {
    "collapsed": true
   },
   "outputs": [],
   "source": [
    "import sys\n",
    "sys.path.append('/home/lessa/smodels')\n",
    "from smodels.experiment.databaseObj import Database\n",
    "from smodels.tools.physicsUnits import GeV,fb,pb\n",
    "import matplotlib.pyplot as plt\n",
    "from mpl_toolkits.mplot3d import Axes3D"
   ]
  },
  {
   "cell_type": "code",
   "execution_count": 2,
   "metadata": {
    "collapsed": true
   },
   "outputs": [],
   "source": [
    "db = Database('/home/lessa/smodels-database')"
   ]
  },
  {
   "cell_type": "code",
   "execution_count": 3,
   "metadata": {
    "collapsed": true
   },
   "outputs": [],
   "source": [
    "exp = db.getExpResults(analysisIDs=['ATLAS-SUSY-2013-19'],dataTypes=['upperLimit'],txnames=['T2tt'])[0]"
   ]
  },
  {
   "cell_type": "code",
   "execution_count": 4,
   "metadata": {
    "collapsed": false
   },
   "outputs": [
    {
     "name": "stdout",
     "output_type": "stream",
     "text": [
      "T2tt\n"
     ]
    }
   ],
   "source": [
    "tx = exp.getTxNames()[0]\n",
    "print tx"
   ]
  },
  {
   "cell_type": "code",
   "execution_count": 5,
   "metadata": {
    "collapsed": true
   },
   "outputs": [],
   "source": [
    "data = tx.txnameData._data"
   ]
  },
  {
   "cell_type": "code",
   "execution_count": 12,
   "metadata": {
    "collapsed": false
   },
   "outputs": [],
   "source": [
    "xvals = [pt[0][0][0].asNumber(GeV) for pt in data]\n",
    "yvals = [pt[0][0][-1].asNumber(GeV) for pt in data]\n",
    "zvals = [pt[1].asNumber(pb) for pt in data]"
   ]
  },
  {
   "cell_type": "code",
   "execution_count": 13,
   "metadata": {
    "collapsed": false
   },
   "outputs": [],
   "source": [
    "fig = plt.figure()\n",
    "ax = fig.add_subplot(111, projection='3d')\n",
    "ax.scatter(xvals, yvals, zvals)\n",
    "ax.set_xlabel('M1')\n",
    "ax.set_ylabel('m')\n",
    "ax.set_zlabel('UL')\n",
    "\n",
    "plt.show()"
   ]
  },
  {
   "cell_type": "code",
   "execution_count": 10,
   "metadata": {
    "collapsed": false
   },
   "outputs": [
    {
     "name": "stdout",
     "output_type": "stream",
     "text": [
      "[[[1.80E+02 [GeV], 0.00E+00 [GeV]], [1.80E+02 [GeV], 0.00E+00 [GeV]]], 5.62E+01 [pb]]\n",
      "[[[1.90E+02 [GeV], 0.00E+00 [GeV]], [1.90E+02 [GeV], 0.00E+00 [GeV]]], 1.50E+02 [pb]]\n",
      "[[[2.00E+02 [GeV], 1.00E+01 [GeV]], [2.00E+02 [GeV], 1.00E+01 [GeV]]], 6.49E+01 [pb]]\n",
      "[[[2.25E+02 [GeV], 3.50E+01 [GeV]], [2.25E+02 [GeV], 3.50E+01 [GeV]]], 5.46E+01 [pb]]\n",
      "[[[4.00E+02 [GeV], 2.20E+02 [GeV]], [4.00E+02 [GeV], 2.20E+02 [GeV]]], 6.49E+01 [pb]]\n"
     ]
    }
   ],
   "source": [
    "for ipt,z in enumerate(zvals):\n",
    "    if z > 40000.:\n",
    "        print data[ipt]"
   ]
  },
  {
   "cell_type": "code",
   "execution_count": 57,
   "metadata": {
    "collapsed": false
   },
   "outputs": [
    {
     "name": "stdout",
     "output_type": "stream",
     "text": [
      "[ -4.00973477e-10  -1.22160051e+02] 2.30E-01 [pb]\n",
      "[   5.10991334 -125.03102563] 4.20E+00 \n",
      "[  -0.17259184 -111.91252194] 1.78E+00 \n",
      "[-86.89513099 -85.85103305] 4.35E+00 \n"
     ]
    }
   ],
   "source": [
    "m = [[347.406576078*GeV,166.767198233*GeV],[347.406576078*GeV,166.767198233*GeV]]\n",
    "porig = tx.txnameData.flattenMassArray(m)\n",
    "pt = ( (np.matrix(porig)[0] - tx.txnameData.delta_x ) ).tolist()[0]\n",
    "pt = np.dot(pt,tx.txnameData._V)  ## rotate\n",
    "pt = np.array(pt[:tx.txnameData.dimensionality])\n",
    "print pt,tx.txnameData.getValueFor(m)\n",
    "fig = plt.figure()\n",
    "ax = fig.add_subplot(111, projection='3d')\n",
    "ptm = [pt[0],pt[1],tx.txnameData.getValueFor(m).asNumber(pb)]\n",
    "ax.scatter([ptm[0]], [ptm[1]], [ptm[2]],c='r',marker='o')\n",
    "xpts = []\n",
    "ypts = []\n",
    "zpts = []\n",
    "for ipt in tx.txnameData.tri.simplices[tx.txnameData.tri.find_simplex(pt)]:\n",
    "    xpts.append(tx.txnameData.tri.points[ipt][0])\n",
    "    ypts.append(tx.txnameData.tri.points[ipt][1])\n",
    "    zpts.append(tx.txnameData.xsec[ipt])\n",
    "    print tx.txnameData.tri.points[ipt],tx.txnameData.xsec[ipt]"
   ]
  },
  {
   "cell_type": "code",
   "execution_count": 55,
   "metadata": {
    "collapsed": false
   },
   "outputs": [],
   "source": [
    "ax.scatter(xpts, ypts, zpts,c='b',marker='o')\n",
    "ax.set_xlabel('x')\n",
    "ax.set_ylabel('y')\n",
    "ax.set_zlabel('UL')\n",
    "plt.show()"
   ]
  },
  {
   "cell_type": "code",
   "execution_count": 64,
   "metadata": {
    "collapsed": false
   },
   "outputs": [],
   "source": [
    "fig.clear()\n",
    "plt.triplot(xpts,ypts)\n",
    "plt.plot([ptm[0]], [ptm[1]],'ro',xpts,ypts,'bo')\n",
    "plt.show()"
   ]
  },
  {
   "cell_type": "code",
   "execution_count": 67,
   "metadata": {
    "collapsed": false
   },
   "outputs": [
    {
     "name": "stdout",
     "output_type": "stream",
     "text": [
      "4.05666720657\n"
     ]
    }
   ],
   "source": [
    "tri = tx.txnameData.tri\n",
    "simplex = tri.find_simplex([pt])\n",
    "vertices = np.take(tri.simplices, simplex, axis=0)\n",
    "temp = np.take(tri.transform, simplex, axis=0)\n",
    "d=temp.shape[2]\n",
    "delta = [pt] - temp[:, d]\n",
    "bary = np.einsum('njk,nk->nj', temp[:, :d, :], delta)\n",
    "vtx = vertices\n",
    "wts = np.hstack((bary, 1 - bary.sum(axis=1, keepdims=True)))\n",
    "v=tx.txnameData.xsec\n",
    "values = np.array ( [ x.asNumber() for x in tx.txnameData.xsec ] )\n",
    "ret = np.einsum('nj,nj->n', np.take(values, vtx), wts)\n",
    "with np.errstate(invalid='ignore'):\n",
    "    ret[np.any(wts < -1e-10, axis=1)] = np.nan\n",
    "print ret[0]"
   ]
  },
  {
   "cell_type": "code",
   "execution_count": 69,
   "metadata": {
    "collapsed": false
   },
   "outputs": [
    {
     "data": {
      "text/plain": [
       "array([[29, 28, 23]], dtype=int32)"
      ]
     },
     "execution_count": 69,
     "metadata": {},
     "output_type": "execute_result"
    }
   ],
   "source": [
    "vertices"
   ]
  },
  {
   "cell_type": "code",
   "execution_count": 70,
   "metadata": {
    "collapsed": false
   },
   "outputs": [
    {
     "data": {
      "text/plain": [
       "array([ -4.00973477e-10,  -1.22160051e+02])"
      ]
     },
     "execution_count": 70,
     "metadata": {},
     "output_type": "execute_result"
    }
   ],
   "source": [
    "pt"
   ]
  },
  {
   "cell_type": "code",
   "execution_count": 74,
   "metadata": {
    "collapsed": false
   },
   "outputs": [
    {
     "name": "stdout",
     "output_type": "stream",
     "text": [
      "[ -4.00973477e-10  -1.22160051e+02  -5.68434189e-14   2.62012634e-14] 1\n"
     ]
    }
   ],
   "source": [
    "m = [[347.406576078*GeV,166.767198233*GeV],[347.406576078*GeV,166.767198233*GeV]]\n",
    "porig = tx.txnameData.flattenMassArray(m)\n",
    "ptA = ( (np.matrix(porig)[0] - tx.txnameData.delta_x ) ).tolist()[0]\n",
    "ptA = np.dot(ptA,tx.txnameData._V)  ## rotate\n",
    "print ptA,tx.txnameData.countNonZeros(ptA)"
   ]
  },
  {
   "cell_type": "code",
   "execution_count": null,
   "metadata": {
    "collapsed": true
   },
   "outputs": [],
   "source": []
  }
 ],
 "metadata": {
  "kernelspec": {
   "display_name": "Python 2",
   "language": "python",
   "name": "python2"
  },
  "language_info": {
   "codemirror_mode": {
    "name": "ipython",
    "version": 2
   },
   "file_extension": ".py",
   "mimetype": "text/x-python",
   "name": "python",
   "nbconvert_exporter": "python",
   "pygments_lexer": "ipython2",
   "version": "2.7.12"
  }
 },
 "nbformat": 4,
 "nbformat_minor": 0
}
