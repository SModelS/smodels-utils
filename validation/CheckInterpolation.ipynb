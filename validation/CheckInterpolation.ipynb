{
 "cells": [
  {
   "cell_type": "code",
   "execution_count": 1,
   "metadata": {
    "collapsed": true
   },
   "outputs": [],
   "source": [
    "import sys\n",
    "sys.path.append('/home/lessa/smodels')\n",
    "from smodels.experiment.databaseObj import Database\n",
    "from smodels.tools.physicsUnits import GeV,fb,pb\n",
    "import matplotlib.pyplot as plt\n",
    "from mpl_toolkits.mplot3d import Axes3D\n",
    "import numpy as np"
   ]
  },
  {
   "cell_type": "code",
   "execution_count": 2,
   "metadata": {
    "collapsed": true
   },
   "outputs": [],
   "source": [
    "db = Database('/home/lessa/smodels-database-old')"
   ]
  },
  {
   "cell_type": "code",
   "execution_count": 3,
   "metadata": {
    "collapsed": false
   },
   "outputs": [],
   "source": [
    "exp = db.getExpResults(analysisIDs=['ATLAS-CONF-2013-037'],dataTypes=['upperLimit'],txnames=['T6bbWW'],\n",
    "                       useSuperseded=True,useNonValidated=True)[0]"
   ]
  },
  {
   "cell_type": "code",
   "execution_count": 4,
   "metadata": {
    "collapsed": false
   },
   "outputs": [
    {
     "name": "stdout",
     "output_type": "stream",
     "text": [
      "T6bbWW\n"
     ]
    }
   ],
   "source": [
    "tx = exp.getTxNames()[0]\n",
    "print tx"
   ]
  },
  {
   "cell_type": "code",
   "execution_count": 6,
   "metadata": {
    "collapsed": false
   },
   "outputs": [
    {
     "name": "stdout",
     "output_type": "stream",
     "text": [
      "porig= [360.430955884, 256.689941306, 128.344970653, 360.430955884, 256.689941306, 128.344970653]\n",
      "[13.35403280707692, 90.68994130599998, 56.79112449915384, 13.35403280707692, 90.68994130599998, 56.79112449915384]\n",
      "[  5.15858238e+01   1.43508858e+02   7.52002134e-01  -4.67959005e-14\n",
      "   0.00000000e+00   1.42108547e-14]\n",
      "Pt= [  51.58582378  143.50885762    0.75200213] val= 6.51E-01 [pb]\n",
      "[ 74.08514263 -14.25279427 -45.16991228] 7.40E-01 \n",
      "[  52.04754142  213.24550128    7.35503086] 6.40E-01 \n",
      "[ 17.75172964  59.6930145   -8.31120985] 8.20E-01 \n",
      "[ 121.03363786  197.74849625    8.22757466] 3.20E-01 \n"
     ]
    }
   ],
   "source": [
    "m = [[360.430955884*GeV, 128.344970653*GeV*2,128.344970653*GeV]]*2\n",
    "porig = tx.txnameData.flattenMassArray(m)\n",
    "print 'porig=',porig\n",
    "pt = ( (np.matrix(porig)[0] - tx.txnameData.delta_x ) ).tolist()[0]\n",
    "print pt\n",
    "pt = np.dot(pt,tx.txnameData._V)  ## rotate\n",
    "print pt\n",
    "pt = np.array(pt[:tx.txnameData.dimensionality])\n",
    "print 'Pt=',pt,'val=',tx.txnameData.getValueFor(m)\n",
    "# fig = plt.figure()\n",
    "# ax = fig.add_subplot(111, projection='3d')\n",
    "# ptm = [pt[0],pt[1],tx.txnameData.getValueFor(m).asNumber(pb)]\n",
    "# ax.scatter([ptm[0]], [ptm[1]], [ptm[2]],c='r',marker='o')\n",
    "xpts = []\n",
    "ypts = []\n",
    "zpts = []\n",
    "for ipt in tx.txnameData.tri.simplices[tx.txnameData.tri.find_simplex(pt)]:\n",
    "    xpts.append(tx.txnameData.tri.points[ipt][0])\n",
    "    ypts.append(tx.txnameData.tri.points[ipt][1])\n",
    "    if tx.txnameData.dimensionality == 3:\n",
    "        zpts.append(tx.txnameData.tri.points[ipt][2])\n",
    "    else:\n",
    "        zpts.append(tx.txnameData.xsec[ipt])\n",
    "    print tx.txnameData.tri.points[ipt],tx.txnameData.xsec[ipt]"
   ]
  },
  {
   "cell_type": "code",
   "execution_count": null,
   "metadata": {
    "collapsed": false
   },
   "outputs": [],
   "source": [
    "for pt in tx.txnameData._data:\n",
    "    print pt[0][0],pt[1]"
   ]
  },
  {
   "cell_type": "code",
   "execution_count": null,
   "metadata": {
    "collapsed": false
   },
   "outputs": [],
   "source": [
    "fig = plt.figure()\n",
    "ax = fig.add_subplot(111, projection='3d')\n",
    "ax.scatter(xpts, ypts, zpts,s=80,c='r',marker='o')\n",
    "ax.scatter([pt[0]],[pt[1]],[pt[2]],s=80,c='b',marker='o')\n",
    "ax.set_xlabel('x')\n",
    "ax.set_ylabel('y')\n",
    "if tx.txnameData.dimensionality == 3:\n",
    "    ax.set_zlabel('UL')\n",
    "else:\n",
    "    ax.set_zlabel('z')\n",
    "\n",
    "plt.show()"
   ]
  },
  {
   "cell_type": "code",
   "execution_count": null,
   "metadata": {
    "collapsed": false
   },
   "outputs": [],
   "source": [
    "uvw = [pt[:3]]\n",
    "fill_value=np.nan\n",
    "tol = sys.float_info.epsilon * 1e06\n",
    "simplex = tx.txnameData.tri.find_simplex(uvw, tol=tol)\n",
    "vertices = np.take(tx.txnameData.tri.simplices, simplex, axis=0)\n",
    "temp = np.take(tx.txnameData.tri.transform, simplex, axis=0)\n",
    "d=temp.shape[2]\n",
    "delta = uvw - temp[:, d]\n",
    "bary = np.einsum('njk,nk->nj', temp[:, :d, :], delta)\n",
    "tx.txnameData.vtx = vertices\n",
    "tx.txnameData.wts = np.hstack((bary, 1 - bary.sum(axis=1, keepdims=True)))\n",
    "v=tx.txnameData.xsec\n",
    "if type(tx.txnameData.xsec[0]) == float:\n",
    "    values = np.array ( [ float(x) for x in tx.txnameData.xsec ] )\n",
    "else:\n",
    "    values = np.array ( [ x.asNumber() for x in tx.txnameData.xsec ] )\n",
    "print 'v=',tx.txnameData.wts\n",
    "ret = np.einsum('nj,nj->n', np.take(values, tx.txnameData.vtx), tx.txnameData.wts)\n",
    "print 'r=',ret\n",
    "with np.errstate(invalid='ignore'):\n",
    "    ret[np.any(tx.txnameData.wts < -1e-10, axis=1)] = fill_value\n",
    "print ret"
   ]
  },
  {
   "cell_type": "code",
   "execution_count": null,
   "metadata": {
    "collapsed": false
   },
   "outputs": [],
   "source": [
    "fig.clear()\n",
    "plt.triplot(xpts,ypts)\n",
    "plt.plot([ptm[0]], [ptm[1]],'ro',xpts,ypts,'bo')\n",
    "plt.show()"
   ]
  },
  {
   "cell_type": "code",
   "execution_count": null,
   "metadata": {
    "collapsed": false
   },
   "outputs": [],
   "source": [
    "tri = tx.txnameData.tri\n",
    "simplex = tri.find_simplex([pt])\n",
    "vertices = np.take(tri.simplices, simplex, axis=0)\n",
    "temp = np.take(tri.transform, simplex, axis=0)\n",
    "d=temp.shape[2]\n",
    "delta = [pt] - temp[:, d]\n",
    "bary = np.einsum('njk,nk->nj', temp[:, :d, :], delta)\n",
    "vtx = vertices\n",
    "wts = np.hstack((bary, 1 - bary.sum(axis=1, keepdims=True)))\n",
    "v=tx.txnameData.xsec\n",
    "values = np.array ( [ x.asNumber() for x in tx.txnameData.xsec ] )\n",
    "ret = np.einsum('nj,nj->n', np.take(values, vtx), wts)\n",
    "with np.errstate(invalid='ignore'):\n",
    "    ret[np.any(wts < -1e-10, axis=1)] = np.nan\n",
    "print ret[0]"
   ]
  },
  {
   "cell_type": "code",
   "execution_count": null,
   "metadata": {
    "collapsed": false
   },
   "outputs": [],
   "source": [
    "vertices"
   ]
  },
  {
   "cell_type": "code",
   "execution_count": null,
   "metadata": {
    "collapsed": false
   },
   "outputs": [],
   "source": [
    "pt"
   ]
  },
  {
   "cell_type": "code",
   "execution_count": null,
   "metadata": {
    "collapsed": false
   },
   "outputs": [],
   "source": [
    "m = [[347.406576078*GeV,166.767198233*GeV],[347.406576078*GeV,166.767198233*GeV]]\n",
    "porig = tx.txnameData.flattenMassArray(m)\n",
    "ptA = ( (np.matrix(porig)[0] - tx.txnameData.delta_x ) ).tolist()[0]\n",
    "ptA = np.dot(ptA,tx.txnameData._V)  ## rotate\n",
    "print ptA,tx.txnameData.countNonZeros(ptA)"
   ]
  },
  {
   "cell_type": "code",
   "execution_count": null,
   "metadata": {
    "collapsed": false
   },
   "outputs": [],
   "source": [
    "print tx.txnameData.getValueFor(m)"
   ]
  },
  {
   "cell_type": "code",
   "execution_count": null,
   "metadata": {
    "collapsed": true
   },
   "outputs": [],
   "source": []
  }
 ],
 "metadata": {
  "kernelspec": {
   "display_name": "Python 2",
   "language": "python",
   "name": "python2"
  },
  "language_info": {
   "codemirror_mode": {
    "name": "ipython",
    "version": 2
   },
   "file_extension": ".py",
   "mimetype": "text/x-python",
   "name": "python",
   "nbconvert_exporter": "python",
   "pygments_lexer": "ipython2",
   "version": "2.7.12"
  }
 },
 "nbformat": 4,
 "nbformat_minor": 0
}
