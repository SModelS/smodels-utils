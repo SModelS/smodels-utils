{
 "cells": [
  {
   "cell_type": "code",
   "execution_count": null,
   "metadata": {
    "collapsed": true
   },
   "outputs": [],
   "source": [
    "import sys\n",
    "sys.path.append('/home/lessa/smodels')\n",
    "from smodels.experiment.databaseObj import Database\n",
    "from smodels.tools.physicsUnits import GeV,fb,pb\n",
    "import matplotlib.pyplot as plt\n",
    "from mpl_toolkits.mplot3d import Axes3D\n",
    "import numpy as np"
   ]
  },
  {
   "cell_type": "code",
   "execution_count": null,
   "metadata": {
    "collapsed": true
   },
   "outputs": [],
   "source": [
    "db = Database('/home/lessa/smodels-database')"
   ]
  },
  {
   "cell_type": "code",
   "execution_count": 3,
   "metadata": {
    "collapsed": false
   },
   "outputs": [],
   "source": [
    "exp = db.getExpResults(analysisIDs=['ATLAS-CONF-2013-007'],dataTypes=['upperLimit'],txnames=['T6ttWWoff'],\n",
    "                       useSuperseded=True)[0]"
   ]
  },
  {
   "cell_type": "code",
   "execution_count": 4,
   "metadata": {
    "collapsed": false
   },
   "outputs": [
    {
     "name": "stdout",
     "output_type": "stream",
     "text": [
      "T6ttWWoff\n"
     ]
    }
   ],
   "source": [
    "tx = exp.getTxNames()[0]\n",
    "print tx"
   ]
  },
  {
   "cell_type": "code",
   "execution_count": null,
   "metadata": {
    "collapsed": true
   },
   "outputs": [],
   "source": [
    "data = tx.txnameData._data"
   ]
  },
  {
   "cell_type": "code",
   "execution_count": null,
   "metadata": {
    "collapsed": false
   },
   "outputs": [],
   "source": [
    "xvals = [pt[0][0][0].asNumber(GeV) for pt in data]\n",
    "yvals = [pt[0][0][-1].asNumber(GeV) for pt in data]\n",
    "zvals = [pt[1].asNumber(pb) for pt in data]"
   ]
  },
  {
   "cell_type": "code",
   "execution_count": null,
   "metadata": {
    "collapsed": false
   },
   "outputs": [],
   "source": [
    "fig = plt.figure()\n",
    "ax = fig.add_subplot(111, projection='3d')\n",
    "ax.scatter(xvals, yvals, zvals)\n",
    "ax.set_xlabel('M1')\n",
    "ax.set_ylabel('m')\n",
    "ax.set_zlabel('UL')\n",
    "\n",
    "plt.show()"
   ]
  },
  {
   "cell_type": "code",
   "execution_count": 6,
   "metadata": {
    "collapsed": false
   },
   "outputs": [
    {
     "name": "stdout",
     "output_type": "stream",
     "text": [
      "[-165.4629868    0.       ] ret= [ 0.23472]\n",
      "dp= 1 2 [-165.4629868    0.           0.           0.           0.           0.       ]\n",
      "2.35E-01 [pb]\n",
      "[-106.06601718    0.        ] 1.86E-01 \n",
      "[ -1.06066017e+02   1.00000000e-04] 1.86E-01 \n",
      "[-176.7766953    0.       ] 2.44E-01 \n"
     ]
    }
   ],
   "source": [
    "m = [[358.*GeV,150.*GeV,75.*GeV],[358.*GeV,150.*GeV,75.*GeV]]\n",
    "porig = tx.txnameData.flattenMassArray(m)\n",
    "pt = ( (np.matrix(porig)[0] - tx.txnameData.delta_x ) ).tolist()[0]\n",
    "pt = np.dot(pt,tx.txnameData._V)  ## rotate\n",
    "pt = np.array(pt[:tx.txnameData.dimensionality])\n",
    "print pt,tx.txnameData.getValueFor(m)\n",
    "# fig = plt.figure()\n",
    "# ax = fig.add_subplot(111, projection='3d')\n",
    "# ptm = [pt[0],pt[1],tx.txnameData.getValueFor(m).asNumber(pb)]\n",
    "# ax.scatter([ptm[0]], [ptm[1]], [ptm[2]],c='r',marker='o')\n",
    "xpts = []\n",
    "ypts = []\n",
    "zpts = []\n",
    "for ipt in tx.txnameData.tri.simplices[tx.txnameData.tri.find_simplex(pt)]:\n",
    "    xpts.append(tx.txnameData.tri.points[ipt][0])\n",
    "    ypts.append(tx.txnameData.tri.points[ipt][1])\n",
    "    zpts.append(tx.txnameData.xsec[ipt])\n",
    "    print tx.txnameData.tri.points[ipt],tx.txnameData.xsec[ipt]"
   ]
  },
  {
   "cell_type": "code",
   "execution_count": null,
   "metadata": {
    "collapsed": false
   },
   "outputs": [],
   "source": [
    "print tx.txnameData.countNonZeros(pt),tx.txnameData.dimensionality"
   ]
  },
  {
   "cell_type": "code",
   "execution_count": null,
   "metadata": {
    "collapsed": false
   },
   "outputs": [],
   "source": [
    "ax.scatter(xpts, ypts, zpts,c='b',marker='o')\n",
    "ax.set_xlabel('x')\n",
    "ax.set_ylabel('y')\n",
    "ax.set_zlabel('UL')\n",
    "\n",
    "plt.show()"
   ]
  },
  {
   "cell_type": "code",
   "execution_count": null,
   "metadata": {
    "collapsed": false
   },
   "outputs": [],
   "source": [
    "uvw = [pt[:2]]\n",
    "fill_value=np.nan\n",
    "tol = sys.float_info.epsilon * 1e6\n",
    "simplex = tx.txnameData.tri.find_simplex(uvw, tol=tol)\n",
    "vertices = np.take(tx.txnameData.tri.simplices, simplex, axis=0)\n",
    "temp = np.take(tx.txnameData.tri.transform, simplex, axis=0)\n",
    "d=temp.shape[2]\n",
    "delta = uvw - temp[:, d]\n",
    "bary = np.einsum('njk,nk->nj', temp[:, :d, :], delta)\n",
    "tx.txnameData.vtx = vertices\n",
    "tx.txnameData.wts = np.hstack((bary, 1 - bary.sum(axis=1, keepdims=True)))\n",
    "v=tx.txnameData.xsec\n",
    "if type(tx.txnameData.xsec[0]) == float:\n",
    "    values = np.array ( [ float(x) for x in tx.txnameData.xsec ] )\n",
    "else:\n",
    "    values = np.array ( [ x.asNumber() for x in tx.txnameData.xsec ] )\n",
    "ret = np.einsum('nj,nj->n', np.take(values, tx.txnameData.vtx), tx.txnameData.wts)\n",
    "with np.errstate(invalid='ignore'):\n",
    "    ret[np.any(tx.txnameData.wts < -1e-10, axis=1)] = fill_value\n",
    "print ret"
   ]
  },
  {
   "cell_type": "code",
   "execution_count": null,
   "metadata": {
    "collapsed": false
   },
   "outputs": [],
   "source": [
    "fig.clear()\n",
    "plt.triplot(xpts,ypts)\n",
    "plt.plot([ptm[0]], [ptm[1]],'ro',xpts,ypts,'bo')\n",
    "plt.show()"
   ]
  },
  {
   "cell_type": "code",
   "execution_count": null,
   "metadata": {
    "collapsed": false
   },
   "outputs": [],
   "source": [
    "tri = tx.txnameData.tri\n",
    "simplex = tri.find_simplex([pt])\n",
    "vertices = np.take(tri.simplices, simplex, axis=0)\n",
    "temp = np.take(tri.transform, simplex, axis=0)\n",
    "d=temp.shape[2]\n",
    "delta = [pt] - temp[:, d]\n",
    "bary = np.einsum('njk,nk->nj', temp[:, :d, :], delta)\n",
    "vtx = vertices\n",
    "wts = np.hstack((bary, 1 - bary.sum(axis=1, keepdims=True)))\n",
    "v=tx.txnameData.xsec\n",
    "values = np.array ( [ x.asNumber() for x in tx.txnameData.xsec ] )\n",
    "ret = np.einsum('nj,nj->n', np.take(values, vtx), wts)\n",
    "with np.errstate(invalid='ignore'):\n",
    "    ret[np.any(wts < -1e-10, axis=1)] = np.nan\n",
    "print ret[0]"
   ]
  },
  {
   "cell_type": "code",
   "execution_count": null,
   "metadata": {
    "collapsed": false
   },
   "outputs": [],
   "source": [
    "vertices"
   ]
  },
  {
   "cell_type": "code",
   "execution_count": null,
   "metadata": {
    "collapsed": false
   },
   "outputs": [],
   "source": [
    "pt"
   ]
  },
  {
   "cell_type": "code",
   "execution_count": null,
   "metadata": {
    "collapsed": false
   },
   "outputs": [],
   "source": [
    "m = [[347.406576078*GeV,166.767198233*GeV],[347.406576078*GeV,166.767198233*GeV]]\n",
    "porig = tx.txnameData.flattenMassArray(m)\n",
    "ptA = ( (np.matrix(porig)[0] - tx.txnameData.delta_x ) ).tolist()[0]\n",
    "ptA = np.dot(ptA,tx.txnameData._V)  ## rotate\n",
    "print ptA,tx.txnameData.countNonZeros(ptA)"
   ]
  },
  {
   "cell_type": "code",
   "execution_count": null,
   "metadata": {
    "collapsed": false
   },
   "outputs": [],
   "source": [
    "print tx.txnameData.getValueFor(m)"
   ]
  },
  {
   "cell_type": "code",
   "execution_count": null,
   "metadata": {
    "collapsed": true
   },
   "outputs": [],
   "source": []
  }
 ],
 "metadata": {
  "kernelspec": {
   "display_name": "Python 2",
   "language": "python",
   "name": "python2"
  },
  "language_info": {
   "codemirror_mode": {
    "name": "ipython",
    "version": 2
   },
   "file_extension": ".py",
   "mimetype": "text/x-python",
   "name": "python",
   "nbconvert_exporter": "python",
   "pygments_lexer": "ipython2",
   "version": "2.7.12"
  }
 },
 "nbformat": 4,
 "nbformat_minor": 0
}
