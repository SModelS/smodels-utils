{
 "cells": [
  {
   "cell_type": "code",
   "execution_count": 1,
   "metadata": {
    "collapsed": true
   },
   "outputs": [],
   "source": [
    "import sys\n",
    "sys.path.append('/home/lessa/smodels')\n",
    "from smodels.experiment.databaseObj import Database\n",
    "from smodels.tools.physicsUnits import GeV,fb,pb\n",
    "import matplotlib.pyplot as plt\n",
    "from mpl_toolkits.mplot3d import Axes3D\n",
    "import numpy as np"
   ]
  },
  {
   "cell_type": "code",
   "execution_count": 14,
   "metadata": {
    "collapsed": false
   },
   "outputs": [
    {
     "name": "stdout",
     "output_type": "stream",
     "text": [
      "2.22044604925e-16\n",
      "2.22044604925e-16\n"
     ]
    }
   ],
   "source": [
    "print np.finfo(float).eps\n",
    "print sys.float_info.epsilon"
   ]
  },
  {
   "cell_type": "code",
   "execution_count": 2,
   "metadata": {
    "collapsed": true
   },
   "outputs": [],
   "source": [
    "db = Database('/home/lessa/smodels-database')"
   ]
  },
  {
   "cell_type": "code",
   "execution_count": 4,
   "metadata": {
    "collapsed": false
   },
   "outputs": [],
   "source": [
    "exp = db.getExpResults(analysisIDs=['ATLAS-SUSY-2013-04'],dataTypes=['efficiencyMap'],txnames=['T5WWoff'],\n",
    "                       useSuperseded=True,useNonValidated=True,datasetIDs=['GtGrid_SR_7ej80_0bjet'])[0]"
   ]
  },
  {
   "cell_type": "code",
   "execution_count": 5,
   "metadata": {
    "collapsed": false
   },
   "outputs": [
    {
     "name": "stdout",
     "output_type": "stream",
     "text": [
      "T5WWoff\n"
     ]
    }
   ],
   "source": [
    "tx = exp.getTxNames()[0]\n",
    "print tx"
   ]
  },
  {
   "cell_type": "code",
   "execution_count": 6,
   "metadata": {
    "collapsed": true
   },
   "outputs": [],
   "source": [
    "data = tx.txnameData._data"
   ]
  },
  {
   "cell_type": "code",
   "execution_count": null,
   "metadata": {
    "collapsed": false
   },
   "outputs": [],
   "source": [
    "# new_data = []\n",
    "# for pt in data:\n",
    "#     new_data.append(pt)\n",
    "#     new_data[-1][0][0][0] = 0.96*new_data[-1][0][1][0]\n",
    "# tx.txnameData._data =  new_data\n",
    "# tx.txnameData._V = None\n",
    "# tx.txnameData.computeV()"
   ]
  },
  {
   "cell_type": "code",
   "execution_count": 7,
   "metadata": {
    "collapsed": false
   },
   "outputs": [],
   "source": [
    "# xvals = [pt[0][0][0].asNumber(GeV) for pt in data]\n",
    "# yvals = [pt[0][0][-1].asNumber(GeV) for pt in data]\n",
    "# zvals = [pt[1] for pt in data]"
   ]
  },
  {
   "cell_type": "code",
   "execution_count": null,
   "metadata": {
    "collapsed": false
   },
   "outputs": [],
   "source": [
    "# fig = plt.figure()\n",
    "# ax = fig.add_subplot(111, projection='3d')\n",
    "# ax.scatter(xvals, yvals, zvals)\n",
    "# ax.set_xlabel('M1')\n",
    "# ax.set_ylabel('m')\n",
    "# ax.set_zlabel('UL')\n",
    "\n",
    "# plt.show()"
   ]
  },
  {
   "cell_type": "code",
   "execution_count": 12,
   "metadata": {
    "collapsed": false
   },
   "outputs": [
    {
     "name": "stdout",
     "output_type": "stream",
     "text": [
      "Pt= [-257.91076473  426.62764755   13.96399637] val= -7.53105444673e-16\n",
      "954\n",
      "[-228.1692754   388.37365908  -18.81009438] 1.84e-05\n",
      "[-222.6727301   401.58398818   36.37391775] 0.0\n",
      "[-269.24793409  443.52695656    2.88454963] 0.0\n",
      "[-282.95611039  400.45830122   17.27818815] 0.0\n"
     ]
    }
   ],
   "source": [
    "m =[[571.157926242*GeV, 534.583889495*GeV, 498.009852749*GeV]]*2\n",
    "porig = tx.txnameData.flattenMassArray(m)\n",
    "pt = ( (np.matrix(porig)[0] - tx.txnameData.delta_x ) ).tolist()[0]\n",
    "pt = np.dot(pt,tx.txnameData._V)  ## rotate\n",
    "pt = np.array(pt[:tx.txnameData.dimensionality])\n",
    "print 'Pt=',pt,'val=',tx.txnameData.getValueFor(m)\n",
    "# fig = plt.figure()\n",
    "# ax = fig.add_subplot(111, projection='3d')\n",
    "# ptm = [pt[0],pt[1],tx.txnameData.getValueFor(m).asNumber(pb)]\n",
    "# ax.scatter([ptm[0]], [ptm[1]], [ptm[2]],c='r',marker='o')\n",
    "xpts = []\n",
    "ypts = []\n",
    "zpts = []\n",
    "simplex = tx.txnameData.tri.find_simplex(pt)\n",
    "if simplex == [-1]:\n",
    "    print simplex\n",
    "else:\n",
    "    for ipt in tx.txnameData.tri.simplices[tx.txnameData.tri.find_simplex(pt)]:\n",
    "        xpts.append(tx.txnameData.tri.points[ipt][0])\n",
    "        ypts.append(tx.txnameData.tri.points[ipt][1])\n",
    "        if tx.txnameData.dimensionality == 3:\n",
    "            zpts.append(tx.txnameData.tri.points[ipt][2])\n",
    "        else:\n",
    "            zpts.append(tx.txnameData.xsec[ipt])\n",
    "        print tx.txnameData.tri.points[ipt],tx.txnameData.xsec[ipt]"
   ]
  },
  {
   "cell_type": "code",
   "execution_count": 15,
   "metadata": {
    "collapsed": false
   },
   "outputs": [
    {
     "name": "stdout",
     "output_type": "stream",
     "text": [
      "3 3\n"
     ]
    }
   ],
   "source": [
    "print tx.txnameData.countNonZeros(pt),tx.txnameData.dimensionality"
   ]
  },
  {
   "cell_type": "code",
   "execution_count": null,
   "metadata": {
    "collapsed": false
   },
   "outputs": [],
   "source": [
    "fig = plt.figure()\n",
    "ax = fig.add_subplot(111, projection='3d')\n",
    "ax.scatter(xpts, ypts, zpts,s=80,c='r',marker='o')\n",
    "ax.scatter([pt[0]],[pt[1]],[pt[2]],s=80,c='b',marker='o')\n",
    "ax.set_xlabel('x')\n",
    "ax.set_ylabel('y')\n",
    "if tx.txnameData.dimensionality == 3:\n",
    "    ax.set_zlabel('UL')\n",
    "else:\n",
    "    ax.set_zlabel('z')\n",
    "\n",
    "plt.show()"
   ]
  },
  {
   "cell_type": "code",
   "execution_count": 19,
   "metadata": {
    "collapsed": false
   },
   "outputs": [
    {
     "name": "stdout",
     "output_type": "stream",
     "text": [
      "w= [[  2.78948156e-01   6.00328425e-01   1.20723419e-01  -2.05766515e-11]]\n",
      "r= [ -7.53105445e-16]\n",
      "vals= [[  0.00000000e+00   0.00000000e+00   0.00000000e+00   3.66000000e-05]]\n",
      "[ -7.53105445e-16]\n"
     ]
    }
   ],
   "source": [
    "uvw = [pt[:3]]\n",
    "fill_value=np.nan\n",
    "tol = sys.float_info.epsilon * 1e06\n",
    "simplex = tx.txnameData.tri.find_simplex(uvw, tol=tol)\n",
    "vertices = np.take(tx.txnameData.tri.simplices, simplex, axis=0)\n",
    "temp = np.take(tx.txnameData.tri.transform, simplex, axis=0)\n",
    "d=temp.shape[2]\n",
    "delta = uvw - temp[:, d]\n",
    "bary = np.einsum('njk,nk->nj', temp[:, :d, :], delta)\n",
    "tx.txnameData.vtx = vertices\n",
    "tx.txnameData.wts = np.hstack((bary, 1 - bary.sum(axis=1, keepdims=True)))\n",
    "v=tx.txnameData.xsec\n",
    "if type(tx.txnameData.xsec[0]) == float:\n",
    "    values = np.array ( [ float(x) for x in tx.txnameData.xsec ] )\n",
    "else:\n",
    "    values = np.array ( [ x.asNumber() for x in tx.txnameData.xsec ] )\n",
    "print 'w=',tx.txnameData.wts\n",
    "ret = np.einsum('nj,nj->n', np.take(values, tx.txnameData.vtx), tx.txnameData.wts)\n",
    "print 'r=',ret\n",
    "print 'vals=',np.take(values, tx.txnameData.vtx)\n",
    "with np.errstate(invalid='ignore'):\n",
    "    ret[np.any(tx.txnameData.wts < -1e-10, axis=1)] = fill_value\n",
    "print ret"
   ]
  },
  {
   "cell_type": "code",
   "execution_count": null,
   "metadata": {
    "collapsed": false
   },
   "outputs": [],
   "source": [
    "fig.clear()\n",
    "plt.triplot(xpts,ypts)\n",
    "plt.plot([ptm[0]], [ptm[1]],'ro',xpts,ypts,'bo')\n",
    "plt.show()"
   ]
  },
  {
   "cell_type": "code",
   "execution_count": null,
   "metadata": {
    "collapsed": false
   },
   "outputs": [],
   "source": [
    "tri = tx.txnameData.tri\n",
    "simplex = tri.find_simplex([pt])\n",
    "vertices = np.take(tri.simplices, simplex, axis=0)\n",
    "temp = np.take(tri.transform, simplex, axis=0)\n",
    "d=temp.shape[2]\n",
    "delta = [pt] - temp[:, d]\n",
    "bary = np.einsum('njk,nk->nj', temp[:, :d, :], delta)\n",
    "vtx = vertices\n",
    "wts = np.hstack((bary, 1 - bary.sum(axis=1, keepdims=True)))\n",
    "v=tx.txnameData.xsec\n",
    "values = np.array ( [ x.asNumber() for x in tx.txnameData.xsec ] )\n",
    "ret = np.einsum('nj,nj->n', np.take(values, vtx), wts)\n",
    "with np.errstate(invalid='ignore'):\n",
    "    ret[np.any(wts < -1e-10, axis=1)] = np.nan\n",
    "print ret[0]"
   ]
  },
  {
   "cell_type": "code",
   "execution_count": null,
   "metadata": {
    "collapsed": false
   },
   "outputs": [],
   "source": [
    "vertices"
   ]
  },
  {
   "cell_type": "code",
   "execution_count": null,
   "metadata": {
    "collapsed": false
   },
   "outputs": [],
   "source": [
    "pt"
   ]
  },
  {
   "cell_type": "code",
   "execution_count": null,
   "metadata": {
    "collapsed": false
   },
   "outputs": [],
   "source": [
    "m = [[347.406576078*GeV,166.767198233*GeV],[347.406576078*GeV,166.767198233*GeV]]\n",
    "porig = tx.txnameData.flattenMassArray(m)\n",
    "ptA = ( (np.matrix(porig)[0] - tx.txnameData.delta_x ) ).tolist()[0]\n",
    "ptA = np.dot(ptA,tx.txnameData._V)  ## rotate\n",
    "print ptA,tx.txnameData.countNonZeros(ptA)"
   ]
  },
  {
   "cell_type": "code",
   "execution_count": null,
   "metadata": {
    "collapsed": false
   },
   "outputs": [],
   "source": [
    "print tx.txnameData.getValueFor(m)"
   ]
  },
  {
   "cell_type": "code",
   "execution_count": null,
   "metadata": {
    "collapsed": true
   },
   "outputs": [],
   "source": []
  }
 ],
 "metadata": {
  "kernelspec": {
   "display_name": "Python 2",
   "language": "python",
   "name": "python2"
  },
  "language_info": {
   "codemirror_mode": {
    "name": "ipython",
    "version": 2
   },
   "file_extension": ".py",
   "mimetype": "text/x-python",
   "name": "python",
   "nbconvert_exporter": "python",
   "pygments_lexer": "ipython2",
   "version": "2.7.12"
  }
 },
 "nbformat": 4,
 "nbformat_minor": 0
}
