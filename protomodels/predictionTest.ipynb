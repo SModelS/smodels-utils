{
 "cells": [
  {
   "cell_type": "code",
   "execution_count": 1,
   "metadata": {},
   "outputs": [],
   "source": [
    "import sys,os,copy,glob\n",
    "import numpy as np\n",
    "sys.path.append(os.path.expanduser('~/smodels'))\n",
    "from builder.protomodel import ProtoModel\n",
    "from builder.manipulator import Manipulator\n",
    "from tester.predictor import Predictor\n",
    "from tester.combiner import Combiner\n",
    "from walker.hiscore import Hiscore\n",
    "from smodels.experiment.databaseObj import Database\n",
    "from smodels.tools import runtime\n",
    "from smodels.tools.physicsUnits import fb\n",
    "runtime._experimental = True\n",
    "import matplotlib.pyplot as plt\n",
    "import seaborn as sns\n",
    "sns.set() #Set style\n",
    "sns.set_style('ticks',{'font.family':'serif', 'font.serif':'Times New Roman'})\n",
    "sns.set_context('paper', font_scale=1.8)\n",
    "sns.set_palette(sns.color_palette(\"Paired\"))"
   ]
  },
  {
   "cell_type": "code",
   "execution_count": 2,
   "metadata": {},
   "outputs": [],
   "source": [
    "def fromDict(inputDict):\n",
    "    \n",
    "    p = ProtoModel(walkerid=0)\n",
    "    for key,v in inputDict.items():\n",
    "        setattr(p,key,copy.deepcopy(v))\n",
    "        \n",
    "    return p"
   ]
  },
  {
   "cell_type": "code",
   "execution_count": 6,
   "metadata": {},
   "outputs": [],
   "source": [
    "#Get highest score from the run:\n",
    "with open('./real3.dict','r') as f:\n",
    "    pList = eval(f.read())\n",
    "run = eval(os.path.basename(ff).replace('real','').replace('.dict',''))\n",
    "pList = [fromDict(pDict) for pDict in pList[:]]\n",
    "p = sorted(pList, key = lambda p: p.K, reverse=True)[0]\n",
    "protomodel = p"
   ]
  },
  {
   "cell_type": "code",
   "execution_count": 7,
   "metadata": {},
   "outputs": [
    {
     "name": "stdout",
     "output_type": "stream",
     "text": [
      "3 ProtoModel (XZ1,Xt,Xc): K = 8.77, Z = 3.51\n"
     ]
    }
   ],
   "source": [
    "print(run,protomodel)    "
   ]
  },
  {
   "cell_type": "code",
   "execution_count": 8,
   "metadata": {},
   "outputs": [
    {
     "name": "stderr",
     "output_type": "stream",
     "text": [
      "combination #0/405   0%|                                        |ETA:  --:--:--\r"
     ]
    },
    {
     "name": "stdout",
     "output_type": "stream",
     "text": [
      "[combine:0] selected predictions down via SRs from 151 to 21.\n",
      "[combine:0] sorting out subsets, reduced 3338 -> 405 combinations.\n"
     ]
    },
    {
     "name": "stderr",
     "output_type": "stream",
     "text": [
      "combination #405/405 100%|||||||||||||||||||||||||||||||||||||||||Time: 0:00:28\n",
      "combination #0/405   0%|                                        |ETA:  --:--:--\r"
     ]
    },
    {
     "name": "stdout",
     "output_type": "stream",
     "text": [
      "[combine:0] selected predictions down via SRs from 151 to 21.\n",
      "[combine:0] sorting out subsets, reduced 3338 -> 405 combinations.\n"
     ]
    },
    {
     "name": "stderr",
     "output_type": "stream",
     "text": [
      "combination #405/405 100%|||||||||||||||||||||||||||||||||||||||||Time: 0:00:31\n"
     ]
    }
   ],
   "source": [
    "# pred = Predictor(walkerid=0,dbpath='./smodels-database-noFastlim/')\n",
    "pred = Predictor(walkerid=0,dbpath='./official123_smodels200.pcl')\n",
    "res = pred.predict(protomodel)\n",
    "oldPrior = pred.combiner.computePrior(protomodel,name='expo2')\n",
    "newPrior = pred.combiner.computePrior(protomodel,name='expo1')"
   ]
  },
  {
   "cell_type": "code",
   "execution_count": 9,
   "metadata": {},
   "outputs": [
    {
     "name": "stdout",
     "output_type": "stream",
     "text": [
      "new K =  7.522839222989878\n"
     ]
    }
   ],
   "source": [
    "print('new K = ',protomodel.K)"
   ]
  },
  {
   "cell_type": "code",
   "execution_count": 13,
   "metadata": {},
   "outputs": [
    {
     "name": "stdout",
     "output_type": "stream",
     "text": [
      "\n",
      " run 3: K = 7.52, Z = 3.32, muhat = 1.00, mumax = 1.00\n",
      "\t Best Combo:\n",
      "\t\t ATLAS-SUSY-2013-02 [T2] SR6jtp 6 4.9 1.6 pred= 9.19E-06 [pb] UL = 3.99E-01 [fb]\n",
      "\t\t ATLAS-SUSY-2013-15 [T2tt] tNboost 5 3.3 0.7 pred= 1.52E-05 [pb] UL = 3.73E-01 [fb]\n",
      "\t\t ATLAS-SUSY-2015-02 [T2tt] SR1 12 5.5 0.72 pred= 3.94E-04 [pb] UL = 4.40E+00 [fb]\n",
      "\t\t ATLAS-SUSY-2016-07 [T2] 2j_Meff_1200 611.0 526.0 31.0 pred= 1.15E-03 [pb] UL = 4.84E+00 [fb]\n",
      "\t\t CMS-SUS-13-012 [T2] None pred= 2.13E-03 [pb] UL = 3.80E+01 [fb]\n",
      "\t\t CMS-SUS-16-050 [T2tt] None pred= 4.60E-02 [pb] UL = 1.79E+02 [fb]\n",
      "\t Constraints:\n",
      "\t\t r = 1.30 CMS-SUS-19-006 upperLimit [T2tt] theory xsec =  45.99, UL = 35.38, UL_exp = 55.02\n",
      "\t\t r = 1.14 CMS-SUS-16-033 upperLimit [T2] theory xsec =  23.85, UL = 20.86, UL_exp = 30.81\n",
      "\t\t r = 1.13 CMS-SUS-19-006 upperLimit [T2] theory xsec =  23.85, UL = 21.14, UL_exp = 23.70\n"
     ]
    }
   ],
   "source": [
    "p = protomodel\n",
    "print('\\n run %i: K = %1.2f, Z = %1.2f, muhat = %1.2f, mumax = %1.2f' %(run,p.K,p.Z,p.muhat,p.mumax))\n",
    "print('\\t Best Combo:')\n",
    "for tp in sorted(p.bestCombo, key = lambda tp: tp.expResult.globalInfo.id):\n",
    "    if tp.dataset.dataInfo.dataType == 'efficiencyMap':\n",
    "        print('\\t\\t',tp.expResult.globalInfo.id,tp.txnames,tp.dataset.dataInfo.dataId,\n",
    "          tp.dataset.dataInfo.observedN,tp.dataset.dataInfo.expectedBG,tp.dataset.dataInfo.bgError,\n",
    "              'pred=',tp.xsection.value,'UL =',tp.getUpperLimit())\n",
    "    else:\n",
    "        print('\\t\\t',tp.expResult.globalInfo.id,tp.txnames,tp.dataset.dataInfo.dataId,\n",
    "              'pred=',tp.xsection.value,'UL =',tp.getUpperLimit())\n",
    "\n",
    "print('\\t Constraints:')\n",
    "for tp in sorted(p.tpList, key = lambda x: x[0], reverse=True):\n",
    "    if tp[0] < 1.0: continue\n",
    "    print('\\t\\t r = %1.2f' %tp[0],tp[2].expResult.globalInfo.id,tp[2].dataset.dataInfo.dataType,tp[2].txnames,\n",
    "          'theory xsec =  %1.2f, UL = %1.2f, UL_exp = %1.2f' \n",
    "          %(tp[2].xsection.value.asNumber(fb),tp[2].upperLimit.asNumber(fb),tp[2].expectedUL.asNumber(fb)))\n"
   ]
  },
  {
   "cell_type": "code",
   "execution_count": null,
   "metadata": {},
   "outputs": [],
   "source": []
  }
 ],
 "metadata": {
  "kernelspec": {
   "display_name": "Python 3",
   "language": "python",
   "name": "python3"
  },
  "language_info": {
   "codemirror_mode": {
    "name": "ipython",
    "version": 3
   },
   "file_extension": ".py",
   "mimetype": "text/x-python",
   "name": "python",
   "nbconvert_exporter": "python",
   "pygments_lexer": "ipython3",
   "version": "3.8.2"
  }
 },
 "nbformat": 4,
 "nbformat_minor": 4
}
