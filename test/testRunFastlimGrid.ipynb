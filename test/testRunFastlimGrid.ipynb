{
 "cells": [
  {
   "cell_type": "markdown",
   "metadata": {},
   "source": [
    "### How to run Fastlim on a list of SLHA files"
   ]
  },
  {
   "cell_type": "code",
   "execution_count": 1,
   "metadata": {
    "collapsed": false
   },
   "outputs": [
    {
     "name": "stdout",
     "output_type": "stream",
     "text": [
      "/home/lessa/smodels-utils/test/slhaFiles/1a7crtfzX1SKEXI.slha\n",
      "Best= CMedium 8 TeV:1.02E-01 [fb]\n",
      "/home/lessa/smodels-utils/test/slhaFiles/1A3vouYDeoTC5Hc.slha\n",
      "Best= ETight 8 TeV:5.34E-03 [fb]\n",
      "/home/lessa/smodels-utils/test/slhaFiles/1a7sbxZvRcnOV7A.slha\n",
      "Best= ETight 8 TeV:5.91E-05 [fb]\n",
      "/home/lessa/smodels-utils/test/slhaFiles/1A3DoYd1FJaBSqu.slha\n",
      "Best= ALoose 8 TeV:1.07E+00 [fb]\n",
      "/home/lessa/smodels-utils/test/slhaFiles/1A3jht421zAtzR2.slha\n",
      "Best= ETight 8 TeV:3.84E-03 [fb]\n",
      "/home/lessa/smodels-utils/test/slhaFiles/gluino_squarks.slha\n",
      "Best= AMedium 8 TeV:4.45E-02 [fb]\n",
      "/home/lessa/smodels-utils/test/slhaFiles/1a6NxvrgZ4gtZQ8.slha\n",
      "Best= D 8 TeV:2.91E-04 [fb]\n",
      "Files generated:\n",
      "['/home/lessa/smodels-utils/test/slhaFiles/1a7crtfzX1SKEXI.sms', '/home/lessa/smodels-utils/test/slhaFiles/1A3vouYDeoTC5Hc.sms', '/home/lessa/smodels-utils/test/slhaFiles/1a7sbxZvRcnOV7A.sms', '/home/lessa/smodels-utils/test/slhaFiles/1A3DoYd1FJaBSqu.sms', '/home/lessa/smodels-utils/test/slhaFiles/1A3jht421zAtzR2.sms', '/home/lessa/smodels-utils/test/slhaFiles/gluino_squarks.sms', '/home/lessa/smodels-utils/test/slhaFiles/1a6NxvrgZ4gtZQ8.sms']\n"
     ]
    }
   ],
   "source": [
    "\"\"\"setup - Import some smodels tools to deal with fastlim\"\"\"\n",
    "import sys,os\n",
    "sys.path.append('../fastlim_tools/runTools')\n",
    "home = os.path.expanduser(\"~\")\n",
    "sys.path.append(os.path.join(home,'smodels'))\n",
    "from smodels.tools.physicsUnits import fb\n",
    "from gridFastlim import runFastlimFor\n",
    "from fastlimOutput import equalObjs\n",
    "import glob\n",
    "from numpy.testing import assert_almost_equal\n",
    "from collections import OrderedDict\n",
    "\n",
    "slhaDir = os.path.join(os.getcwd(),'slhaFiles/')\n",
    "fastlimdir = os.path.join(os.getcwd(),'../fastlim_tools/fastlim-1.0/')\n",
    "#Runs Fastlim on slhaDir to generate the output as .sms files\n",
    "result = runFastlimFor(slhaDir,fastlimdir,expResID=None,txname=None,outType='sms')\n",
    "print 'Files generated:\\n',result"
   ]
  },
  {
   "cell_type": "markdown",
   "metadata": {},
   "source": [
    "##### Verify the output"
   ]
  },
  {
   "cell_type": "code",
   "execution_count": 2,
   "metadata": {
    "collapsed": false
   },
   "outputs": [],
   "source": [
    "\"\"\"setup - Define expected output\"\"\"\n",
    "expectedRes ={'1a7crtfzX1SKEXI.sms': {'ExptRes': [{'maxcond': 0.0, 'tval': 0.0034097560975609757, 'AnalysisTopo': [], 'DaughterMass': 0.0, 'exptlimit': 0.1902439024390244, 'MotherMass': 0.0, 'AnalysisSqrts': 8, 'AnalysisName': 'ATLAS-CONF-2013-024'},\n",
    "                                                {'maxcond': 0.0, 'tval': 0.0003596059113300493, 'AnalysisTopo': [], 'DaughterMass': 0.0, 'exptlimit': 1.1330049261083743, 'MotherMass': 0.0, 'AnalysisSqrts': 8, 'AnalysisName': 'ATLAS-CONF-2013-054'},\n",
    "                                                {'maxcond': 0.0, 'tval': 0.06402487562189053, 'AnalysisTopo': [], 'DaughterMass': 0.0, 'exptlimit': 0.3731343283582089, 'MotherMass': 0.0, 'AnalysisSqrts': 8, 'AnalysisName': 'ATLAS-CONF-2013-053'},\n",
    "                                                {'maxcond': 0.0, 'tval': 0.00013043478260869567, 'AnalysisTopo': [], 'DaughterMass': 0.0, 'exptlimit': 0.4106280193236715, 'MotherMass': 0.0, 'AnalysisSqrts': 8, 'AnalysisName': 'ATLAS-CONF-2013-037'},\n",
    "                                                {'maxcond': 0.0, 'tval': 3.4482758620689657e-05, 'AnalysisTopo': [], 'DaughterMass': 0.0, 'exptlimit': 0.22999999999999998, 'MotherMass': 0.0, 'AnalysisSqrts': 8, 'AnalysisName': 'ATLAS-CONF-2013-048'},\n",
    "                                                {'maxcond': 0.0, 'tval': 5.41871921182266e-05, 'AnalysisTopo': [], 'DaughterMass': 0.0, 'exptlimit': 0.29556650246305416, 'MotherMass': 0.0, 'AnalysisSqrts': 8, 'AnalysisName': 'ATLAS-CONF-2013-062'},\n",
    "                                                {'maxcond': 0.0, 'tval': 0.0026019900497512437, 'AnalysisTopo': [], 'DaughterMass': 0.0, 'exptlimit': 0.3333333333333333, 'MotherMass': 0.0, 'AnalysisSqrts': 8, 'AnalysisName': 'ATLAS-CONF-2013-061'},\n",
    "                                                {'maxcond': 0.0, 'tval': 0.10239901477832512, 'AnalysisTopo': [], 'DaughterMass': 0.0, 'exptlimit': 4.0, 'MotherMass': 0.0, 'AnalysisSqrts': 8, 'AnalysisName': 'ATLAS-CONF-2013-047'},\n",
    "                                                {'maxcond': 0.0, 'tval': 4.926108374384236e-06, 'AnalysisTopo': [], 'DaughterMass': 0.0, 'exptlimit': 0.21674876847290642, 'MotherMass': 0.0, 'AnalysisSqrts': 8, 'AnalysisName': 'ATLAS-CONF-2013-093'}],\n",
    "         'sbotmix': {'SB21': -0.999853136, 'SB11': 0.0171378385, 'SB12': 0.999853136, 'SB22': 0.0171378385},\n",
    "         'mass': OrderedDict([(24, 80.4182464), (25, 124.066542), (35, 1999.34508), (36, 2000.00002),\n",
    "                              (37, 2001.68498), (5, 4.85697885), (1000001, 3526.32489), (2000001, 3521.01173),\n",
    "                              (1000002, 3525.59921), (2000002, 3521.62673), (1000003, 3526.32489),\n",
    "                              (2000003, 3521.01173), (1000004, 3525.59921), (2000004, 3521.62673),\n",
    "                              (1000005, 660.353167), (2000005, 1328.76453), (1000006, 935.060852),\n",
    "                              (2000006, 1431.8675), (1000011, 5009.34603), (2000011, 5004.14816),\n",
    "                              (1000012, 5008.40821), (1000013, 5009.34603), (2000013, 5004.14816),\n",
    "                              (1000014, 5008.40821), (1000015, 5006.6248), (2000015, 5011.76896),\n",
    "                              (1000016, 5010.03273), (1000021, 2332.49912), (1000022, 368.872682),\n",
    "                              (1000023, 545.697927), (1000025, -555.385523), (1000035, 794.486146),\n",
    "                              (1000024, 541.491105), (1000037, 794.506655)]),\n",
    "         'chamix': {'V22': -0.274681728, 'V21': -0.961535204, 'V12': 0.961535204, 'V11': -0.274681728,\n",
    "                    'U21': -0.980378433, 'U22': -0.197124653, 'U11': -0.197124653, 'U12': 0.980378433},\n",
    "         'extra': {'sigmacut': 0.0}, 'MM': {}, 'MINPAR': {3: 19.624},\n",
    "                   'EXTPAR': {0: -1.0, 1: 370.0, 2: 740.0, 3: 2220.0, 11: 3341.5, 12: -440.39, 13: 0.0,\n",
    "                              23: 547.0, 26: 2000.0, 31: 5000.0, 32: 5000.0, 33: 5000.0, 34: 5000.0,\n",
    "                              35: 5000.0, 36: 5000.0, 41: 3506.7, 42: 3506.7, 43: 1349.1, 44: 3506.7,\n",
    "                              45: 3506.7, 46: 1110.0, 47: 3506.7, 48: 3506.7, 49: 662.73},\n",
    "         'stopmix': {'ST22': -0.481296834, 'ST21': -0.876557675, 'ST12': 0.876557675, 'ST11': -0.481296834},\n",
    "         'chimix': {'N12': -0.0213401336, 'N13': 0.152484503, 'N11': 0.982386309, 'N14': -0.1058783}},\n",
    "\n",
    "              \n",
    "'1A3jht421zAtzR2.sms' : {'ExptRes': [{'maxcond': 0.0, 'tval': 0.004858536585365853, 'AnalysisTopo': [], 'DaughterMass': 0.0, 'exptlimit': 0.1902439024390244, 'MotherMass': 0.0, 'AnalysisSqrts': 8, 'AnalysisName': 'ATLAS-CONF-2013-024'},\n",
    "                                    {'maxcond': 0.0, 'tval': 0.002738916256157635, 'AnalysisTopo': [], 'DaughterMass': 0.0, 'exptlimit': 0.9852216748768473, 'MotherMass': 0.0, 'AnalysisSqrts': 8, 'AnalysisName': 'ATLAS-CONF-2013-054'},\n",
    "                                    {'maxcond': 0.0, 'tval': 0.0003980099502487562, 'AnalysisTopo': [], 'DaughterMass': 0.0, 'exptlimit': 0.4477611940298507, 'MotherMass': 0.0, 'AnalysisSqrts': 8, 'AnalysisName': 'ATLAS-CONF-2013-053'},\n",
    "                                    {'maxcond': 0.0, 'tval': 0.02139130434782609, 'AnalysisTopo': [], 'DaughterMass': 0.0, 'exptlimit': 4.019323671497585, 'MotherMass': 0.0, 'AnalysisSqrts': 8, 'AnalysisName': 'ATLAS-CONF-2013-037'},\n",
    "                                    {'maxcond': 0.0, 'tval': 1.4778325123152708e-05, 'AnalysisTopo': [], 'DaughterMass': 0.0, 'exptlimit': 0.35000000000000003, 'MotherMass': 0.0, 'AnalysisSqrts': 8, 'AnalysisName': 'ATLAS-CONF-2013-049'},\n",
    "                                    {'maxcond': 0.0, 'tval': 0.0026748768472906405, 'AnalysisTopo': [], 'DaughterMass': 0.0, 'exptlimit': 2.5, 'MotherMass': 0.0, 'AnalysisSqrts': 8, 'AnalysisName': 'ATLAS-CONF-2013-048'},\n",
    "                                    {'maxcond': 0.0, 'tval': 0.0015123152709359607, 'AnalysisTopo': [], 'DaughterMass': 0.0, 'exptlimit': 0.14778325123152708, 'MotherMass': 0.0, 'AnalysisSqrts': 8, 'AnalysisName': 'ATLAS-CONF-2013-062'},\n",
    "                                    {'maxcond': 0.0, 'tval': 0.0023134328358208954, 'AnalysisTopo': [], 'DaughterMass': 0.0, 'exptlimit': 0.19402985074626863, 'MotherMass': 0.0, 'AnalysisSqrts': 8, 'AnalysisName': 'ATLAS-CONF-2013-061'},\n",
    "                                    {'maxcond': 0.0, 'tval': 0.0038423645320197044, 'AnalysisTopo': [], 'DaughterMass': 0.0, 'exptlimit': 0.4088669950738916, 'MotherMass': 0.0, 'AnalysisSqrts': 8, 'AnalysisName': 'ATLAS-CONF-2013-047'},\n",
    "                                    {'maxcond': 0.0, 'tval': 0.00022660098522167486, 'AnalysisTopo': [], 'DaughterMass': 0.0, 'exptlimit': 0.21674876847290642, 'MotherMass': 0.0, 'AnalysisSqrts': 8, 'AnalysisName': 'ATLAS-CONF-2013-093'}], \n",
    "                         'sbotmix': {'SB21': -0.00260652805, 'SB11': 0.999996603, 'SB12': 0.00260652805, \n",
    "                                     'SB22': 0.999996603}, \n",
    "                         'mass': OrderedDict([(24, 80.42463), (25, 127.331753), (35, 2000.18898), \n",
    "                                              (36, 1999.99997), (37, 2001.93345), (5, 4.85697885), \n",
    "                                              (1000001, 4000.81913), (2000001, 3994.3546), (1000002, 4000.17072), \n",
    "                                              (2000002, 3995.12005), (1000003, 4000.81913), (2000003, 3994.3546), \n",
    "                                              (1000004, 4000.17072), (2000004, 3995.12005), (1000005, 1201.55776), \n",
    "                                              (2000005, 1940.03024), (1000006, 641.528157), (2000006, 1248.15667), \n",
    "                                              (1000011, 5009.84755), (2000011, 5004.19262), (1000012, 5008.89918), \n",
    "                                              (1000013, 5009.84755), (2000013, 5004.19262), (1000014, 5008.89918),\n",
    "                                              (1000015, 5006.78316), (2000015, 5011.20891), (1000016, 5010.21326), \n",
    "                                              (1000021, 1386.55643), (1000022, 133.896343), (1000023, -164.585195),\n",
    "                                              (1000025, 224.126077), (1000035, 456.565911), (1000024, 151.029718),\n",
    "                                              (1000037, 456.54511)]), \n",
    "                         'chamix': {'V22': -0.284922952, 'V21': -0.958550422, 'V12': 0.958550422, \n",
    "                                    'V11': -0.284922952, 'U21': -0.993370629, 'U22': -0.114955615, \n",
    "                                    'U11': -0.114955615, 'U12': 0.993370629}, \n",
    "                         'extra': {'sigmacut': 0.0}, 'MM': {}, 'MINPAR': {3: 14.413}, \n",
    "                                     'EXTPAR': {0: -1.0, 1: 205.54, 2: 411.08, 3: 1233.2, 11: 2108.8, \n",
    "                                                12: -444.75, 13: 0.0, 23: 155.46, 26: 2000.0, 31: 5000.0, \n",
    "                                                32: 5000.0, 33: 5000.0, 34: 5000.0, 35: 5000.0, 36: 5000.0, \n",
    "                                                41: 3970.2, 42: 3970.2, 43: 1190.8, 44: 3970.2, 45: 3970.2, \n",
    "                                                46: 690.05, 47: 3970.2, 48: 3970.2, 49: 1923.3}, \n",
    "                         'stopmix': {'ST22': -0.293155177, 'ST21': -0.956064873, 'ST12': 0.956064873,\n",
    "                                     'ST11': -0.293155177}, \n",
    "                         'chimix': {'N12': -0.166629898, 'N13': 0.68743101, 'N11': 0.382484751, \n",
    "                                    'N14': -0.594456474}}}"
   ]
  },
  {
   "cell_type": "code",
   "execution_count": 3,
   "metadata": {
    "collapsed": false
   },
   "outputs": [
    {
     "name": "stderr",
     "output_type": "stream",
     "text": [
      "INFO:fastlimOutput:Objects differ:\n",
      "   0.00260199004975\n",
      " and\n",
      "   0.00364676616915\n",
      "INFO:fastlimOutput:Objects differ:\n",
      "   {'maxcond': 0.0, 'tval': 0.0026019900497512437, 'AnalysisTopo': [], 'DaughterMass': 0.0, 'exptlimit': 0.3333333333333333, 'AnalysisName': 'ATLAS-CONF-2013-061', 'AnalysisSqrts': 8, 'MotherMass': 0.0} \n",
      " and\n",
      "   {'maxcond': 0.0, 'tval': 0.003646766169154229, 'AnalysisTopo': [], 'DaughterMass': 0.0, 'exptlimit': 0.22885572139303478, 'AnalysisName': 'ATLAS-CONF-2013-061', 'AnalysisSqrts': 8, 'MotherMass': 0.0}\n",
      "INFO:fastlimOutput:Objects differ:\n",
      "   [{'maxcond': 0.0, 'tval': 0.0034097560975609757, 'AnalysisTopo': [], 'DaughterMass': 0.0, 'exptlimit': 0.1902439024390244, 'AnalysisName': 'ATLAS-CONF-2013-024', 'AnalysisSqrts': 8, 'MotherMass': 0.0}, {'maxcond': 0.0, 'tval': 0.0003596059113300493, 'AnalysisTopo': [], 'DaughterMass': 0.0, 'exptlimit': 1.1330049261083743, 'AnalysisName': 'ATLAS-CONF-2013-054', 'AnalysisSqrts': 8, 'MotherMass': 0.0}, {'maxcond': 0.0, 'tval': 0.06402487562189053, 'AnalysisTopo': [], 'DaughterMass': 0.0, 'exptlimit': 0.3731343283582089, 'AnalysisName': 'ATLAS-CONF-2013-053', 'AnalysisSqrts': 8, 'MotherMass': 0.0}, {'maxcond': 0.0, 'tval': 0.00013043478260869567, 'AnalysisTopo': [], 'DaughterMass': 0.0, 'exptlimit': 0.4106280193236715, 'AnalysisName': 'ATLAS-CONF-2013-037', 'AnalysisSqrts': 8, 'MotherMass': 0.0}, {'maxcond': 0.0, 'tval': 3.4482758620689657e-05, 'AnalysisTopo': [], 'DaughterMass': 0.0, 'exptlimit': 0.22999999999999998, 'AnalysisName': 'ATLAS-CONF-2013-048', 'AnalysisSqrts': 8, 'MotherMass': 0.0}, {'maxcond': 0.0, 'tval': 5.41871921182266e-05, 'AnalysisTopo': [], 'DaughterMass': 0.0, 'exptlimit': 0.29556650246305416, 'AnalysisName': 'ATLAS-CONF-2013-062', 'AnalysisSqrts': 8, 'MotherMass': 0.0}, {'maxcond': 0.0, 'tval': 0.0026019900497512437, 'AnalysisTopo': [], 'DaughterMass': 0.0, 'exptlimit': 0.3333333333333333, 'AnalysisName': 'ATLAS-CONF-2013-061', 'AnalysisSqrts': 8, 'MotherMass': 0.0}, {'maxcond': 0.0, 'tval': 0.10239901477832512, 'AnalysisTopo': [], 'DaughterMass': 0.0, 'exptlimit': 4.0, 'AnalysisName': 'ATLAS-CONF-2013-047', 'AnalysisSqrts': 8, 'MotherMass': 0.0}, {'maxcond': 0.0, 'tval': 4.926108374384236e-06, 'AnalysisTopo': [], 'DaughterMass': 0.0, 'exptlimit': 0.21674876847290642, 'AnalysisName': 'ATLAS-CONF-2013-093', 'AnalysisSqrts': 8, 'MotherMass': 0.0}]\n",
      " and\n",
      "   [{'maxcond': 0.0, 'tval': 0.0034097560975609757, 'AnalysisTopo': [], 'DaughterMass': 0.0, 'exptlimit': 0.1902439024390244, 'AnalysisName': 'ATLAS-CONF-2013-024', 'AnalysisSqrts': 8, 'MotherMass': 0.0}, {'maxcond': 0.0, 'tval': 0.0003596059113300493, 'AnalysisTopo': [], 'DaughterMass': 0.0, 'exptlimit': 1.1330049261083743, 'AnalysisName': 'ATLAS-CONF-2013-054', 'AnalysisSqrts': 8, 'MotherMass': 0.0}, {'maxcond': 0.0, 'tval': 0.06402487562189053, 'AnalysisTopo': [], 'DaughterMass': 0.0, 'exptlimit': 0.3731343283582089, 'AnalysisName': 'ATLAS-CONF-2013-053', 'AnalysisSqrts': 8, 'MotherMass': 0.0}, {'maxcond': 0.0, 'tval': 0.00013043478260869567, 'AnalysisTopo': [], 'DaughterMass': 0.0, 'exptlimit': 0.4106280193236715, 'AnalysisName': 'ATLAS-CONF-2013-037', 'AnalysisSqrts': 8, 'MotherMass': 0.0}, {'maxcond': 0.0, 'tval': 3.4482758620689657e-05, 'AnalysisTopo': [], 'DaughterMass': 0.0, 'exptlimit': 0.22999999999999998, 'AnalysisName': 'ATLAS-CONF-2013-048', 'AnalysisSqrts': 8, 'MotherMass': 0.0}, {'maxcond': 0.0, 'tval': 5.41871921182266e-05, 'AnalysisTopo': [], 'DaughterMass': 0.0, 'exptlimit': 0.29556650246305416, 'AnalysisName': 'ATLAS-CONF-2013-062', 'AnalysisSqrts': 8, 'MotherMass': 0.0}, {'maxcond': 0.0, 'tval': 0.003646766169154229, 'AnalysisTopo': [], 'DaughterMass': 0.0, 'exptlimit': 0.22885572139303478, 'AnalysisName': 'ATLAS-CONF-2013-061', 'AnalysisSqrts': 8, 'MotherMass': 0.0}, {'maxcond': 0.0, 'tval': 0.10239901477832512, 'AnalysisTopo': [], 'DaughterMass': 0.0, 'exptlimit': 4.0, 'AnalysisName': 'ATLAS-CONF-2013-047', 'AnalysisSqrts': 8, 'MotherMass': 0.0}, {'maxcond': 0.0, 'tval': 4.926108374384236e-06, 'AnalysisTopo': [], 'DaughterMass': 0.0, 'exptlimit': 0.21674876847290642, 'AnalysisName': 'ATLAS-CONF-2013-093', 'AnalysisSqrts': 8, 'MotherMass': 0.0}]\n",
      "INFO:fastlimOutput:Objects differ:\n",
      "   0.00485853658537\n",
      " and\n",
      "   0.00770731707317\n",
      "INFO:fastlimOutput:Objects differ:\n",
      "   {'maxcond': 0.0, 'tval': 0.004858536585365853, 'AnalysisTopo': [], 'DaughterMass': 0.0, 'exptlimit': 0.1902439024390244, 'AnalysisName': 'ATLAS-CONF-2013-024', 'AnalysisSqrts': 8, 'MotherMass': 0.0} \n",
      " and\n",
      "   {'maxcond': 0.0, 'tval': 0.007707317073170732, 'AnalysisTopo': [], 'DaughterMass': 0.0, 'exptlimit': 0.4878048780487805, 'AnalysisName': 'ATLAS-CONF-2013-024', 'AnalysisSqrts': 8, 'MotherMass': 0.0}\n",
      "INFO:fastlimOutput:Objects differ:\n",
      "   [{'maxcond': 0.0, 'tval': 0.004858536585365853, 'AnalysisTopo': [], 'DaughterMass': 0.0, 'exptlimit': 0.1902439024390244, 'AnalysisName': 'ATLAS-CONF-2013-024', 'AnalysisSqrts': 8, 'MotherMass': 0.0}, {'maxcond': 0.0, 'tval': 0.002738916256157635, 'AnalysisTopo': [], 'DaughterMass': 0.0, 'exptlimit': 0.9852216748768473, 'AnalysisName': 'ATLAS-CONF-2013-054', 'AnalysisSqrts': 8, 'MotherMass': 0.0}, {'maxcond': 0.0, 'tval': 0.0003980099502487562, 'AnalysisTopo': [], 'DaughterMass': 0.0, 'exptlimit': 0.4477611940298507, 'AnalysisName': 'ATLAS-CONF-2013-053', 'AnalysisSqrts': 8, 'MotherMass': 0.0}, {'maxcond': 0.0, 'tval': 0.02139130434782609, 'AnalysisTopo': [], 'DaughterMass': 0.0, 'exptlimit': 4.019323671497585, 'AnalysisName': 'ATLAS-CONF-2013-037', 'AnalysisSqrts': 8, 'MotherMass': 0.0}, {'maxcond': 0.0, 'tval': 1.4778325123152708e-05, 'AnalysisTopo': [], 'DaughterMass': 0.0, 'exptlimit': 0.35000000000000003, 'AnalysisName': 'ATLAS-CONF-2013-049', 'AnalysisSqrts': 8, 'MotherMass': 0.0}, {'maxcond': 0.0, 'tval': 0.0026748768472906405, 'AnalysisTopo': [], 'DaughterMass': 0.0, 'exptlimit': 2.5, 'AnalysisName': 'ATLAS-CONF-2013-048', 'AnalysisSqrts': 8, 'MotherMass': 0.0}, {'maxcond': 0.0, 'tval': 0.0015123152709359607, 'AnalysisTopo': [], 'DaughterMass': 0.0, 'exptlimit': 0.14778325123152708, 'AnalysisName': 'ATLAS-CONF-2013-062', 'AnalysisSqrts': 8, 'MotherMass': 0.0}, {'maxcond': 0.0, 'tval': 0.0023134328358208954, 'AnalysisTopo': [], 'DaughterMass': 0.0, 'exptlimit': 0.19402985074626863, 'AnalysisName': 'ATLAS-CONF-2013-061', 'AnalysisSqrts': 8, 'MotherMass': 0.0}, {'maxcond': 0.0, 'tval': 0.0038423645320197044, 'AnalysisTopo': [], 'DaughterMass': 0.0, 'exptlimit': 0.4088669950738916, 'AnalysisName': 'ATLAS-CONF-2013-047', 'AnalysisSqrts': 8, 'MotherMass': 0.0}, {'maxcond': 0.0, 'tval': 0.00022660098522167486, 'AnalysisTopo': [], 'DaughterMass': 0.0, 'exptlimit': 0.21674876847290642, 'AnalysisName': 'ATLAS-CONF-2013-093', 'AnalysisSqrts': 8, 'MotherMass': 0.0}]\n",
      " and\n",
      "   [{'maxcond': 0.0, 'tval': 0.007707317073170732, 'AnalysisTopo': [], 'DaughterMass': 0.0, 'exptlimit': 0.4878048780487805, 'AnalysisName': 'ATLAS-CONF-2013-024', 'AnalysisSqrts': 8, 'MotherMass': 0.0}, {'maxcond': 0.0, 'tval': 0.0006748768472906404, 'AnalysisTopo': [], 'DaughterMass': 0.0, 'exptlimit': 0.29556650246305416, 'AnalysisName': 'ATLAS-CONF-2013-054', 'AnalysisSqrts': 8, 'MotherMass': 0.0}, {'maxcond': 0.0, 'tval': 0.0007810945273631839, 'AnalysisTopo': [], 'DaughterMass': 0.0, 'exptlimit': 1.8905472636815919, 'AnalysisName': 'ATLAS-CONF-2013-053', 'AnalysisSqrts': 8, 'MotherMass': 0.0}, {'maxcond': 0.0, 'tval': 0.02139130434782609, 'AnalysisTopo': [], 'DaughterMass': 0.0, 'exptlimit': 4.019323671497585, 'AnalysisName': 'ATLAS-CONF-2013-037', 'AnalysisSqrts': 8, 'MotherMass': 0.0}, {'maxcond': 0.0, 'tval': 2.463054187192118e-05, 'AnalysisTopo': [], 'DaughterMass': 0.0, 'exptlimit': 0.51, 'AnalysisName': 'ATLAS-CONF-2013-049', 'AnalysisSqrts': 8, 'MotherMass': 0.0}, {'maxcond': 0.0, 'tval': 0.0017881773399014778, 'AnalysisTopo': [], 'DaughterMass': 0.0, 'exptlimit': 0.22999999999999998, 'AnalysisName': 'ATLAS-CONF-2013-048', 'AnalysisSqrts': 8, 'MotherMass': 0.0}, {'maxcond': 0.0, 'tval': 0.0015123152709359607, 'AnalysisTopo': [], 'DaughterMass': 0.0, 'exptlimit': 0.14778325123152708, 'AnalysisName': 'ATLAS-CONF-2013-062', 'AnalysisSqrts': 8, 'MotherMass': 0.0}, {'maxcond': 0.0, 'tval': 0.0023134328358208954, 'AnalysisTopo': [], 'DaughterMass': 0.0, 'exptlimit': 0.19402985074626863, 'AnalysisName': 'ATLAS-CONF-2013-061', 'AnalysisSqrts': 8, 'MotherMass': 0.0}, {'maxcond': 0.0, 'tval': 0.0038423645320197044, 'AnalysisTopo': [], 'DaughterMass': 0.0, 'exptlimit': 0.4088669950738916, 'AnalysisName': 'ATLAS-CONF-2013-047', 'AnalysisSqrts': 8, 'MotherMass': 0.0}, {'maxcond': 0.0, 'tval': 0.00022660098522167486, 'AnalysisTopo': [], 'DaughterMass': 0.0, 'exptlimit': 0.21674876847290642, 'AnalysisName': 'ATLAS-CONF-2013-093', 'AnalysisSqrts': 8, 'MotherMass': 0.0}]\n"
     ]
    },
    {
     "name": "stdout",
     "output_type": "stream",
     "text": [
      "False\n",
      "False\n"
     ]
    }
   ],
   "source": [
    "\"\"\"Check the output of two files\"\"\"\n",
    "assert len(result) == len(glob.glob(slhaDir+\"*.slha\"))\n",
    "for fname,defaultDict in expectedRes.items():\n",
    "    f = open(slhaDir + fname,'r')\n",
    "    resDict = eval(f.read())\n",
    "    f.close()\n",
    "    print equalObjs(defaultDict,resDict,0.01)    \n",
    "#    assert equalObjs(defaultDict,resDict,0.01) == True"
   ]
  },
  {
   "cell_type": "code",
   "execution_count": null,
   "metadata": {
    "collapsed": true
   },
   "outputs": [],
   "source": []
  }
 ],
 "metadata": {
  "kernelspec": {
   "display_name": "Python 2",
   "language": "python",
   "name": "python2"
  },
  "language_info": {
   "codemirror_mode": {
    "name": "ipython",
    "version": 2
   },
   "file_extension": ".py",
   "mimetype": "text/x-python",
   "name": "python",
   "nbconvert_exporter": "python",
   "pygments_lexer": "ipython2",
   "version": "2.7.9"
  }
 },
 "nbformat": 4,
 "nbformat_minor": 0
}
