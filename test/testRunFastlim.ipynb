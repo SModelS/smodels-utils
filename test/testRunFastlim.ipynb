{
 "cells": [
  {
   "cell_type": "markdown",
   "metadata": {},
   "source": [
    "### How to run Fastlim"
   ]
  },
  {
   "cell_type": "code",
   "execution_count": 1,
   "metadata": {
    "collapsed": false
   },
   "outputs": [],
   "source": [
    "\"\"\"setup - Import some smodels tools to deal with fastlim\"\"\"\n",
    "import sys,os\n",
    "sys.path.append('../fastlim_tools/runTools')\n",
    "home = os.path.expanduser(\"~\")\n",
    "sys.path.append(os.path.join(home,'smodels'))\n",
    "from smodels.tools.physicsUnits import fb\n",
    "from gridFastlim import runFastlim, prepareSLHA\n",
    "from fastlimParser import fastlimParser\n",
    "from numpy.testing import assert_almost_equal\n",
    "\n",
    "slhafile = os.path.join(os.getcwd(),'slhaFiles/gluino_squarks.slha')\n",
    "outfile = 'fastlimtest.out'\n",
    "fastlimdir = os.path.join(os.getcwd(),'../fastlim_tools/fastlim-1.0/')"
   ]
  },
  {
   "cell_type": "code",
   "execution_count": 2,
   "metadata": {
    "collapsed": false
   },
   "outputs": [],
   "source": [
    "\"\"\"Run Fastlim and check if the run was successful\"\"\"\n",
    "#If the SLHA file contains XSECTION blocks or missing decay blocks, prepare the file for Fastlim:\n",
    "newfile = 'test.slha'\n",
    "prep = prepareSLHA(slhafile,newfile)\n",
    "run = runFastlim(newfile,outfile,fastlimdir)\n",
    "os.remove(newfile)\n",
    "assert prep == True\n",
    "assert run == True"
   ]
  },
  {
   "cell_type": "code",
   "execution_count": 3,
   "metadata": {
    "collapsed": false
   },
   "outputs": [
    {
     "name": "stdout",
     "output_type": "stream",
     "text": [
      "analysis: ATLAS-CONF-2013-024 \n",
      "  theory =  1.63E-03 [fb] \n",
      "  UL =  1.76E-01 [fb] \n",
      "  R =  9.31E-03 \n",
      "analysis: ATLAS-CONF-2013-054 \n",
      "  theory =  5.34E-03 [fb] \n",
      "  UL =  4.93E-01 [fb] \n",
      "  R =  1.08E-02 \n",
      "analysis: ATLAS-CONF-2013-053 \n",
      "  theory =  2.49E-05 [fb] \n",
      "  UL =  3.73E-01 [fb] \n",
      "  R =  6.67E-05 \n",
      "analysis: ATLAS-CONF-2013-037 \n",
      "  theory =  7.54E-04 [fb] \n",
      "  UL =  3.67E-01 [fb] \n",
      "  R =  2.05E-03 \n",
      "analysis: ATLAS-CONF-2013-048 \n",
      "  theory =  1.43E-04 [fb] \n",
      "  UL =  2.70E-01 [fb] \n",
      "  R =  5.29E-04 \n",
      "analysis: ATLAS-CONF-2013-062 \n",
      "  theory =  8.82E-04 [fb] \n",
      "  UL =  1.48E-01 [fb] \n",
      "  R =  5.97E-03 \n",
      "analysis: ATLAS-CONF-2013-061 \n",
      "  theory =  8.46E-04 [fb] \n",
      "  UL =  2.29E-01 [fb] \n",
      "  R =  3.70E-03 \n",
      "analysis: ATLAS-CONF-2013-047 \n",
      "  theory =  4.35E-02 [fb] \n",
      "  UL =  7.64E-01 [fb] \n",
      "  R =  5.70E-02 \n"
     ]
    }
   ],
   "source": [
    "\"\"\"setup - Convert the output to SModelS format and print output\"\"\"\n",
    "predictions = fastlimParser(outfile,useBestDataset=True)\n",
    "predictionsDict = {}\n",
    "for pred in predictions:\n",
    "    expRes = pred.expResult\n",
    "    dataset = pred.dataset\n",
    "    datasetID = dataset.dataInfo.dataId\n",
    "    upperLimit = expRes.getUpperLimitFor(dataID=datasetID)\n",
    "    predictionsDict[expRes.getValuesFor('id')[0]] = [pred.value[0].value.asNumber(fb),upperLimit.asNumber(fb)]\n",
    "    print 'analysis:',expRes.getValuesFor('id')[0],'\\n  theory = ',pred.value[0].value,'\\n  UL = ',upperLimit,'\\n  R = ',pred.value[0].value/upperLimit"
   ]
  },
  {
   "cell_type": "markdown",
   "metadata": {},
   "source": [
    "##### Verify the output"
   ]
  },
  {
   "cell_type": "code",
   "execution_count": 4,
   "metadata": {
    "collapsed": false
   },
   "outputs": [],
   "source": [
    "\"\"\"Define expected output\"\"\"\n",
    "expectPredictions = {'ATLAS-CONF-2013-024': [1.63E-03,1.76E-01], 'ATLAS-CONF-2013-054': [5.34E-03,4.93E-01], \n",
    "                     'ATLAS-CONF-2013-053': [2.49E-05,3.73E-01], 'ATLAS-CONF-2013-037': [7.54E-04,3.67E-01],\n",
    "                     'ATLAS-CONF-2013-048': [1.43E-04,2.70E-01], 'ATLAS-CONF-2013-062': [8.82E-04,1.48E-01],\n",
    "                     'ATLAS-CONF-2013-061': [8.46E-04,2.29E-01], 'ATLAS-CONF-2013-047': [4.35E-02,7.64E-01]}\n",
    "for pred in predictionsDict:\n",
    "    assert_almost_equal(predictionsDict[pred],expectPredictions[pred],decimal=3)"
   ]
  },
  {
   "cell_type": "code",
   "execution_count": null,
   "metadata": {
    "collapsed": true
   },
   "outputs": [],
   "source": []
  }
 ],
 "metadata": {
  "kernelspec": {
   "display_name": "Python 2",
   "language": "python",
   "name": "python2"
  },
  "language_info": {
   "codemirror_mode": {
    "name": "ipython",
    "version": 2
   },
   "file_extension": ".py",
   "mimetype": "text/x-python",
   "name": "python",
   "nbconvert_exporter": "python",
   "pygments_lexer": "ipython2",
   "version": "2.7.9"
  }
 },
 "nbformat": 4,
 "nbformat_minor": 0
}
