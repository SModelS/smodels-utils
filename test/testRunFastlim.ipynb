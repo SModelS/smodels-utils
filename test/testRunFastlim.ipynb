{
 "cells": [
  {
   "cell_type": "markdown",
   "metadata": {},
   "source": [
    "### How to run Fastlim"
   ]
  },
  {
   "cell_type": "code",
   "execution_count": 1,
   "metadata": {
    "collapsed": false
   },
   "outputs": [],
   "source": [
    "\"\"\"setup - Import some smodels tools to deal with fastlim\"\"\"\n",
    "import sys,os\n",
    "sys.path.append('../fastlim_tools/runTools')\n",
    "home = os.path.expanduser(\"~\")\n",
    "sys.path.append(os.path.join(home,'smodels'))\n",
    "from smodels.tools.physicsUnits import fb\n",
    "from gridFastlim import runFastlim, prepareSLHA\n",
    "from fastlimParser import fastlimParser\n",
    "from numpy.testing import assert_almost_equal\n",
    "from collections import OrderedDict\n",
    "\n",
    "slhafile = os.path.join(os.getcwd(),'slhaFiles/gluino_squarks.slha')\n",
    "outfile = os.path.join(os.getcwd(),'test.sms')\n",
    "fastlimdir = os.path.join(os.getcwd(),'../fastlim_tools/fastlim-1.0/')"
   ]
  },
  {
   "cell_type": "code",
   "execution_count": 7,
   "metadata": {
    "collapsed": false
   },
   "outputs": [],
   "source": [
    "\"\"\"Run Fastlim and check if the run was successful\"\"\"\n",
    "run = runFastlim(slhafile,outfile,fastlimdir)\n",
    "assert run == True"
   ]
  },
  {
   "cell_type": "code",
   "execution_count": 8,
   "metadata": {
    "collapsed": false
   },
   "outputs": [
    {
     "name": "stdout",
     "output_type": "stream",
     "text": [
      "{'ATLAS-CONF-2013-048': [0.00014285714285714284, 0.26999999999999996], 'ATLAS-CONF-2013-047': [0.043527093596059115, 0.7635467980295566], 'ATLAS-CONF-2013-061': [0.000845771144278607, 0.22885572139303478], 'ATLAS-CONF-2013-053': [2.4875621890547263e-05, 0.3731343283582089], 'ATLAS-CONF-2013-054': [0.005339901477832512, 0.49261083743842365], 'ATLAS-CONF-2013-062': [0.0008817733990147782, 0.14778325123152708], 'ATLAS-CONF-2013-037': [0.0007536231884057971, 0.3671497584541063], 'ATLAS-CONF-2013-024': [0.0016341463414634148, 0.175609756097561]}\n"
     ]
    }
   ],
   "source": [
    "\"\"\"setup - Convert the output to SModelS format and print output\"\"\"\n",
    "outdata = open(outfile,'r')\n",
    "predictionsDict = eval(outdata.read().replace('\\n',''))['ExptRes']\n",
    "outdata.close()\n",
    "os.remove(outfile)\n",
    "resDict = {}\n",
    "for res in predictionsDict:\n",
    "    resDict[res['AnalysisName']] = [res['tval'],res['exptlimit']]"
   ]
  },
  {
   "cell_type": "markdown",
   "metadata": {},
   "source": [
    "##### Verify the output"
   ]
  },
  {
   "cell_type": "code",
   "execution_count": 14,
   "metadata": {
    "collapsed": false
   },
   "outputs": [],
   "source": [
    "\"\"\"Define expected output\"\"\"\n",
    "expectPredictions = {'ATLAS-CONF-2013-024': [1.63E-03,1.76E-01], 'ATLAS-CONF-2013-054': [5.34E-03,4.93E-01], \n",
    "                     'ATLAS-CONF-2013-053': [2.49E-05,3.73E-01], 'ATLAS-CONF-2013-037': [7.54E-04,3.67E-01],\n",
    "                     'ATLAS-CONF-2013-048': [1.43E-04,2.70E-01], 'ATLAS-CONF-2013-062': [8.82E-04,1.48E-01],\n",
    "                     'ATLAS-CONF-2013-061': [8.46E-04,2.29E-01], 'ATLAS-CONF-2013-047': [4.35E-02,7.64E-01]}\n",
    "for pred in resDict:\n",
    "    assert_almost_equal(resDict[pred],expectPredictions[pred],decimal=3)"
   ]
  }
 ],
 "metadata": {
  "kernelspec": {
   "display_name": "Python 2",
   "language": "python",
   "name": "python2"
  },
  "language_info": {
   "codemirror_mode": {
    "name": "ipython",
    "version": 2
   },
   "file_extension": ".py",
   "mimetype": "text/x-python",
   "name": "python",
   "nbconvert_exporter": "python",
   "pygments_lexer": "ipython2",
   "version": "2.7.9"
  }
 },
 "nbformat": 4,
 "nbformat_minor": 0
}
