{
 "cells": [
  {
   "cell_type": "markdown",
   "id": "093d035b-e8f9-406b-9c8c-ce48b776c05a",
   "metadata": {},
   "source": [
    "### This notebook computes the conservatism, i.e. the average overestimation of the systematic errors\n",
    "### of the ATLAS and CMS results in the SModelS database"
   ]
  },
  {
   "cell_type": "code",
   "execution_count": 1,
   "id": "324aa387-eb17-4e35-b83b-e02272ed0ee6",
   "metadata": {},
   "outputs": [],
   "source": [
    "# the most important parameters\n",
    "dictfile = \"../../protomodels/historic_database_stats/310.dict\"\n",
    "dropThese = [ \"CMS-EXO-20-004\", \"ATLAS-EXOT-2018-06\", \"CMS-SUS-20-004\", \"ATLAS-SUSY-2018-16-hino\", \"ATLAS-SUSY-2018-16\" ]\n",
    "plot_prefix=\"/tmp/plots/\"\n",
    "ntoys = 100000 # 25000"
   ]
  },
  {
   "cell_type": "code",
   "execution_count": 2,
   "id": "patent-yemen",
   "metadata": {},
   "outputs": [],
   "source": [
    "import scipy.stats\n",
    "import numpy as np\n",
    "import matplotlib.pyplot as plt\n",
    "from tabulate import tabulate\n",
    "from functools import reduce\n",
    "import math"
   ]
  },
  {
   "cell_type": "code",
   "execution_count": 3,
   "id": "9d218209-1325-4459-8332-736b9b1ce177",
   "metadata": {},
   "outputs": [],
   "source": [
    "import sys\n",
    "sys.path.insert(0,\"../../protomodels/\")\n",
    "import os\n",
    "\n",
    "if plot_prefix not in [ \"\", \"./\" ] and not os.path.exists ( plot_prefix ):\n",
    "    os.mkdir ( plot_prefix )"
   ]
  },
  {
   "cell_type": "code",
   "execution_count": 4,
   "id": "fbccfaa9-a31c-4b6a-afeb-b0153655e427",
   "metadata": {},
   "outputs": [],
   "source": [
    "def filterMe ( dataId, values ):\n",
    "    # we drop the monojets, and the electroweakinos, as they might see new physics\n",
    "    for dropThis in dropThese:\n",
    "        if dropThis in dataId:\n",
    "            return False\n",
    "    return True"
   ]
  },
  {
   "cell_type": "code",
   "execution_count": 5,
   "id": "b0dc26ea-ee6d-40b5-ae60-a590e808231f",
   "metadata": {},
   "outputs": [],
   "source": [
    "def in_jupyter_notebook():\n",
    "    try:\n",
    "        from IPython import get_ipython\n",
    "        shell = get_ipython().__class__.__name__\n",
    "        if shell == 'ZMQInteractiveShell':\n",
    "            return True   # Jupyter notebook or qtconsole\n",
    "        elif shell == 'TerminalInteractiveShell':\n",
    "            return False  # Terminal running IPython\n",
    "        else:\n",
    "            return False  # Other type (maybe Spyder, etc.)\n",
    "    except (NameError, ImportError):\n",
    "        return False      # Not in IPython at all"
   ]
  },
  {
   "cell_type": "code",
   "execution_count": 6,
   "id": "ac180b36-4d07-4ac2-987b-186ee15aef50",
   "metadata": {},
   "outputs": [],
   "source": [
    "def savefig ( outname : str ):\n",
    "    if in_jupyter_notebook():\n",
    "        return\n",
    "    # ignore when in jupyter mode, else save figure\n",
    "    plt.savefig ( f\"{plot_prefix}{outname}\" )\n",
    "\n",
    "\n",
    "def show():\n",
    "    if not in_jupyter_notebook():\n",
    "        plt.clf()\n",
    "        return\n",
    "    plt.show()"
   ]
  },
  {
   "cell_type": "code",
   "execution_count": 7,
   "id": "6951f6bc-e9bc-4ffa-9c6e-e7e727430890",
   "metadata": {},
   "outputs": [],
   "source": [
    "from multiverse.expResModifier import readDatabaseDictFile\n",
    "d = readDatabaseDictFile ( dictfile, filterMe )\n",
    "    \n",
    "header, data = d[\"meta\"], d[\"data\"]   \n",
    "#print(header)"
   ]
  },
  {
   "cell_type": "code",
   "execution_count": 8,
   "id": "33912a42-9528-4d62-a61c-c830dee0a3e5",
   "metadata": {},
   "outputs": [
    {
     "name": "stdout",
     "output_type": "stream",
     "text": [
      "799 signal regions will be considered\n"
     ]
    }
   ],
   "source": [
    "print ( f\"{len(data)} signal regions will be considered\" )"
   ]
  },
  {
   "cell_type": "code",
   "execution_count": 9,
   "id": "f202fc3e-f127-4ca9-9088-fe046b6ddb65",
   "metadata": {},
   "outputs": [],
   "source": [
    "d = {8:{},13:{}}\n",
    "\n",
    "params = [\"origN\",\"expectedBG\",\"bgError\",\"orig_Z\",\"new_Z\",\"newObs\"]\n",
    "for key in data.keys():\n",
    "    if \":ul:\" in key:\n",
    "        continue\n",
    "    if \"CMS-EXO-20-004\" in key: # skip CMS-EXO-20-004\n",
    "        continue\n",
    "    labels = [ \"CMS\", \"ATLAS\", \"SUSY\", \"SUS\", \"PAS\", \"EXOT\", \"EXO\", \"CONF\" ]\n",
    "    t = key\n",
    "    for label in labels:\n",
    "        t = t.replace( f\"{label}-\",\"\")\n",
    "    t = t[:t.find(\"-\")]\n",
    "    t = int(t) % 2000\n",
    "    if t < 15: \n",
    "        energy = 8\n",
    "    else: \n",
    "        energy = 13\n",
    "    d[energy][key] = {}\n",
    "    for i in params:\n",
    "        d[energy][key][i] = data[key][i]"
   ]
  },
  {
   "cell_type": "code",
   "execution_count": 10,
   "id": "shared-secretary",
   "metadata": {},
   "outputs": [],
   "source": [
    "def calc_p(data,fudge,typ):\n",
    "    p = {8:{\"id\":[],\"p\":[]}, 13:{\"id\":[],\"p\":[]}}\n",
    "    min_events = 3.5\n",
    "    if typ == \"gauss\":\n",
    "        for key in data.keys():\n",
    "            for anaID in data[key].keys():\n",
    "                obs = data[key][anaID][\"origN\"]\n",
    "                bg = data[key][anaID][\"expectedBG\"]\n",
    "                bgerr = fudge*data[key][anaID][\"bgError\"]\n",
    "                if bg > min_events:\n",
    "                    central = bg\n",
    "                    lmbda = scipy.stats.norm.rvs ( loc=[central]*ntoys, scale=[bgerr]*ntoys )\n",
    "                    lmbda = lmbda[lmbda>0.]\n",
    "                    fakeobs = scipy.stats.poisson.rvs ( lmbda )\n",
    "                    p[key][\"id\"].append(anaID)\n",
    "                    #p[key][\"p\"].append(sum(fakeobs>obs) / len(fakeobs))\n",
    "                    p[key][\"p\"].append((sum(fakeobs>obs) + .5*sum(fakeobs==obs)) / len(fakeobs))\n",
    "                \n",
    "    if typ == \"lognorm\":\n",
    "        for key in data.keys():\n",
    "            for anaID in data[key].keys():\n",
    "                obs = data[key][anaID][\"origN\"]\n",
    "                bg = data[key][anaID][\"expectedBG\"]\n",
    "                bgerr = fudge*data[key][anaID][\"bgError\"]\n",
    "                if bg > min_events:\n",
    "                    central = bg\n",
    "                    loc = central**2 / np.sqrt ( central**2 + bgerr**2 )\n",
    "                    stderr = np.sqrt ( np.log ( 1 + bgerr**2 / central**2 ) )\n",
    "                    lmbda = scipy.stats.lognorm.rvs ( s=[stderr]*ntoys, scale=[loc]*ntoys )\n",
    "                    fakeobs = scipy.stats.poisson.rvs ( lmbda )\n",
    "                    p[key][\"id\"].append(anaID)\n",
    "                    p[key][\"p\"].append(sum(fakeobs>obs) / len(fakeobs))\n",
    "    return p\n",
    "\n",
    "def calc_T(p,bns):\n",
    "    n_bns = len(bns) - 1\n",
    "    pj = 1/n_bns\n",
    "    size = len(p)\n",
    "    counts = [0]*n_bns\n",
    "    for i in p:\n",
    "        for j in range(n_bns):\n",
    "            if i>bns[j] and i<bns[j+1]:\n",
    "                counts[j] += 1\n",
    "    return sum(((i - size*pj)**2) / (size*pj) for i in counts)\n",
    "\n",
    "def calc_Tabove(p,bns):\n",
    "    n_bns = int((len(bns) - 1) / 2)\n",
    "    pj = 1/n_bns\n",
    "    p = [i for i in p if i>0.5]\n",
    "    size = len(p)\n",
    "    counts = [0]*n_bns\n",
    "    for i in p:\n",
    "        for j in range(int((len(bns)-1)/2),int(len(bns)-1)):\n",
    "            tmp = j - int((len(bns)-1)/2)\n",
    "            if i>bns[j] and i<bns[j+1]:\n",
    "                counts[tmp] += 1\n",
    "    return sum(((i - size*pj)**2) / (size*pj) for i in counts)"
   ]
  },
  {
   "cell_type": "code",
   "execution_count": 11,
   "id": "forward-friendship",
   "metadata": {},
   "outputs": [
    {
     "data": {
      "image/png": "[encoded data removed]",
      "text/plain": [
       "<Figure size 640x480 with 1 Axes>"
      ]
     },
     "metadata": {},
     "output_type": "display_data"
    }
   ],
   "source": [
    "n_bins = 10\n",
    "bns = np.linspace(0,1,n_bins+1)\n",
    "\n",
    "p = calc_p(d,fudge=1.,typ=\"gauss\")\n",
    "\n",
    "plt.hist([p[8][\"p\"],p[13][\"p\"]],bins=bns,stacked=True,label=[\"8 TeV\",\"13 TeV\"])\n",
    "plt.title(\"gauss + poisson\")\n",
    "plt.xlabel('p-values')\n",
    "plt.ylabel('# of signal regions')\n",
    "plt.legend()\n",
    "savefig ( \"gauss_poisson.png\" )\n",
    "show()\n",
    "\n",
    "p_values = p[8][\"p\"].copy()\n",
    "p_values.extend(p[13][\"p\"])"
   ]
  },
  {
   "cell_type": "code",
   "execution_count": 12,
   "id": "assured-cannon",
   "metadata": {},
   "outputs": [
    {
     "data": {
      "image/png": "[encoded data removed]",
      "text/plain": [
       "<Figure size 640x480 with 1 Axes>"
      ]
     },
     "metadata": {},
     "output_type": "display_data"
    }
   ],
   "source": [
    "p = calc_p(d,fudge=1.,typ=\"lognorm\")\n",
    "\n",
    "plt.hist([p[8][\"p\"],p[13][\"p\"]],bins=bns,stacked=True,label=[\"8 TeV\",\"13 TeV\"])\n",
    "plt.title(\"lognorm + poisson\")\n",
    "plt.xlabel('p-values')\n",
    "plt.ylabel('# of signal regions')\n",
    "plt.legend()\n",
    "savefig ( \"lognorm_poisson.png\" )\n",
    "show()\n",
    "\n",
    "p_values = p[8][\"p\"].copy()\n",
    "p_values.extend(p[13][\"p\"])"
   ]
  },
  {
   "cell_type": "code",
   "execution_count": 13,
   "id": "former-newman",
   "metadata": {},
   "outputs": [],
   "source": [
    "pfake_gauss = []\n",
    "n = 25000\n",
    "\n",
    "for key in d.keys():\n",
    "    for anaID in d[key].keys():\n",
    "        newObs = d[key][anaID][\"newObs\"]\n",
    "        bg = d[key][anaID][\"expectedBG\"]\n",
    "        bgerr = d[key][anaID][\"bgError\"]\n",
    "        fakeS = d[key][anaID][\"new_Z\"]\n",
    "        if bg > 3.5:\n",
    "            lmbda = scipy.stats.norm.rvs ( loc=bg, scale=bgerr, size = n )\n",
    "            lmbda = lmbda[lmbda>0.]\n",
    "            fakeobs = scipy.stats.poisson.rvs ( lmbda )\n",
    "            pfake_gauss.append(sum(fakeobs>newObs) / len(fakeobs))\n",
    "            pfake_gauss.append(scipy.stats.norm.cdf(fakeS))"
   ]
  },
  {
   "cell_type": "code",
   "execution_count": 14,
   "id": "charitable-strengthening",
   "metadata": {},
   "outputs": [
    {
     "data": {
      "image/png": "[encoded data removed]",
      "text/plain": [
       "<Figure size 640x480 with 1 Axes>"
      ]
     },
     "metadata": {},
     "output_type": "display_data"
    }
   ],
   "source": [
    "plt.hist(p_values,weights=[2]*len(p_values),bins=bns,label=\"real, gauss\")\n",
    "plt.hist(pfake_gauss,bins=bns,color=\"r\",histtype=\"step\",lw=3,label=\"fake, gauss\")\n",
    "plt.xlabel('p-values')\n",
    "plt.ylabel('# of signal regions')\n",
    "plt.legend()\n",
    "savefig ( \"pvalues.png\" )\n",
    "show()"
   ]
  },
  {
   "cell_type": "code",
   "execution_count": 15,
   "id": "olive-tourist",
   "metadata": {},
   "outputs": [],
   "source": [
    "pfake_lognorm = []\n",
    "n = 25000\n",
    "\n",
    "for key in d.keys():\n",
    "    for anaID in d[key].keys():\n",
    "        newObs = d[key][anaID][\"newObs\"]\n",
    "        bg = d[key][anaID][\"expectedBG\"]\n",
    "        bgerr = d[key][anaID][\"bgError\"]\n",
    "        fakeS = d[key][anaID][\"new_Z\"]\n",
    "        if bg > 3.5:\n",
    "            central = bg\n",
    "            loc = central**2 / np.sqrt ( central**2 + bgerr**2 )\n",
    "            stderr = np.sqrt ( np.log ( 1 + bgerr**2 / central**2 ) )\n",
    "            lmbda = scipy.stats.lognorm.rvs ( s=stderr, scale=loc, size=n )\n",
    "            lmbda = lmbda[lmbda>0.]\n",
    "            fakeobs = scipy.stats.poisson.rvs ( lmbda )\n",
    "            pfake_lognorm.append(sum(fakeobs>newObs) / len(fakeobs))\n",
    "            pfake_lognorm.append(scipy.stats.norm.cdf(fakeS))"
   ]
  },
  {
   "cell_type": "code",
   "execution_count": 16,
   "id": "attached-pacific",
   "metadata": {},
   "outputs": [
    {
     "data": {
      "image/png": "[encoded data removed]",
      "text/plain": [
       "<Figure size 640x480 with 1 Axes>"
      ]
     },
     "metadata": {},
     "output_type": "display_data"
    }
   ],
   "source": [
    "plt.hist(p_values,weights=[2]*len(p_values),bins=bns,label=\"real, lognormal\")\n",
    "plt.hist(pfake_lognorm,bins=bns,color=\"r\",histtype=\"step\",lw=3,label=\"fake, lognorm\")\n",
    "plt.xlabel('p-values')\n",
    "plt.ylabel('# of signal regions')\n",
    "plt.legend()\n",
    "savefig ( \"pvalues_lognorm.png\" )\n",
    "show()"
   ]
  },
  {
   "cell_type": "code",
   "execution_count": 17,
   "id": "advised-express",
   "metadata": {},
   "outputs": [
    {
     "name": "stdout",
     "output_type": "stream",
     "text": [
      "14.683656573259837\n",
      "7.779440339734858\n"
     ]
    }
   ],
   "source": [
    "print(scipy.stats.chi2.ppf(0.90,9))\n",
    "print(scipy.stats.chi2.ppf(0.90,4))"
   ]
  },
  {
   "cell_type": "code",
   "execution_count": 18,
   "id": "appointed-possible",
   "metadata": {},
   "outputs": [],
   "source": [
    "fudge_lst = np.linspace(0,1,20)\n",
    "\n",
    "T_all = []\n",
    "T_8 = []\n",
    "T_13 = []\n",
    "for fudge in fudge_lst:\n",
    "    p = calc_p(d,fudge,typ=\"gauss\")\n",
    "    p_values = p[8][\"p\"].copy()\n",
    "    p_values.extend(p[13][\"p\"])\n",
    "    T_all.append(calc_T(p_values,bns))\n",
    "    T_8.append(calc_T(p[8][\"p\"],bns))\n",
    "    T_13.append(calc_T(p[13][\"p\"],bns))"
   ]
  },
  {
   "cell_type": "code",
   "execution_count": null,
   "id": "expanded-ministry",
   "metadata": {},
   "outputs": [],
   "source": [
    "Tabove_all = []\n",
    "Tabove_8 = []\n",
    "Tabove_13 = []\n",
    "for fudge in fudge_lst:\n",
    "    p = calc_p(d,fudge,typ=\"gauss\")\n",
    "    p_values = p[8][\"p\"].copy()\n",
    "    p_values.extend(p[13][\"p\"])\n",
    "    Tabove_all.append(calc_Tabove(p_values,bns))\n",
    "    Tabove_8.append(calc_Tabove(p[8][\"p\"],bns))\n",
    "    Tabove_13.append(calc_Tabove(p[13][\"p\"],bns))"
   ]
  },
  {
   "cell_type": "code",
   "execution_count": null,
   "id": "considerable-student",
   "metadata": {},
   "outputs": [],
   "source": [
    "plt.plot(fudge_lst, T_all)\n",
    "plt.xlabel('fudge factor')\n",
    "plt.ylabel('T')\n",
    "plt.title(\"T value for 8 TeV + 13 TeV results\")\n",
    "savefig ( \"T_8_13.png\" )\n",
    "show()\n",
    "print(\"minimum: %.3f at %.3f\" %(min(T_all), fudge_lst[np.argmin(T_all)]))\n",
    "\n",
    "fudge = 0.5\n",
    "\n",
    "p = calc_p(d,fudge,typ=\"gauss\")\n",
    "p_values = p[8][\"p\"].copy()\n",
    "p_values.extend(p[13][\"p\"])\n",
    "plt.hist([p[8][\"p\"],p[13][\"p\"]],bins=bns,stacked=True,label=[\"8 TeV\", \"13 TeV\"])\n",
    "plt.title( f\"minimizing T value for 8 TeV + 13 TeV results, fudge = {fudge:.2f}\" )\n",
    "plt.xlabel('p-values')\n",
    "plt.ylabel('# of signal regions')\n",
    "plt.legend()\n",
    "savefig ( \"pvalues_minT_8_13.png\" )\n",
    "show()\n",
    "\n",
    "plt.plot(fudge_lst, Tabove_all)\n",
    "plt.xlabel('fudge factor')\n",
    "plt.ylabel('T above 0.5')\n",
    "plt.title(\"T value above 0.5 for 8 TeV + 13 TeV results\")\n",
    "savefig ( \"T_g05_8_13.png\" )\n",
    "show()\n",
    "print( \"minimum: %.3f at %.3f\" %(min(Tabove_all), fudge_lst[np.argmin(Tabove_all)]))\n",
    "\n",
    "fudge = 0.5\n",
    "\n",
    "p = calc_p(d,fudge,typ=\"gauss\")\n",
    "p_values = p[8][\"p\"].copy()\n",
    "p_values.extend(p[13][\"p\"])\n",
    "plt.hist([p[8][\"p\"],p[13][\"p\"]],bins=bns,stacked=True,label=[\"8 TeV\", \"13 TeV\"])\n",
    "plt.title( f\"minimizing T value above 0.5 for 8 TeV + 13 TeV results, fudge = {fudge:.2f}\" )\n",
    "plt.xlabel('p-values')\n",
    "plt.ylabel('# of signal regions')\n",
    "plt.legend()\n",
    "savefig ( \"pvalues_g05_minT_8_13.png\" )\n",
    "show()\n",
    "\n",
    "print(fudge_lst[np.argmin(T_all)])"
   ]
  },
  {
   "cell_type": "code",
   "execution_count": null,
   "id": "after-clear",
   "metadata": {},
   "outputs": [],
   "source": [
    "fudge_lst = np.linspace(0,1,50)\n",
    "\n",
    "T_8 = []\n",
    "Tabove_8 = []\n",
    "for fudge in fudge_lst:\n",
    "    p = calc_p(d,fudge,typ=\"gauss\")\n",
    "    p_values = p[8][\"p\"].copy()\n",
    "    p_values.extend(p[13][\"p\"])\n",
    "    T_8.append(calc_T(p[8][\"p\"],bns))\n",
    "    Tabove_8.append(calc_Tabove(p[8][\"p\"],bns))\n",
    "    \n",
    "print(\"Done\")"
   ]
  },
  {
   "cell_type": "code",
   "execution_count": null,
   "id": "lesbian-ordering",
   "metadata": {},
   "outputs": [],
   "source": [
    "plt.plot(fudge_lst, T_8)\n",
    "plt.xlabel('fudge factor')\n",
    "plt.ylabel('T')\n",
    "plt.title(\"T value for 8 TeV\")\n",
    "savefig(\"T_8.png\")\n",
    "show()\n",
    "print(\"minimum: %.3f at %.3f\" %(min(T_8), fudge_lst[np.argmin(T_8)]))\n",
    "\n",
    "fudge = 0.5\n",
    "\n",
    "p = calc_p(d,fudge,typ=\"gauss\")\n",
    "p_values = p[8][\"p\"].copy()\n",
    "p_values.extend(p[13][\"p\"])\n",
    "plt.hist([p[8][\"p\"],p[13][\"p\"]],bins=bns,stacked=True,label=[\"8 TeV\", \"13 TeV\"])\n",
    "plt.title( f\"minimizing T value for 8 TeV results, fudge = {fudge:.2f}\" )\n",
    "plt.xlabel('p-values')\n",
    "plt.ylabel('# of signal regions')\n",
    "plt.legend()\n",
    "savefig(\"pvalues_minT_8.png\")\n",
    "show()\n",
    "\n",
    "plt.plot(fudge_lst, Tabove_8)\n",
    "plt.xlabel('fudge factor')\n",
    "plt.ylabel('T above 0.5')\n",
    "plt.title(\"T value above 0.5 for 8 TeV\")\n",
    "savefig(\"T_gt05_8.png\")\n",
    "show()\n",
    "print(\"minimum: %.3f at %.3f\" %(min(Tabove_8), fudge_lst[np.argmin(Tabove_8)]))\n",
    "\n",
    "fudge = 0.5\n",
    "\n",
    "p = calc_p(d,fudge,typ=\"gauss\")\n",
    "p_values = p[8][\"p\"].copy()\n",
    "p_values.extend(p[13][\"p\"])\n",
    "plt.hist([p[8][\"p\"],p[13][\"p\"]],bins=bns,stacked=True,label=[\"8 TeV\", \"13 TeV\"])\n",
    "plt.title( f\"minimizing T value above 0.5 for 8 TeV results, fudge = {fudge:.2f}\" )\n",
    "plt.xlabel('p-values')\n",
    "plt.ylabel('# of signal regions')\n",
    "savefig(\"pvalues_minT_gt05_8.png\")\n",
    "plt.legend()\n",
    "show()"
   ]
  },
  {
   "cell_type": "code",
   "execution_count": null,
   "id": "endangered-examination",
   "metadata": {},
   "outputs": [],
   "source": [
    "fudge_lst = np.linspace(0,1,50)\n",
    "\n",
    "T_13 = []\n",
    "Tabove_13 = []\n",
    "for fudge in fudge_lst:\n",
    "    p = calc_p(d,fudge,typ=\"gauss\")\n",
    "    p_values = p[8][\"p\"].copy()\n",
    "    p_values.extend(p[13][\"p\"])\n",
    "    T_13.append(calc_T(p[8][\"p\"],bns))\n",
    "    Tabove_13.append(calc_Tabove(p[8][\"p\"],bns))\n",
    "    \n",
    "print(\"Done\")"
   ]
  },
  {
   "cell_type": "code",
   "execution_count": null,
   "id": "cooperative-elizabeth",
   "metadata": {},
   "outputs": [],
   "source": [
    "plt.plot(fudge_lst, T_13)\n",
    "plt.xlabel('fudge factor')\n",
    "plt.ylabel('T')\n",
    "plt.title(\"T value for 13 TeV\")\n",
    "savefig(\"T_13.png\")\n",
    "show()\n",
    "print(\"minimum: %.3f at %.3f\" %(min(T_13), fudge_lst[np.argmin(T_13)]))\n",
    "\n",
    "fudge = 0.5\n",
    "\n",
    "p = calc_p(d,fudge,typ=\"gauss\")\n",
    "p_values = p[8][\"p\"].copy()\n",
    "p_values.extend(p[13][\"p\"])\n",
    "plt.hist([p[13][\"p\"],p[8][\"p\"]],bins=bns,stacked=True,label=[\"13 TeV\", \"8 TeV\"])\n",
    "plt.title( f\"minimizing T value for 13 TeV results, fudge = {fudge:.2f}\" )\n",
    "plt.xlabel('p-values')\n",
    "plt.ylabel('# of signal regions')\n",
    "plt.legend()\n",
    "savefig(\"pvalues_13.png\")\n",
    "show()\n",
    "\n",
    "plt.plot(fudge_lst, Tabove_13)\n",
    "plt.xlabel('fudge factor')\n",
    "plt.ylabel('T above 0.5')\n",
    "plt.title(\"T value above 0.5 for 13 TeV\")\n",
    "savefig(\"T_gt05_13.png\")\n",
    "show()\n",
    "print(\"minimum: %.3f at %.3f\" %(min(Tabove_13), fudge_lst[np.argmin(Tabove_13)]))\n",
    "\n",
    "fudge = 0.5\n",
    "\n",
    "p = calc_p(d,fudge,typ=\"gauss\")\n",
    "p_values = p[8][\"p\"].copy()\n",
    "p_values.extend(p[13][\"p\"])\n",
    "plt.hist([p[13][\"p\"],p[8][\"p\"]],bins=bns,stacked=True,label=[\"13 TeV\", \"8 TeV\"])\n",
    "plt.title( f\"minimizing T value above 0.5 for 13 TeV results, fudge = {fudge:.2f}\" )\n",
    "plt.xlabel('p-values')\n",
    "plt.ylabel('# of signal regions')\n",
    "plt.legend()\n",
    "savefig(\"pvalues_gt05_13.png\")\n",
    "show()"
   ]
  },
  {
   "cell_type": "code",
   "execution_count": null,
   "id": "nutritional-honduras",
   "metadata": {},
   "outputs": [],
   "source": [
    "p = calc_p(d,fudge=1.,typ=\"gauss\")\n",
    "\n",
    "p_lst = p[8][\"p\"].copy()\n",
    "p_lst.extend(p[13][\"p\"])\n",
    "id_lst = p[8][\"id\"].copy()\n",
    "id_lst.extend(p[13][\"id\"])\n",
    "\n",
    "p_sort, id_sort = zip(*sorted(zip(p_lst,id_lst)))"
   ]
  },
  {
   "cell_type": "code",
   "execution_count": null,
   "id": "collective-peninsula",
   "metadata": {},
   "outputs": [],
   "source": [
    "print(\"lowest:\\n\")\n",
    "print(tabulate(list(zip(id_sort[:10],p_sort[:10])),headers=[\"AnaID\", \"p value\"], tablefmt='orgtbl'))\n",
    "    \n",
    "print(\"\\nhighest:\\n\")\n",
    "print(tabulate(list(zip(id_sort[-10:],p_sort[-10:])),headers=[\"AnaID\", \"p value\"], tablefmt='orgtbl'))"
   ]
  },
  {
   "cell_type": "code",
   "execution_count": null,
   "id": "hairy-economy",
   "metadata": {},
   "outputs": [],
   "source": [
    "atlas_count = 0\n",
    "cms_count = 0\n",
    "em_count = 0\n",
    "ul_count = 0\n",
    "\n",
    "for key in data.keys():\n",
    "    if \"ATLAS\" in key:\n",
    "        atlas_count += 1\n",
    "    if \"CMS\" in key:\n",
    "        cms_count += 1\n",
    "    if \":ul:\" not in key:\n",
    "        em_count += 1\n",
    "    if \":ul:\" in key:\n",
    "        ul_count += 1\n",
    "        \n",
    "print( f\"{atlas_count} ATLAS, {cms_count} CMS, {em_count} EMs, {ul_count} ULs\" )"
   ]
  },
  {
   "cell_type": "code",
   "execution_count": null,
   "id": "7e3cc9bc-3b07-45e7-b450-6966cb72411c",
   "metadata": {},
   "outputs": [],
   "source": []
  }
 ],
 "metadata": {
  "kernelspec": {
   "display_name": "Python 3 (ipykernel)",
   "language": "python",
   "name": "python3"
  },
  "language_info": {
   "codemirror_mode": {
    "name": "ipython",
    "version": 3
   },
   "file_extension": ".py",
   "mimetype": "text/x-python",
   "name": "python",
   "nbconvert_exporter": "python",
   "pygments_lexer": "ipython3",
   "version": "3.13.3"
  }
 },
 "nbformat": 4,
 "nbformat_minor": 5
}
