{
 "cells": [
  {
   "cell_type": "code",
   "execution_count": 1,
   "metadata": {},
   "outputs": [],
   "source": [
    "import numpy as np\n",
    "import itertools\n",
    "import os\n",
    "import pyslha"
   ]
  },
  {
   "cell_type": "code",
   "execution_count": 2,
   "metadata": {},
   "outputs": [],
   "source": [
    "mHSCP = np.linspace(25.,3000.,100)"
   ]
  },
  {
   "cell_type": "code",
   "execution_count": 3,
   "metadata": {},
   "outputs": [],
   "source": [
    "# columns = ('msl3','Wsl3')\n",
    "columns = ['msl3']\n",
    "outputFile = 'THSCPM1b_pts_validation.txt'\n",
    "header = '%19s'*len(columns) %tuple(columns)\n",
    "header = header[3:]\n",
    "np.savetxt(outputFile,mHSCP,header=header,fmt = ['     %1.7e']*len(columns))"
   ]
  },
  {
   "cell_type": "code",
   "execution_count": 4,
   "metadata": {},
   "outputs": [],
   "source": [
    "widths = np.logspace(-25,-15,30)\n",
    "\n",
    "pts = list(itertools.product(mHSCP,widths))\n",
    "template = 'THSCPM1b_template.slha'\n",
    "slhaData = pyslha.readSLHAFile(template)\n",
    "for mass,width in pts: \n",
    "    newFile = './slha/THSCPM1b_%1.0f_%1.2e.slha' %(mass,width)\n",
    "    slhaData.blocks['MASS'][1000015] = mass\n",
    "    slhaData.decays[1000015].totalwidth = width\n",
    "    with open(newFile,'w') as f:\n",
    "        f.write(pyslha.writeSLHA(slhaData,ignorenobr=True,precision=5))\n"
   ]
  }
 ],
 "metadata": {
  "kernelspec": {
   "display_name": "Python 3",
   "language": "python",
   "name": "python3"
  },
  "language_info": {
   "codemirror_mode": {
    "name": "ipython",
    "version": 3
   },
   "file_extension": ".py",
   "mimetype": "text/x-python",
   "name": "python",
   "nbconvert_exporter": "python",
   "pygments_lexer": "ipython3",
   "version": "3.8.2"
  }
 },
 "nbformat": 4,
 "nbformat_minor": 4
}
