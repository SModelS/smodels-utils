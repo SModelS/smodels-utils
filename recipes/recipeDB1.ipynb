{
 "metadata": {
  "name": "",
  "signature": "sha256:3146067cd5021b2e80093a6ab6f8ca63986fa037637a9b699680b8754db22df0"
 },
 "nbformat": 3,
 "nbformat_minor": 0,
 "worksheets": [
  {
   "cells": [
    {
     "cell_type": "heading",
     "level": 1,
     "metadata": {},
     "source": [
      "Recipe #TLS1: the database browser"
     ]
    },
    {
     "cell_type": "code",
     "collapsed": false,
     "input": [
      "import setPath\n",
      "from smodels_tools.helper import databaseBrowser"
     ],
     "language": "python",
     "metadata": {},
     "outputs": [],
     "prompt_number": 1
    },
    {
     "cell_type": "code",
     "collapsed": false,
     "input": [
      "#instantiate browser \n",
      "browser=databaseBrowser.Browser()"
     ],
     "language": "python",
     "metadata": {},
     "outputs": [],
     "prompt_number": 2
    },
    {
     "cell_type": "code",
     "collapsed": false,
     "input": [
      "#get a list of all runs\n",
      "browser.getRuns()"
     ],
     "language": "python",
     "metadata": {},
     "outputs": [
      {
       "metadata": {},
       "output_type": "pyout",
       "prompt_number": 3,
       "text": [
        "['8TeV', 'RPV8', 'ATLAS8TeV', '2012', '2011', 'RPV7']"
       ]
      }
     ],
     "prompt_number": 3
    },
    {
     "cell_type": "code",
     "collapsed": false,
     "input": [
      "# get a list, of all analyses, cut at third\n",
      "browser.getAnalyses()[:3]"
     ],
     "language": "python",
     "metadata": {},
     "outputs": [
      {
       "metadata": {},
       "output_type": "pyout",
       "prompt_number": 4,
       "text": [
        "['DileptonicStop8TeV', 'SUS13011', 'SUS13009']"
       ]
      }
     ],
     "prompt_number": 4
    },
    {
     "cell_type": "code",
     "collapsed": false,
     "input": [
      "# what topologies does SUS13011 have results for?\n",
      "browser.getTopologies(None,\"SUS13011\")"
     ],
     "language": "python",
     "metadata": {},
     "outputs": [
      {
       "metadata": {},
       "output_type": "pyout",
       "prompt_number": 5,
       "text": [
        "['T2tt', 'T2tt_offshelltop', 'T6bbWW']"
       ]
      }
     ],
     "prompt_number": 5
    },
    {
     "cell_type": "code",
     "collapsed": false,
     "input": [
      "# get a specific result\n",
      "res=browser.expResult(\"SUS13011\",\"T2tt\")"
     ],
     "language": "python",
     "metadata": {},
     "outputs": [],
     "prompt_number": 6
    },
    {
     "cell_type": "code",
     "collapsed": false,
     "input": [
      "# and print its exclusion lines\n",
      "print res.exclusionLines()"
     ],
     "language": "python",
     "metadata": {},
     "outputs": [
      {
       "output_type": "stream",
       "stream": "stdout",
       "text": [
        "{0: <ROOT.TGraph object (\"exclusion_T2tt\") at 0x413b110>, 1: <ROOT.TObject object at 0x(nil)>, -1: <ROOT.TObject object at 0x(nil)>}\n"
       ]
      }
     ],
     "prompt_number": 7
    },
    {
     "cell_type": "code",
     "collapsed": false,
     "input": [],
     "language": "python",
     "metadata": {},
     "outputs": []
    }
   ],
   "metadata": {}
  }
 ]
}